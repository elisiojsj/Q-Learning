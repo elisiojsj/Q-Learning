{
 "cells": [
  {
   "cell_type": "code",
   "execution_count": 1,
   "metadata": {},
   "outputs": [],
   "source": [
    "import torch\n",
    "import torch.nn as nn\n",
    "import torch.nn.functional as F\n",
    "\n",
    "import numpy as np\n",
    "import matplotlib.pyplot as plt\n",
    "from scipy.signal import savgol_filter\n",
    "\n",
    "import gym"
   ]
  },
  {
   "cell_type": "code",
   "execution_count": 2,
   "metadata": {},
   "outputs": [],
   "source": [
    "# Neural Network for both the actor and the critic.\n",
    "class ActorCriticNN(nn.Module):\n",
    "    def __init__(self, input_dim, output_dim):\n",
    "        super(ActorCriticNN, self).__init__()\n",
    "        \n",
    "        self.network = nn.Sequential(\n",
    "            nn.Linear(input_dim, 256),\n",
    "            nn.ReLU(),\n",
    "            nn.Linear(256, 512),\n",
    "            nn.ReLU(),\n",
    "            nn.Linear(512, output_dim),\n",
    "        )\n",
    "     \n",
    "    def forward(self, observation):\n",
    "        return self.network(observation)"
   ]
  },
  {
   "cell_type": "code",
   "execution_count": 3,
   "metadata": {},
   "outputs": [
    {
     "name": "stderr",
     "output_type": "stream",
     "text": [
      "/home/elisio/anaconda3/lib/python3.7/site-packages/gym/logger.py:30: UserWarning: \u001b[33mWARN: Box bound precision lowered by casting to float32\u001b[0m\n",
      "  warnings.warn(colorize('%s: %s'%('WARN', msg % args), 'yellow'))\n"
     ]
    },
    {
     "name": "stdout",
     "output_type": "stream",
     "text": [
      "Possible actions: 4\n",
      "Possible states: Box(8,)\n"
     ]
    },
    {
     "data": {
      "text/plain": [
       "<matplotlib.image.AxesImage at 0x7f6791467d10>"
      ]
     },
     "execution_count": 3,
     "metadata": {},
     "output_type": "execute_result"
    },
    {
     "data": {
      "image/png": "[encoded data removed]",
      "text/plain": [
       "<Figure size 432x288 with 1 Axes>"
      ]
     },
     "metadata": {
      "needs_background": "light"
     },
     "output_type": "display_data"
    }
   ],
   "source": [
    "env = gym.make('LunarLander-v2')\n",
    "\n",
    "print(\"Possible actions:\", env.action_space.n)\n",
    "print(\"Possible states:\", env.observation_space)\n",
    "\n",
    "env.reset()\n",
    "plt.imshow(env.render(\"rgb_array\"))"
   ]
  },
  {
   "cell_type": "code",
   "execution_count": 4,
   "metadata": {},
   "outputs": [
    {
     "name": "stdout",
     "output_type": "stream",
     "text": [
      "Device to be used: cuda\n"
     ]
    }
   ],
   "source": [
    "device = torch.device(\"cuda\" if torch.cuda.is_available() else \"cpu\")\n",
    "print(\"Device to be used:\", device)"
   ]
  },
  {
   "cell_type": "code",
   "execution_count": 5,
   "metadata": {},
   "outputs": [],
   "source": [
    "# Define the actor and the critic networks\n",
    "# The actor will have as number of outputs the number of actions the agent can take in the env.\n",
    "actor = ActorCriticNN(env.observation_space.shape[0], env.action_space.n).to(device)\n",
    "\n",
    "# The critic will have as number of outputs only 1 as it will update the Q value function.\n",
    "critic = ActorCriticNN(env.observation_space.shape[0], 1).to(device)"
   ]
  },
  {
   "cell_type": "code",
   "execution_count": 6,
   "metadata": {},
   "outputs": [],
   "source": [
    "# Hyperparameters\n",
    "learning_rate = 0.00001\n",
    "alpha = 0.99 # step-size\n",
    "print_rate = 50 # rate that the output will be printed"
   ]
  },
  {
   "cell_type": "code",
   "execution_count": 7,
   "metadata": {},
   "outputs": [],
   "source": [
    "# Adam optimizer with the same learning_rate for both networks\n",
    "actor_optimizer = torch.optim.Adam(actor.parameters(), lr=learning_rate)\n",
    "critic_optimizer = torch.optim.Adam(critic.parameters(), lr=learning_rate)"
   ]
  },
  {
   "cell_type": "code",
   "execution_count": 8,
   "metadata": {},
   "outputs": [],
   "source": [
    "# This function is the core of the Actor-Critic method.\n",
    "def update_networks(new_state, reward, done, state, action_prob):\n",
    "    # create a not_done to make the math easier\n",
    "    not_done = 1 - int(done)\n",
    "    \n",
    "    # transform to pytorch tensors\n",
    "    new_state = torch.tensor(new_state, dtype=torch.float32, device=device)\n",
    "    reward = torch.tensor(reward, dtype=torch.float32, device=device)\n",
    "\n",
    "    # calculate the Q-values, through the critic network, given the current state and the new state\n",
    "    qvalue = critic(state)\n",
    "    qvalue_new = critic(new_state)\n",
    "    \n",
    "    # calculate td_error, on a terminal state only the value of reward is considered (not_done role)\n",
    "    td_error = (reward + alpha*qvalue_new*not_done) - qvalue\n",
    "    # objective function to maximise\n",
    "    objective = -1*torch.log(action_prob)*td_error\n",
    "    \n",
    "    # calculate both set of gradients\n",
    "    (torch.pow(td_error, 2) + objective).backward()\n",
    "    \n",
    "    # update parameters for both networks\n",
    "    actor_optimizer.step()\n",
    "    critic_optimizer.step()\n",
    "    \n",
    "    # set gradients to zero\n",
    "    actor_optimizer.zero_grad()\n",
    "    critic_optimizer.zero_grad()"
   ]
  },
  {
   "cell_type": "code",
   "execution_count": 9,
   "metadata": {},
   "outputs": [],
   "source": [
    "print_rate = 10 # rate that the output will be printed\n",
    "\n",
    "rewards_history = []\n",
    "\n",
    "def train(env, n_episodes=30):\n",
    "    \n",
    "    for episode in range(n_episodes):\n",
    "        done = False\n",
    "        state = env.reset()\n",
    "        rewards_episode = 0\n",
    "        \n",
    "        while not done:\n",
    "            # convert state to a Pytorch tensor\n",
    "            state = torch.tensor(state, dtype=torch.float32, device=device)\n",
    "            \n",
    "            # calculate the probabilities of actions returned from the actor network (given the state)\n",
    "            action_probs = F.softmax(actor(state))\n",
    "            \n",
    "            # sample an action of a categorical distribution of the probabilities of actions\n",
    "            # https://pytorch.org/docs/stable/distributions.html\n",
    "            action = torch.distributions.Categorical(action_probs).sample()\n",
    "            \n",
    "            new_state, reward, done, info = env.step(int(action))\n",
    "            \n",
    "            # the networks are updated at each step as we're using a TD learning algorithm\n",
    "            update_networks(new_state, reward, done, state, action_probs[int(action)])\n",
    "            \n",
    "            state = new_state\n",
    "            rewards_episode += reward\n",
    "        \n",
    "        rewards_history.append(rewards_episode)\n",
    "        \n",
    "        if episode%print_rate == 0:\n",
    "            print(\"Episode {} \\t rewards(mean):{:.4f}\".format(episode, np.mean(rewards_history[-print_rate:]))) "
   ]
  },
  {
   "cell_type": "code",
   "execution_count": 10,
   "metadata": {},
   "outputs": [
    {
     "name": "stderr",
     "output_type": "stream",
     "text": [
      "/home/elisio/anaconda3/lib/python3.7/site-packages/ipykernel_launcher.py:17: UserWarning: Implicit dimension choice for softmax has been deprecated. Change the call to include dim=X as an argument.\n"
     ]
    },
    {
     "name": "stdout",
     "output_type": "stream",
     "text": [
      "Episode 0 \t rewards(mean):-298.9909\n",
      "Episode 10 \t rewards(mean):-212.5415\n",
      "Episode 20 \t rewards(mean):-177.9325\n",
      "Episode 30 \t rewards(mean):-184.6190\n",
      "Episode 40 \t rewards(mean):-151.8415\n",
      "Episode 50 \t rewards(mean):-161.2276\n",
      "Episode 60 \t rewards(mean):-156.4041\n",
      "Episode 70 \t rewards(mean):-150.4226\n",
      "Episode 80 \t rewards(mean):-234.5901\n",
      "Episode 90 \t rewards(mean):-222.3339\n",
      "Episode 100 \t rewards(mean):-228.5031\n",
      "Episode 110 \t rewards(mean):-144.7573\n",
      "Episode 120 \t rewards(mean):-174.6585\n",
      "Episode 130 \t rewards(mean):-197.7342\n",
      "Episode 140 \t rewards(mean):-241.0154\n",
      "Episode 150 \t rewards(mean):-187.4543\n",
      "Episode 160 \t rewards(mean):-157.4569\n",
      "Episode 170 \t rewards(mean):-195.2890\n",
      "Episode 180 \t rewards(mean):-216.5302\n",
      "Episode 190 \t rewards(mean):-276.7028\n",
      "Episode 200 \t rewards(mean):-204.5073\n",
      "Episode 210 \t rewards(mean):-240.1690\n",
      "Episode 220 \t rewards(mean):-238.5970\n",
      "Episode 230 \t rewards(mean):-271.8745\n",
      "Episode 240 \t rewards(mean):-172.3591\n",
      "Episode 250 \t rewards(mean):-206.2992\n",
      "Episode 260 \t rewards(mean):-201.3286\n",
      "Episode 270 \t rewards(mean):-225.5484\n",
      "Episode 280 \t rewards(mean):-212.3373\n",
      "Episode 290 \t rewards(mean):-164.0764\n",
      "Episode 300 \t rewards(mean):-88.7743\n",
      "Episode 310 \t rewards(mean):-162.1123\n",
      "Episode 320 \t rewards(mean):-106.2586\n",
      "Episode 330 \t rewards(mean):-145.1055\n",
      "Episode 340 \t rewards(mean):-217.8765\n",
      "Episode 350 \t rewards(mean):-155.9362\n",
      "Episode 360 \t rewards(mean):-152.7260\n",
      "Episode 370 \t rewards(mean):-131.9425\n",
      "Episode 380 \t rewards(mean):-163.0907\n",
      "Episode 390 \t rewards(mean):-140.5558\n",
      "Episode 400 \t rewards(mean):-139.8628\n",
      "Episode 410 \t rewards(mean):-88.4687\n",
      "Episode 420 \t rewards(mean):-149.5200\n",
      "Episode 430 \t rewards(mean):-124.9650\n",
      "Episode 440 \t rewards(mean):-153.9869\n",
      "Episode 450 \t rewards(mean):-131.9053\n",
      "Episode 460 \t rewards(mean):-208.6110\n",
      "Episode 470 \t rewards(mean):-92.0556\n",
      "Episode 480 \t rewards(mean):-77.2737\n",
      "Episode 490 \t rewards(mean):-98.8161\n",
      "Episode 500 \t rewards(mean):-110.4208\n",
      "Episode 510 \t rewards(mean):-158.7219\n",
      "Episode 520 \t rewards(mean):-153.1087\n",
      "Episode 530 \t rewards(mean):-131.8941\n",
      "Episode 540 \t rewards(mean):-160.5377\n",
      "Episode 550 \t rewards(mean):-163.8411\n",
      "Episode 560 \t rewards(mean):-154.3569\n",
      "Episode 570 \t rewards(mean):-154.5774\n",
      "Episode 580 \t rewards(mean):-59.0576\n",
      "Episode 590 \t rewards(mean):-132.6699\n",
      "Episode 600 \t rewards(mean):-109.3922\n",
      "Episode 610 \t rewards(mean):-82.2624\n",
      "Episode 620 \t rewards(mean):-93.3649\n",
      "Episode 630 \t rewards(mean):-86.0816\n",
      "Episode 640 \t rewards(mean):-95.4221\n",
      "Episode 650 \t rewards(mean):-86.2890\n",
      "Episode 660 \t rewards(mean):-174.8069\n",
      "Episode 670 \t rewards(mean):-131.4365\n",
      "Episode 680 \t rewards(mean):-86.5151\n",
      "Episode 690 \t rewards(mean):-45.8879\n",
      "Episode 700 \t rewards(mean):-91.3358\n",
      "Episode 710 \t rewards(mean):-123.4859\n",
      "Episode 720 \t rewards(mean):-56.4177\n",
      "Episode 730 \t rewards(mean):-51.1573\n",
      "Episode 740 \t rewards(mean):-44.7248\n",
      "Episode 750 \t rewards(mean):-164.6001\n",
      "Episode 760 \t rewards(mean):-113.3539\n",
      "Episode 770 \t rewards(mean):-89.4117\n",
      "Episode 780 \t rewards(mean):-112.9627\n",
      "Episode 790 \t rewards(mean):-71.7443\n",
      "Episode 800 \t rewards(mean):-87.9800\n",
      "Episode 810 \t rewards(mean):-101.4802\n",
      "Episode 820 \t rewards(mean):-50.2474\n",
      "Episode 830 \t rewards(mean):-101.6165\n",
      "Episode 840 \t rewards(mean):-118.4344\n",
      "Episode 850 \t rewards(mean):-100.6440\n",
      "Episode 860 \t rewards(mean):-40.6035\n",
      "Episode 870 \t rewards(mean):-96.0950\n",
      "Episode 880 \t rewards(mean):-109.2269\n",
      "Episode 890 \t rewards(mean):-66.4782\n",
      "Episode 900 \t rewards(mean):-97.5845\n",
      "Episode 910 \t rewards(mean):25.6945\n",
      "Episode 920 \t rewards(mean):-47.4336\n",
      "Episode 930 \t rewards(mean):-33.6442\n",
      "Episode 940 \t rewards(mean):-9.1765\n",
      "Episode 950 \t rewards(mean):3.2917\n",
      "Episode 960 \t rewards(mean):-57.8300\n",
      "Episode 970 \t rewards(mean):-10.6595\n",
      "Episode 980 \t rewards(mean):-39.7440\n",
      "Episode 990 \t rewards(mean):-47.8856\n",
      "Episode 1000 \t rewards(mean):-19.3062\n",
      "Episode 1010 \t rewards(mean):-58.3873\n",
      "Episode 1020 \t rewards(mean):-31.3567\n",
      "Episode 1030 \t rewards(mean):-93.8847\n",
      "Episode 1040 \t rewards(mean):-12.8520\n",
      "Episode 1050 \t rewards(mean):-126.9310\n",
      "Episode 1060 \t rewards(mean):-22.7395\n",
      "Episode 1070 \t rewards(mean):-81.5468\n",
      "Episode 1080 \t rewards(mean):-56.6191\n",
      "Episode 1090 \t rewards(mean):-21.4610\n",
      "Episode 1100 \t rewards(mean):-30.5504\n",
      "Episode 1110 \t rewards(mean):-1.4222\n",
      "Episode 1120 \t rewards(mean):-34.2627\n",
      "Episode 1130 \t rewards(mean):-56.7138\n",
      "Episode 1140 \t rewards(mean):-27.3925\n",
      "Episode 1150 \t rewards(mean):-36.6250\n",
      "Episode 1160 \t rewards(mean):77.2007\n",
      "Episode 1170 \t rewards(mean):-18.2511\n",
      "Episode 1180 \t rewards(mean):2.2162\n",
      "Episode 1190 \t rewards(mean):-50.3559\n",
      "Episode 1200 \t rewards(mean):-52.4571\n",
      "Episode 1210 \t rewards(mean):21.9015\n",
      "Episode 1220 \t rewards(mean):76.2576\n",
      "Episode 1230 \t rewards(mean):48.1337\n",
      "Episode 1240 \t rewards(mean):47.7114\n",
      "Episode 1250 \t rewards(mean):2.4282\n",
      "Episode 1260 \t rewards(mean):-46.3270\n",
      "Episode 1270 \t rewards(mean):-18.5376\n",
      "Episode 1280 \t rewards(mean):28.7204\n",
      "Episode 1290 \t rewards(mean):69.7907\n",
      "Episode 1300 \t rewards(mean):-13.8665\n",
      "Episode 1310 \t rewards(mean):106.8342\n",
      "Episode 1320 \t rewards(mean):27.8533\n",
      "Episode 1330 \t rewards(mean):11.5929\n",
      "Episode 1340 \t rewards(mean):45.7311\n",
      "Episode 1350 \t rewards(mean):50.9270\n",
      "Episode 1360 \t rewards(mean):-42.8232\n",
      "Episode 1370 \t rewards(mean):45.6051\n",
      "Episode 1380 \t rewards(mean):-18.3861\n",
      "Episode 1390 \t rewards(mean):19.8544\n",
      "Episode 1400 \t rewards(mean):-72.8212\n",
      "Episode 1410 \t rewards(mean):104.4469\n",
      "Episode 1420 \t rewards(mean):-4.1927\n",
      "Episode 1430 \t rewards(mean):41.4126\n",
      "Episode 1440 \t rewards(mean):4.3298\n",
      "Episode 1450 \t rewards(mean):38.9630\n",
      "Episode 1460 \t rewards(mean):20.7973\n",
      "Episode 1470 \t rewards(mean):22.1068\n",
      "Episode 1480 \t rewards(mean):49.3872\n",
      "Episode 1490 \t rewards(mean):50.1172\n",
      "Episode 1500 \t rewards(mean):43.7111\n",
      "Episode 1510 \t rewards(mean):121.4745\n",
      "Episode 1520 \t rewards(mean):9.7893\n",
      "Episode 1530 \t rewards(mean):30.6267\n",
      "Episode 1540 \t rewards(mean):94.6299\n",
      "Episode 1550 \t rewards(mean):-16.1254\n",
      "Episode 1560 \t rewards(mean):96.1717\n",
      "Episode 1570 \t rewards(mean):87.8075\n",
      "Episode 1580 \t rewards(mean):-96.3530\n",
      "Episode 1590 \t rewards(mean):-33.2116\n",
      "Episode 1600 \t rewards(mean):48.0259\n",
      "Episode 1610 \t rewards(mean):41.4340\n",
      "Episode 1620 \t rewards(mean):-16.5557\n",
      "Episode 1630 \t rewards(mean):8.2001\n",
      "Episode 1640 \t rewards(mean):23.1264\n",
      "Episode 1650 \t rewards(mean):-2.1193\n",
      "Episode 1660 \t rewards(mean):28.6117\n",
      "Episode 1670 \t rewards(mean):39.7608\n",
      "Episode 1680 \t rewards(mean):99.9417\n",
      "Episode 1690 \t rewards(mean):39.4111\n",
      "Episode 1700 \t rewards(mean):123.0112\n",
      "Episode 1710 \t rewards(mean):208.3228\n",
      "Episode 1720 \t rewards(mean):127.1620\n",
      "Episode 1730 \t rewards(mean):87.7334\n",
      "Episode 1740 \t rewards(mean):82.5922\n",
      "Episode 1750 \t rewards(mean):96.0731\n",
      "Episode 1760 \t rewards(mean):56.9111\n",
      "Episode 1770 \t rewards(mean):123.4927\n",
      "Episode 1780 \t rewards(mean):63.7532\n",
      "Episode 1790 \t rewards(mean):69.6643\n",
      "Episode 1800 \t rewards(mean):64.1556\n",
      "Episode 1810 \t rewards(mean):83.6038\n",
      "Episode 1820 \t rewards(mean):137.2051\n",
      "Episode 1830 \t rewards(mean):61.3770\n",
      "Episode 1840 \t rewards(mean):106.2763\n",
      "Episode 1850 \t rewards(mean):99.7482\n",
      "Episode 1860 \t rewards(mean):48.8759\n",
      "Episode 1870 \t rewards(mean):43.2647\n",
      "Episode 1880 \t rewards(mean):112.7765\n",
      "Episode 1890 \t rewards(mean):109.2077\n",
      "Episode 1900 \t rewards(mean):61.2323\n",
      "Episode 1910 \t rewards(mean):37.8800\n",
      "Episode 1920 \t rewards(mean):67.1472\n",
      "Episode 1930 \t rewards(mean):50.4581\n",
      "Episode 1940 \t rewards(mean):72.6764\n",
      "Episode 1950 \t rewards(mean):104.1682\n",
      "Episode 1960 \t rewards(mean):69.1145\n",
      "Episode 1970 \t rewards(mean):72.2897\n",
      "Episode 1980 \t rewards(mean):44.0783\n",
      "Episode 1990 \t rewards(mean):61.4308\n"
     ]
    }
   ],
   "source": [
    "train(env, 2000)"
   ]
  },
  {
   "cell_type": "code",
   "execution_count": 11,
   "metadata": {},
   "outputs": [
    {
     "data": {
      "image/png": "[encoded data removed]",
      "text/plain": [
       "<Figure size 432x288 with 1 Axes>"
      ]
     },
     "metadata": {
      "needs_background": "light"
     },
     "output_type": "display_data"
    }
   ],
   "source": [
    "plt.plot(savgol_filter(rewards_history, 99, 3))\n",
    "plt.ylabel('Reward')\n",
    "plt.xlabel('Episode')\n",
    "plt.show()"
   ]
  },
  {
   "cell_type": "code",
   "execution_count": 12,
   "metadata": {},
   "outputs": [],
   "source": [
    "# save models\n",
    "torch.save(actor.state_dict(), \"./agents/agent_actor_lunlander.pt\")\n",
    "torch.save(critic.state_dict(), \"./agents/agent_critic_lunlander.pt\")"
   ]
  }
 ],
 "metadata": {
  "kernelspec": {
   "display_name": "Python 3",
   "language": "python",
   "name": "python3"
  },
  "language_info": {
   "codemirror_mode": {
    "name": "ipython",
    "version": 3
   },
   "file_extension": ".py",
   "mimetype": "text/x-python",
   "name": "python",
   "nbconvert_exporter": "python",
   "pygments_lexer": "ipython3",
   "version": "3.7.4"
  }
 },
 "nbformat": 4,
 "nbformat_minor": 4
}
