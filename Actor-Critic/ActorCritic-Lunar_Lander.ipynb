{
 "cells": [
  {
   "cell_type": "code",
   "execution_count": 1,
   "metadata": {},
   "outputs": [],
   "source": [
    "import torch\n",
    "import torch.nn as nn\n",
    "import torch.nn.functional as F\n",
    "\n",
    "import numpy as np\n",
    "import matplotlib.pyplot as plt\n",
    "from scipy.signal import savgol_filter\n",
    "\n",
    "import gym"
   ]
  },
  {
   "cell_type": "code",
   "execution_count": 2,
   "metadata": {},
   "outputs": [],
   "source": [
    "# Neural Network for both the actor and the critic.\n",
    "class ActorCriticNN(nn.Module):\n",
    "    def __init__(self, input_dim, output_dim):\n",
    "        super(ActorCriticNN, self).__init__()\n",
    "        \n",
    "        self.network = nn.Sequential(\n",
    "            nn.Linear(input_dim, 256),\n",
    "            nn.ReLU(),\n",
    "            nn.Linear(256, 512),\n",
    "            nn.ReLU(),\n",
    "            nn.Linear(512, output_dim),\n",
    "        )\n",
    "     \n",
    "    def forward(self, observation):\n",
    "        return self.network(observation)"
   ]
  },
  {
   "cell_type": "code",
   "execution_count": 3,
   "metadata": {},
   "outputs": [
    {
     "name": "stderr",
     "output_type": "stream",
     "text": [
      "/home/elisio/anaconda3/lib/python3.7/site-packages/gym/logger.py:30: UserWarning: \u001b[33mWARN: Box bound precision lowered by casting to float32\u001b[0m\n",
      "  warnings.warn(colorize('%s: %s'%('WARN', msg % args), 'yellow'))\n"
     ]
    },
    {
     "name": "stdout",
     "output_type": "stream",
     "text": [
      "Possible actions: 4\n",
      "Possible states: Box(8,)\n"
     ]
    },
    {
     "data": {
      "text/plain": [
       "<matplotlib.image.AxesImage at 0x7f8df986a150>"
      ]
     },
     "execution_count": 3,
     "metadata": {},
     "output_type": "execute_result"
    },
    {
     "data": {
      "image/png": "[encoded data removed]",
      "text/plain": [
       "<Figure size 432x288 with 1 Axes>"
      ]
     },
     "metadata": {
      "needs_background": "light"
     },
     "output_type": "display_data"
    }
   ],
   "source": [
    "env = gym.make('LunarLander-v2')\n",
    "\n",
    "print(\"Possible actions:\", env.action_space.n)\n",
    "print(\"Possible states:\", env.observation_space)\n",
    "\n",
    "env.reset()\n",
    "plt.imshow(env.render(\"rgb_array\"))"
   ]
  },
  {
   "cell_type": "code",
   "execution_count": 4,
   "metadata": {},
   "outputs": [
    {
     "name": "stdout",
     "output_type": "stream",
     "text": [
      "Device to be used: cuda\n"
     ]
    }
   ],
   "source": [
    "device = torch.device(\"cuda\" if torch.cuda.is_available() else \"cpu\")\n",
    "print(\"Device to be used:\", device)"
   ]
  },
  {
   "cell_type": "code",
   "execution_count": 5,
   "metadata": {},
   "outputs": [],
   "source": [
    "# Define the actor and the critic networks\n",
    "# The actor will have as number of outputs the number of actions the agent can take in the env.\n",
    "actor = ActorCriticNN(env.observation_space.shape[0], env.action_space.n).to(device)\n",
    "\n",
    "# The critic will have as number of outputs only 1 as it will update the Q value function.\n",
    "critic = ActorCriticNN(env.observation_space.shape[0], 1).to(device)"
   ]
  },
  {
   "cell_type": "code",
   "execution_count": 6,
   "metadata": {},
   "outputs": [],
   "source": [
    "# Hyperparameters\n",
    "learning_rate = 0.00001\n",
    "alpha = 0.99 # step-size\n",
    "print_rate = 50 # rate that the output will be printed"
   ]
  },
  {
   "cell_type": "code",
   "execution_count": 7,
   "metadata": {},
   "outputs": [],
   "source": [
    "# Adam optimizer with the same learning_rate for both networks\n",
    "actor_optimizer = torch.optim.Adam(actor.parameters(), lr=learning_rate)\n",
    "critic_optimizer = torch.optim.Adam(critic.parameters(), lr=learning_rate)"
   ]
  },
  {
   "cell_type": "code",
   "execution_count": 8,
   "metadata": {},
   "outputs": [],
   "source": [
    "# This function is the core of the Actor-Critic method.\n",
    "def update_networks(new_state, reward, done, state, action_prob):\n",
    "    # create a not_done to make the math easier\n",
    "    not_done = 1 - int(done)\n",
    "    \n",
    "    # transform to pytorch tensors\n",
    "    new_state = torch.tensor(new_state, dtype=torch.float32, device=device)\n",
    "    reward = torch.tensor(reward, dtype=torch.float32, device=device)\n",
    "\n",
    "    # calculate the Q-values, through the critic network, given the current state and the new state\n",
    "    qvalue = critic(state)\n",
    "    qvalue_new = critic(new_state)\n",
    "    \n",
    "    # calculate td_error, on a terminal state only the value of reward is considered (not_done == 0)\n",
    "    # on a non-terminal state both the reward and the discounted reward of the best action of the next state are considered (not_done == 1)\n",
    "    td_error = (reward + alpha*qvalue_new*not_done) - qvalue\n",
    "    # objective function to maximise\n",
    "    objective = -1*torch.log(action_prob)*td_error\n",
    "    \n",
    "    # calculate both set of gradients\n",
    "    (torch.pow(td_error, 2) + objective).backward()\n",
    "    \n",
    "    # update parameters for both networks\n",
    "    actor_optimizer.step()\n",
    "    critic_optimizer.step()\n",
    "    \n",
    "    # set gradients to zero\n",
    "    actor_optimizer.zero_grad()\n",
    "    critic_optimizer.zero_grad()"
   ]
  },
  {
   "cell_type": "code",
   "execution_count": 9,
   "metadata": {},
   "outputs": [],
   "source": [
    "print_rate = 50 # rate that the output will be printed\n",
    "\n",
    "rewards_history = []\n",
    "\n",
    "def train(env, n_episodes=30):\n",
    "    \n",
    "    for episode in range(1, n_episodes+1):\n",
    "        done = False\n",
    "        state = env.reset()\n",
    "        rewards_episode = 0\n",
    "        \n",
    "        while not done:\n",
    "            # convert state to a Pytorch tensor\n",
    "            state = torch.tensor(state, dtype=torch.float32, device=device)\n",
    "            \n",
    "            # calculate the probabilities of actions returned from the actor network (given the state)\n",
    "            action_probs = F.softmax(actor(state))\n",
    "            \n",
    "            # sample an action of a categorical distribution of the probabilities of actions\n",
    "            # https://pytorch.org/docs/stable/distributions.html\n",
    "            action = torch.distributions.Categorical(action_probs).sample()\n",
    "            \n",
    "            new_state, reward, done, info = env.step(int(action))\n",
    "            \n",
    "            # the networks are updated at each step as we're using a TD learning algorithm\n",
    "            update_networks(new_state, reward, done, state, action_probs[int(action)])\n",
    "            \n",
    "            state = new_state\n",
    "            rewards_episode += reward\n",
    "        \n",
    "        rewards_history.append(rewards_episode)\n",
    "        \n",
    "        if episode%print_rate == 0:\n",
    "            print(\"Episode {} \\t rewards(mean):{:.4f}\".format(episode, np.mean(rewards_history[-print_rate:]))) "
   ]
  },
  {
   "cell_type": "code",
   "execution_count": 10,
   "metadata": {},
   "outputs": [
    {
     "name": "stderr",
     "output_type": "stream",
     "text": [
      "/home/elisio/anaconda3/lib/python3.7/site-packages/ipykernel_launcher.py:17: UserWarning: Implicit dimension choice for softmax has been deprecated. Change the call to include dim=X as an argument.\n"
     ]
    },
    {
     "name": "stdout",
     "output_type": "stream",
     "text": [
      "Episode 50 \t rewards(mean):-168.5970\n",
      "Episode 100 \t rewards(mean):-176.9470\n",
      "Episode 150 \t rewards(mean):-216.5230\n",
      "Episode 200 \t rewards(mean):-191.3787\n",
      "Episode 250 \t rewards(mean):-219.2413\n",
      "Episode 300 \t rewards(mean):-214.7470\n",
      "Episode 350 \t rewards(mean):-196.7667\n",
      "Episode 400 \t rewards(mean):-156.7377\n",
      "Episode 450 \t rewards(mean):-147.5315\n",
      "Episode 500 \t rewards(mean):-118.8604\n",
      "Episode 550 \t rewards(mean):-110.7086\n",
      "Episode 600 \t rewards(mean):-114.5574\n",
      "Episode 650 \t rewards(mean):-132.9430\n",
      "Episode 700 \t rewards(mean):-89.8920\n",
      "Episode 750 \t rewards(mean):-67.8145\n",
      "Episode 800 \t rewards(mean):-71.4545\n",
      "Episode 850 \t rewards(mean):-54.1840\n",
      "Episode 900 \t rewards(mean):-22.0107\n",
      "Episode 950 \t rewards(mean):-53.9027\n",
      "Episode 1000 \t rewards(mean):-28.3567\n",
      "Episode 1050 \t rewards(mean):-5.1179\n",
      "Episode 1100 \t rewards(mean):-19.7729\n",
      "Episode 1150 \t rewards(mean):23.1191\n",
      "Episode 1200 \t rewards(mean):-32.7867\n",
      "Episode 1250 \t rewards(mean):17.0409\n",
      "Episode 1300 \t rewards(mean):17.6243\n",
      "Episode 1350 \t rewards(mean):40.9944\n",
      "Episode 1400 \t rewards(mean):30.6892\n",
      "Episode 1450 \t rewards(mean):46.9596\n",
      "Episode 1500 \t rewards(mean):55.8135\n",
      "Episode 1550 \t rewards(mean):58.4063\n",
      "Episode 1600 \t rewards(mean):52.7620\n",
      "Episode 1650 \t rewards(mean):133.6865\n",
      "Episode 1700 \t rewards(mean):98.2500\n",
      "Episode 1750 \t rewards(mean):87.7128\n",
      "Episode 1800 \t rewards(mean):89.0747\n",
      "Episode 1850 \t rewards(mean):129.0466\n",
      "Episode 1900 \t rewards(mean):97.7469\n",
      "Episode 1950 \t rewards(mean):140.0412\n",
      "Episode 2000 \t rewards(mean):105.9239\n",
      "Episode 2050 \t rewards(mean):131.0502\n",
      "Episode 2100 \t rewards(mean):138.4504\n",
      "Episode 2150 \t rewards(mean):129.1613\n",
      "Episode 2200 \t rewards(mean):130.6117\n",
      "Episode 2250 \t rewards(mean):148.1103\n",
      "Episode 2300 \t rewards(mean):156.0804\n",
      "Episode 2350 \t rewards(mean):123.9089\n",
      "Episode 2400 \t rewards(mean):137.8517\n",
      "Episode 2450 \t rewards(mean):127.1119\n",
      "Episode 2500 \t rewards(mean):159.0790\n"
     ]
    }
   ],
   "source": [
    "train(env, 2500)"
   ]
  },
  {
   "cell_type": "code",
   "execution_count": 11,
   "metadata": {
    "scrolled": true
   },
   "outputs": [
    {
     "data": {
      "image/png": "[encoded data removed]",
      "text/plain": [
       "<Figure size 432x288 with 1 Axes>"
      ]
     },
     "metadata": {
      "needs_background": "light"
     },
     "output_type": "display_data"
    }
   ],
   "source": [
    "plt.plot(savgol_filter(rewards_history, 99, 3))\n",
    "plt.ylabel('Reward')\n",
    "plt.xlabel('Episode')\n",
    "plt.show()"
   ]
  },
  {
   "cell_type": "code",
   "execution_count": 12,
   "metadata": {},
   "outputs": [],
   "source": [
    "def validation_test(env, n_episodes=5):\n",
    "# https://discuss.pytorch.org/t/model-eval-vs-with-torch-no-grad/19615/2\n",
    "# https://stackoverflow.com/questions/55627780/evaluating-pytorch-models-with-torch-no-grad-vs-model-eval\n",
    "\n",
    "    actor.eval() # set model to evaluation mode\n",
    "    with torch.no_grad():\n",
    "        for i in range(n_episodes):\n",
    "            state = env.reset()\n",
    "            done = False\n",
    "            reward_sum = 0\n",
    "            while not done:\n",
    "                state = torch.tensor(state, dtype=torch.float32, device=device)\n",
    "                action_probs = F.softmax(actor(state), dim=-1)\n",
    "\n",
    "                action = int(torch.distributions.Categorical(action_probs).sample())\n",
    "\n",
    "                state, reward, done, _ = env.step(action)\n",
    "                reward_sum += reward\n",
    "            print(\"Episode finished. Reward={:.4f}\".format(reward_sum))\n"
   ]
  },
  {
   "cell_type": "code",
   "execution_count": 13,
   "metadata": {},
   "outputs": [
    {
     "name": "stdout",
     "output_type": "stream",
     "text": [
      "Episode finished. Reward=-133.7221\n",
      "Episode finished. Reward=222.4120\n",
      "Episode finished. Reward=220.3992\n",
      "Episode finished. Reward=233.6866\n",
      "Episode finished. Reward=294.3479\n",
      "Episode finished. Reward=248.6100\n",
      "Episode finished. Reward=28.7816\n",
      "Episode finished. Reward=218.1122\n",
      "Episode finished. Reward=195.2243\n"
     ]
    }
   ],
   "source": [
    "# play and record some episodes\n",
    "from gym import wrappers\n",
    "dir_videos = \"./recordings-AC-lunarlander\"\n",
    "\n",
    "env_monitor = wrappers.Monitor(env, directory=dir_videos, force=True)\n",
    "\n",
    "for _ in range(3):\n",
    "    validation_test(env_monitor, n_episodes=3)\n",
    "env_monitor.close()"
   ]
  },
  {
   "cell_type": "code",
   "execution_count": 14,
   "metadata": {},
   "outputs": [],
   "source": [
    "# save models\n",
    "torch.save(actor.state_dict(), \"./agents/agent_actor_lunlander.pt\")\n",
    "torch.save(critic.state_dict(), \"./agents/agent_critic_lunlander.pt\")"
   ]
  }
 ],
 "metadata": {
  "kernelspec": {
   "display_name": "Python 3",
   "language": "python",
   "name": "python3"
  },
  "language_info": {
   "codemirror_mode": {
    "name": "ipython",
    "version": 3
   },
   "file_extension": ".py",
   "mimetype": "text/x-python",
   "name": "python",
   "nbconvert_exporter": "python",
   "pygments_lexer": "ipython3",
   "version": "3.7.4"
  }
 },
 "nbformat": 4,
 "nbformat_minor": 4
}
