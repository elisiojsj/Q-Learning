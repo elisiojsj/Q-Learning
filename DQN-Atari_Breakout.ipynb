{
 "cells": [
  {
   "cell_type": "markdown",
   "metadata": {},
   "source": [
    "## DQN Atari Breakout (using a Convolutional Neural Network)\n",
    "This code is based on the *Lecture 6* from the excelent [course on Reinforcement Learning](http://www0.cs.ucl.ac.uk/staff/d.silver/web/Teaching.html) by David Silver.\n",
    "\n",
    "It implements a Neural Network to learn the Atari game Breakout\n",
    "TD learning with fixed Q-target and Experience Replay."
   ]
  },
  {
   "cell_type": "code",
   "execution_count": 1,
   "metadata": {},
   "outputs": [],
   "source": [
    "import numpy as np\n",
    "import random\n",
    "\n",
    "import torch\n",
    "import torch.nn as nn\n",
    "import torch.nn.functional as F\n",
    "\n",
    "import gym\n",
    "\n",
    "from IPython.display import clear_output\n",
    "from scipy.signal import savgol_filter\n",
    "import matplotlib.pyplot as plt\n",
    "%matplotlib inline"
   ]
  },
  {
   "cell_type": "code",
   "execution_count": 2,
   "metadata": {},
   "outputs": [
    {
     "name": "stdout",
     "output_type": "stream",
     "text": [
      "Number of possible actions: 4\n",
      "Number of possible states: Box(210, 160, 3)\n"
     ]
    },
    {
     "data": {
      "text/plain": [
       "<matplotlib.image.AxesImage at 0x7f7834b731d0>"
      ]
     },
     "execution_count": 2,
     "metadata": {},
     "output_type": "execute_result"
    },
    {
     "data": {
      "image/png": "[encoded data removed]",
      "text/plain": [
       "<Figure size 432x288 with 1 Axes>"
      ]
     },
     "metadata": {
      "needs_background": "light"
     },
     "output_type": "display_data"
    }
   ],
   "source": [
    "\"\"\"\n",
    "\n",
    "\"\"\" \n",
    "\n",
    "ENV_NAME = \"Breakout-v0\"\n",
    "\n",
    "env = gym.make(ENV_NAME)\n",
    "\n",
    "print(\"Number of possible actions:\", env.action_space.n)\n",
    "print(\"Number of possible states:\", env.observation_space)\n",
    "\n",
    "env.reset()\n",
    "plt.imshow(env.render(\"rgb_array\"))"
   ]
  },
  {
   "cell_type": "code",
   "execution_count": 3,
   "metadata": {},
   "outputs": [
    {
     "name": "stdout",
     "output_type": "stream",
     "text": [
      "Observation shape: (4, 64, 64)\n"
     ]
    },
    {
     "name": "stderr",
     "output_type": "stream",
     "text": [
      "/home/elisio/anaconda3/lib/python3.7/site-packages/gym/logger.py:30: UserWarning: \u001b[33mWARN: Box bound precision lowered by casting to float32\u001b[0m\n",
      "  warnings.warn(colorize('%s: %s'%('WARN', msg % args), 'yellow'))\n"
     ]
    }
   ],
   "source": [
    "import atari_wrappers\n",
    "\n",
    "def make_env(seed=None):\n",
    "    env = gym.make(ENV_NAME)\n",
    "    if seed is not None:\n",
    "        env.seed(seed)\n",
    "    env = atari_wrappers.wrap_Breakout(env, episode_life=True, clip_rewards=True, frame_stack=True, scale=False)\n",
    "    return env\n",
    "\n",
    "env = make_env()\n",
    "env.reset()\n",
    "n_actions = env.action_space.n\n",
    "print(\"Observation shape:\", env.observation_space.shape)\n"
   ]
  },
  {
   "cell_type": "code",
   "execution_count": 4,
   "metadata": {},
   "outputs": [
    {
     "name": "stdout",
     "output_type": "stream",
     "text": [
      "Observation shape: (4, 64, 64)\n",
      "\n"
     ]
    },
    {
     "data": {
      "image/png": "[encoded data removed]",
      "text/plain": [
       "<Figure size 432x288 with 1 Axes>"
      ]
     },
     "metadata": {
      "needs_background": "light"
     },
     "output_type": "display_data"
    },
    {
     "data": {
      "image/png": "[encoded data removed]",
      "text/plain": [
       "<Figure size 432x288 with 1 Axes>"
      ]
     },
     "metadata": {
      "needs_background": "light"
     },
     "output_type": "display_data"
    },
    {
     "data": {
      "image/png": "[encoded data removed]",
      "text/plain": [
       "<Figure size 432x288 with 1 Axes>"
      ]
     },
     "metadata": {
      "needs_background": "light"
     },
     "output_type": "display_data"
    },
    {
     "data": {
      "image/png": "[encoded data removed]",
      "text/plain": [
       "<Figure size 432x288 with 1 Axes>"
      ]
     },
     "metadata": {
      "needs_background": "light"
     },
     "output_type": "display_data"
    }
   ],
   "source": [
    "observ, _, _, _ = env.step(env.action_space.sample())\n",
    "\n",
    "print(\"Observation shape:\", env.observation_space.shape)\n",
    "print()\n",
    "plt.title(\"One observation (composed of 4 frames)\")\n",
    "plt.imshow(observ[0])\n",
    "plt.show()\n",
    "plt.imshow(observ[1])\n",
    "plt.show()\n",
    "plt.imshow(observ[2])\n",
    "plt.show()\n",
    "plt.imshow(observ[3])\n",
    "plt.show()\n"
   ]
  },
  {
   "cell_type": "code",
   "execution_count": 5,
   "metadata": {},
   "outputs": [
    {
     "name": "stdout",
     "output_type": "stream",
     "text": [
      "Using device: cuda\n"
     ]
    }
   ],
   "source": [
    "device = torch.device(\"cuda\" if torch.cuda.is_available() else \"cpu\")\n",
    "print(\"Using device:\", device)"
   ]
  },
  {
   "cell_type": "code",
   "execution_count": 6,
   "metadata": {},
   "outputs": [],
   "source": [
    "class DQNAgent(nn.Module):\n",
    "    def __init__(self, n_action_space, n_observation_space, epsilon):\n",
    "        super().__init__()\n",
    "        self.n_action_space = n_action_space\n",
    "        self.n_observation_space = n_observation_space\n",
    "        \n",
    "        self.epsilon = epsilon\n",
    "               \n",
    "        # batch shape = batch_size x 4 x height x width\n",
    "        # the 4 is due to the 4 frames that are processed at the same time\n",
    "        # check MaxAndSkipEnv wrapper above\n",
    "        self.network = torch.nn.Sequential(\n",
    "            torch.nn.Conv2d(in_channels=4, out_channels=16, kernel_size=3, stride=2), #in=4x64x64 out=16x31x31\n",
    "            torch.nn.ReLU(),\n",
    "            torch.nn.Conv2d(in_channels=16, out_channels=32, kernel_size=3, stride=2), #in=16x31x31 out=32x15x15\n",
    "            torch.nn.ReLU(),\n",
    "            torch.nn.Conv2d(in_channels=32, out_channels=64, kernel_size=2, stride=1), #in=32x15x15 out=64x14x14\n",
    "            torch.nn.ReLU(),\n",
    "            torch.nn.Conv2d(in_channels=64, out_channels=128, kernel_size=2, stride=2), #in=64x14x14 out=128x7x7\n",
    "            torch.nn.ReLU(),\n",
    "            torch.nn.Flatten(),\n",
    "            torch.nn.Linear(7*7*128, n_action_space),\n",
    "            torch.nn.ReLU()\n",
    "        )\n",
    "        \n",
    "    def forward(self, state):\n",
    "        \n",
    "        qvalues = self.network(state)\n",
    "\n",
    "        return qvalues\n",
    "    \n",
    "    def get_action_epsilon_greedy(self, qvalues):    \n",
    "        # the action returned either will be random or the greedy\n",
    "        if np.random.rand() < self.epsilon:\n",
    "            action = np.random.choice(self.n_action_space) # return a random action\n",
    "        else: # else, be greedy\n",
    "            action = np.argmax(qvalues)\n",
    "        return action\n",
    "   \n",
    "    def get_greedy_action(self, qvalues):\n",
    "            return np.argmax(qvalues)\n",
    "    \n",
    "    def get_qvalues(self, state):\n",
    "        state = torch.tensor([state], dtype=torch.float, device=device) # add batch dimension (=1) to state\n",
    "        return self.forward(state).cpu().detach().numpy()\n",
    "   "
   ]
  },
  {
   "cell_type": "code",
   "execution_count": 7,
   "metadata": {},
   "outputs": [],
   "source": [
    "def calculate_loss(state_batch, action_batch, new_state_batch, reward_batch, done_batch, discount_factor):\n",
    "    # convert variables to tensor\n",
    "    state_batch = torch.tensor(state_batch, dtype=torch.float, device=device)\n",
    "    new_state_batch = torch.tensor(new_state_batch, dtype=torch.float, device=device)\n",
    "    reward_batch = torch.tensor(reward_batch, dtype=torch.float, device=device)\n",
    "    done_batch = torch.tensor(done_batch, dtype=torch.uint8, device=device)\n",
    "    \n",
    "    not_done_batch = 1 - done_batch\n",
    "\n",
    "    # predict all q-values for current state\n",
    "    all_qvalues_state = agent(state_batch)\n",
    "    #print(state_batch.shape)\n",
    "    #l\n",
    "\n",
    "    # select the q_value for the agent action\n",
    "    qvalue_state = all_qvalues_state[range(len(all_qvalues_state)), action_batch]\n",
    "    \n",
    "    # predict all q-values for the new state \n",
    "    all_qvalues_new_state = target(new_state_batch)\n",
    "\n",
    "    # select the q-value for the new state for the action that maximises it, q'(s',amax)\n",
    "    qvalue_new_state = torch.tensor([torch.max(all_qvalues_new_state[i]).item() for i in range(len(all_qvalues_new_state))],\n",
    "                                     dtype=torch.float32, device=device)\n",
    "    \n",
    "    # for TD target if it's a terminal state (done == 1) the target receives only the value of the reward\n",
    "    # not_done_batch is a vector that when multiplied by the value function does that job.\n",
    "    td_target = reward_batch + discount_factor*qvalue_new_state*not_done_batch\n",
    "\n",
    "    # loss = MSE (mean squared error) of TD error (Q-network - Q-learning targets)\n",
    "    # the detach is a way to fix the target network by not having its gradients computed\n",
    "    loss = F.mse_loss(qvalue_state, td_target.detach())\n",
    "\n",
    "    return loss"
   ]
  },
  {
   "cell_type": "code",
   "execution_count": 8,
   "metadata": {},
   "outputs": [],
   "source": [
    "def populate_memory(memory_size):\n",
    "    \n",
    "    state = env.reset()\n",
    "    total_reward = 0.0\n",
    "    \n",
    "    for _ in range(memory_size):\n",
    "        qvalues = agent.get_qvalues(state) # get qvalues for current state\n",
    "        action = agent.get_action_epsilon_greedy(qvalues) # get action based on e-greedy policy\n",
    "        \n",
    "        new_state, reward, done, info = env.step(action)\n",
    "        \n",
    "        # record current step variables\n",
    "        memory.push(state, action, new_state, reward, done)\n",
    "            \n",
    "        state = env.reset() if done else new_state\n",
    "            \n",
    "        total_reward += reward\n",
    "        \n",
    "    return total_reward"
   ]
  },
  {
   "cell_type": "code",
   "execution_count": 9,
   "metadata": {},
   "outputs": [],
   "source": [
    "def validation_test(env_val, n_episodes=10):\n",
    "    #env_val = gym.make(ENV_NAME).env\n",
    "    #env_val = make_env()\n",
    "    total_reward = []\n",
    "    \n",
    "    for _ in range(n_episodes):\n",
    "        state = env_val.reset()\n",
    "        done = False\n",
    "        ep_rewards = 0.0\n",
    "        \n",
    "        while not done:\n",
    "            qvalues = agent.get_qvalues(state) # get qvalues for current state\n",
    "            action = agent.get_greedy_action(qvalues)\n",
    "            new_state, reward, done, info = env_val.step(action)\n",
    "            state = new_state\n",
    "            \n",
    "            ep_rewards += reward\n",
    "\n",
    "        total_reward.append(ep_rewards)\n",
    "\n",
    "    return np.mean(total_reward)"
   ]
  },
  {
   "cell_type": "code",
   "execution_count": 10,
   "metadata": {},
   "outputs": [],
   "source": [
    "# https://github.com/openai/baselines/blob/master/baselines/deepq/replay_buffer.py\n",
    "class ReplayMemory:\n",
    "    def __init__(self, capacity):\n",
    "        self._capacity = capacity\n",
    "        self._memory = []\n",
    "        self._position = 0\n",
    "    \n",
    "    def push(self, state, action, new_state, reward, done):\n",
    "        if len(self._memory) < self._capacity:\n",
    "            self._memory.append(None)\n",
    "        self._memory[self._position] = (state, action, new_state, reward, done)\n",
    "        self._position = (self._position + 1) % self._capacity\n",
    "        \n",
    "    # pop batchs for each variable\n",
    "    def pop(self, batch_size):\n",
    "        idxes = [random.randint(0, len(self._memory) - 1) for _ in range(batch_size)]\n",
    "        st_all, ac_all, nst_all, rw_all, dn_all = [], [], [], [], []\n",
    "        for i in idxes:\n",
    "            sample = self._memory[i]\n",
    "            st_t, ac_t, nst_t, rw_t, dn_t = sample\n",
    "            # by not copying the data the training speeds up dramatically\n",
    "            st_all.append(np.array(st_t, copy=False)) \n",
    "            ac_all.append(np.array(ac_t, copy=False))\n",
    "            nst_all.append(np.array(nst_t, copy=False))\n",
    "            rw_all.append(np.array(rw_t, copy=False))\n",
    "            dn_all.append(np.array(dn_t, copy=False))\n",
    "        return np.array(st_all), np.array(ac_all), np.array(nst_all), np.array(rw_all), np.array(dn_all)\n",
    "   \n",
    "    def __len__(self):\n",
    "        return len(self._memory)"
   ]
  },
  {
   "cell_type": "code",
   "execution_count": 11,
   "metadata": {},
   "outputs": [],
   "source": [
    "# hyperparameters\n",
    "init_epsilon = 1\n",
    "final_epsilon = 0.1\n",
    "\n",
    "discount_factor = 0.99\n",
    "memory_size = 10000\n",
    "batch_size = 16\n",
    "\n",
    "epochs = 3*1000000\n",
    "\n",
    "update_target_rate = 5000 # rate that the target network will be updated\n",
    "\n",
    "agent = DQNAgent(n_action_space=env.action_space.n, \n",
    "                 n_observation_space=env.observation_space.shape, \n",
    "                 epsilon=init_epsilon).to(device) \n",
    "\n",
    "target = DQNAgent(n_action_space=env.action_space.n, \n",
    "                  n_observation_space=env.observation_space.shape, \n",
    "                  epsilon=init_epsilon).to(device)\n",
    "\n",
    "target.load_state_dict(agent.state_dict())\n",
    "\n",
    "memory = ReplayMemory(memory_size)"
   ]
  },
  {
   "cell_type": "code",
   "execution_count": 12,
   "metadata": {},
   "outputs": [],
   "source": [
    "learning_rate = 0.0001\n",
    "optimiser = torch.optim.Adam(agent.parameters(), lr=learning_rate)"
   ]
  },
  {
   "cell_type": "code",
   "execution_count": 13,
   "metadata": {
    "scrolled": true
   },
   "outputs": [
    {
     "name": "stdout",
     "output_type": "stream",
     "text": [
      "Memory size: 0\n",
      "Memory size: 10000\n",
      "Rewards: 288.0\n"
     ]
    }
   ],
   "source": [
    "# play some games to fill the memory\n",
    "print(\"Memory size:\", len(memory))\n",
    "rewards = populate_memory(memory_size)\n",
    "print(\"Memory size:\", len(memory))\n",
    "print(\"Rewards:\", rewards)"
   ]
  },
  {
   "cell_type": "code",
   "execution_count": 14,
   "metadata": {},
   "outputs": [],
   "source": [
    "def optimize():    \n",
    "    state_batch, action_batch, new_state_batch, reward_batch, done_batch = memory.pop(batch_size)\n",
    "    \n",
    "    loss = calculate_loss(state_batch, action_batch, new_state_batch, reward_batch, done_batch, discount_factor)\n",
    "    \n",
    "    loss.backward() # calculate the sum of gradients\n",
    "    optimiser.step() # update model's parameters\n",
    "    optimiser.zero_grad() # set gradients to zero\n",
    "    \n",
    "    return loss.detach().cpu().item()"
   ]
  },
  {
   "cell_type": "code",
   "execution_count": 15,
   "metadata": {
    "scrolled": false
   },
   "outputs": [
    {
     "name": "stdout",
     "output_type": "stream",
     "text": [
      "Progress 1.00% (Epoch 30000 from 3000000) \t epsilon 0.99\n"
     ]
    },
    {
     "data": {
      "image/png": "[encoded data removed]",
      "text/plain": [
       "<Figure size 1440x432 with 2 Axes>"
      ]
     },
     "metadata": {
      "needs_background": "light"
     },
     "output_type": "display_data"
    },
    {
     "name": "stderr",
     "output_type": "stream",
     "text": [
      "  1%|          | 32394/3000000 [05:46<9:29:23, 86.87it/s] "
     ]
    },
    {
     "ename": "KeyboardInterrupt",
     "evalue": "",
     "output_type": "error",
     "traceback": [
      "\u001b[0;31m---------------------------------------------------------------------------\u001b[0m",
      "\u001b[0;31mKeyboardInterrupt\u001b[0m                         Traceback (most recent call last)",
      "\u001b[0;32m<ipython-input-15-d9416aa4494f>\u001b[0m in \u001b[0;36m<module>\u001b[0;34m\u001b[0m\n\u001b[1;32m     23\u001b[0m     \u001b[0mstate\u001b[0m \u001b[0;34m=\u001b[0m \u001b[0menv\u001b[0m\u001b[0;34m.\u001b[0m\u001b[0mreset\u001b[0m\u001b[0;34m(\u001b[0m\u001b[0;34m)\u001b[0m \u001b[0;32mif\u001b[0m \u001b[0mdone\u001b[0m \u001b[0;32melse\u001b[0m \u001b[0mnew_state\u001b[0m\u001b[0;34m\u001b[0m\u001b[0;34m\u001b[0m\u001b[0m\n\u001b[1;32m     24\u001b[0m \u001b[0;34m\u001b[0m\u001b[0m\n\u001b[0;32m---> 25\u001b[0;31m     \u001b[0mloss\u001b[0m \u001b[0;34m=\u001b[0m \u001b[0moptimize\u001b[0m\u001b[0;34m(\u001b[0m\u001b[0;34m)\u001b[0m\u001b[0;34m\u001b[0m\u001b[0;34m\u001b[0m\u001b[0m\n\u001b[0m\u001b[1;32m     26\u001b[0m \u001b[0;34m\u001b[0m\u001b[0m\n\u001b[1;32m     27\u001b[0m \u001b[0;34m\u001b[0m\u001b[0m\n",
      "\u001b[0;32m<ipython-input-14-22c9bb4680cc>\u001b[0m in \u001b[0;36moptimize\u001b[0;34m()\u001b[0m\n\u001b[1;32m      2\u001b[0m     \u001b[0mstate_batch\u001b[0m\u001b[0;34m,\u001b[0m \u001b[0maction_batch\u001b[0m\u001b[0;34m,\u001b[0m \u001b[0mnew_state_batch\u001b[0m\u001b[0;34m,\u001b[0m \u001b[0mreward_batch\u001b[0m\u001b[0;34m,\u001b[0m \u001b[0mdone_batch\u001b[0m \u001b[0;34m=\u001b[0m \u001b[0mmemory\u001b[0m\u001b[0;34m.\u001b[0m\u001b[0mpop\u001b[0m\u001b[0;34m(\u001b[0m\u001b[0mbatch_size\u001b[0m\u001b[0;34m)\u001b[0m\u001b[0;34m\u001b[0m\u001b[0;34m\u001b[0m\u001b[0m\n\u001b[1;32m      3\u001b[0m \u001b[0;34m\u001b[0m\u001b[0m\n\u001b[0;32m----> 4\u001b[0;31m     \u001b[0mloss\u001b[0m \u001b[0;34m=\u001b[0m \u001b[0mcalculate_loss\u001b[0m\u001b[0;34m(\u001b[0m\u001b[0mstate_batch\u001b[0m\u001b[0;34m,\u001b[0m \u001b[0maction_batch\u001b[0m\u001b[0;34m,\u001b[0m \u001b[0mnew_state_batch\u001b[0m\u001b[0;34m,\u001b[0m \u001b[0mreward_batch\u001b[0m\u001b[0;34m,\u001b[0m \u001b[0mdone_batch\u001b[0m\u001b[0;34m,\u001b[0m \u001b[0mdiscount_factor\u001b[0m\u001b[0;34m)\u001b[0m\u001b[0;34m\u001b[0m\u001b[0;34m\u001b[0m\u001b[0m\n\u001b[0m\u001b[1;32m      5\u001b[0m \u001b[0;34m\u001b[0m\u001b[0m\n\u001b[1;32m      6\u001b[0m     \u001b[0mloss\u001b[0m\u001b[0;34m.\u001b[0m\u001b[0mbackward\u001b[0m\u001b[0;34m(\u001b[0m\u001b[0;34m)\u001b[0m \u001b[0;31m# calculate the sum of gradients\u001b[0m\u001b[0;34m\u001b[0m\u001b[0;34m\u001b[0m\u001b[0m\n",
      "\u001b[0;32m<ipython-input-7-7c9db2b7be82>\u001b[0m in \u001b[0;36mcalculate_loss\u001b[0;34m(state_batch, action_batch, new_state_batch, reward_batch, done_batch, discount_factor)\u001b[0m\n\u001b[1;32m      2\u001b[0m     \u001b[0;31m# convert variables to tensor\u001b[0m\u001b[0;34m\u001b[0m\u001b[0;34m\u001b[0m\u001b[0;34m\u001b[0m\u001b[0m\n\u001b[1;32m      3\u001b[0m     \u001b[0mstate_batch\u001b[0m \u001b[0;34m=\u001b[0m \u001b[0mtorch\u001b[0m\u001b[0;34m.\u001b[0m\u001b[0mtensor\u001b[0m\u001b[0;34m(\u001b[0m\u001b[0mstate_batch\u001b[0m\u001b[0;34m,\u001b[0m \u001b[0mdtype\u001b[0m\u001b[0;34m=\u001b[0m\u001b[0mtorch\u001b[0m\u001b[0;34m.\u001b[0m\u001b[0mfloat\u001b[0m\u001b[0;34m,\u001b[0m \u001b[0mdevice\u001b[0m\u001b[0;34m=\u001b[0m\u001b[0mdevice\u001b[0m\u001b[0;34m)\u001b[0m\u001b[0;34m\u001b[0m\u001b[0;34m\u001b[0m\u001b[0m\n\u001b[0;32m----> 4\u001b[0;31m     \u001b[0mnew_state_batch\u001b[0m \u001b[0;34m=\u001b[0m \u001b[0mtorch\u001b[0m\u001b[0;34m.\u001b[0m\u001b[0mtensor\u001b[0m\u001b[0;34m(\u001b[0m\u001b[0mnew_state_batch\u001b[0m\u001b[0;34m,\u001b[0m \u001b[0mdtype\u001b[0m\u001b[0;34m=\u001b[0m\u001b[0mtorch\u001b[0m\u001b[0;34m.\u001b[0m\u001b[0mfloat\u001b[0m\u001b[0;34m,\u001b[0m \u001b[0mdevice\u001b[0m\u001b[0;34m=\u001b[0m\u001b[0mdevice\u001b[0m\u001b[0;34m)\u001b[0m\u001b[0;34m\u001b[0m\u001b[0;34m\u001b[0m\u001b[0m\n\u001b[0m\u001b[1;32m      5\u001b[0m     \u001b[0mreward_batch\u001b[0m \u001b[0;34m=\u001b[0m \u001b[0mtorch\u001b[0m\u001b[0;34m.\u001b[0m\u001b[0mtensor\u001b[0m\u001b[0;34m(\u001b[0m\u001b[0mreward_batch\u001b[0m\u001b[0;34m,\u001b[0m \u001b[0mdtype\u001b[0m\u001b[0;34m=\u001b[0m\u001b[0mtorch\u001b[0m\u001b[0;34m.\u001b[0m\u001b[0mfloat\u001b[0m\u001b[0;34m,\u001b[0m \u001b[0mdevice\u001b[0m\u001b[0;34m=\u001b[0m\u001b[0mdevice\u001b[0m\u001b[0;34m)\u001b[0m\u001b[0;34m\u001b[0m\u001b[0;34m\u001b[0m\u001b[0m\n\u001b[1;32m      6\u001b[0m     \u001b[0mdone_batch\u001b[0m \u001b[0;34m=\u001b[0m \u001b[0mtorch\u001b[0m\u001b[0;34m.\u001b[0m\u001b[0mtensor\u001b[0m\u001b[0;34m(\u001b[0m\u001b[0mdone_batch\u001b[0m\u001b[0;34m,\u001b[0m \u001b[0mdtype\u001b[0m\u001b[0;34m=\u001b[0m\u001b[0mtorch\u001b[0m\u001b[0;34m.\u001b[0m\u001b[0muint8\u001b[0m\u001b[0;34m,\u001b[0m \u001b[0mdevice\u001b[0m\u001b[0;34m=\u001b[0m\u001b[0mdevice\u001b[0m\u001b[0;34m)\u001b[0m\u001b[0;34m\u001b[0m\u001b[0;34m\u001b[0m\u001b[0m\n",
      "\u001b[0;31mKeyboardInterrupt\u001b[0m: "
     ]
    }
   ],
   "source": [
    "from tqdm import trange\n",
    "\n",
    "state = env.reset()\n",
    "\n",
    "total_loss = []\n",
    "total_reward = []\n",
    "\n",
    "# a constant to decrement the epsilon at each iteration\n",
    "epsilon_discount_value = (init_epsilon-final_epsilon)/epochs\n",
    "\n",
    "state = env.reset()\n",
    "\n",
    "for epoch in trange(1, epochs+1):\n",
    "    \n",
    "    qvalues = agent.get_qvalues(state) # get qvalues for current state\n",
    "    action = agent.get_action_epsilon_greedy(qvalues) # get action based on e-greedy policy\n",
    "\n",
    "    new_state, reward, done, info = env.step(action)\n",
    "\n",
    "    # record current step variables\n",
    "    memory.push(state, action, new_state, reward, done)\n",
    "    \n",
    "    state = env.reset() if done else new_state\n",
    "    \n",
    "    loss = optimize()\n",
    "   \n",
    "   \n",
    "    # save loss for plot\n",
    "    if epoch % 50 == 0:\n",
    "        total_loss.append(loss)\n",
    "   \n",
    "    # update epsilon\n",
    "    agent.epsilon -= epsilon_discount_value\n",
    "    \n",
    "    # update target network with weights from \n",
    "    if epoch % update_target_rate == 0:\n",
    "        target.load_state_dict(agent.state_dict())\n",
    "        \n",
    "    if epoch % 5000 == 0:\n",
    "        total_reward.append(validation_test(make_env(np.random.randint(0, epoch)), n_episodes=3*5)) # 5 = number of lives of each episode\n",
    "        \n",
    "        clear_output(True)\n",
    "        print(\"Progress {:.2f}% (Epoch {} from {}) \\t epsilon {:.2f}\".format(epoch*100/epochs, epoch, epochs, agent.epsilon))\n",
    "        plt.figure(figsize=[20, 6])\n",
    "        \n",
    "        plt.subplot(1, 2, 1)\n",
    "        plt.title(\"Reward\", fontsize=20)\n",
    "        plt.plot(total_reward)\n",
    "        plt.grid()\n",
    "        \n",
    "        plt.subplot(1, 2, 2)\n",
    "        plt.title(\"Loss (filtered)\", fontsize=20) # Savitzky-Golay filter https://stackoverflow.com/a/20642478\n",
    "        #print(\"len x:\", len(total_loss))\n",
    "        plt.plot(savgol_filter(total_loss, 99, 3))\n",
    "        plt.grid()\n",
    "\n",
    "        plt.show()"
   ]
  },
  {
   "cell_type": "code",
   "execution_count": null,
   "metadata": {},
   "outputs": [],
   "source": [
    "# test trained agent\n",
    "reward = validation_test(make_env(), n_episodes=10)\n",
    "print(\"Mean reward for 10 games:\", reward)"
   ]
  },
  {
   "cell_type": "code",
   "execution_count": null,
   "metadata": {},
   "outputs": [],
   "source": [
    "# play some games with the trained agent\n",
    "from gym import wrappers\n",
    "dir_videos = \"./gym-results\"\n",
    "\n",
    "env_monitor = wrappers.Monitor(make_env(), directory=dir_videos, force=True)\n",
    "\n",
    "for _ in range(10):\n",
    "    validation_test(env_monitor, n_episodes=5)\n",
    "env_monitor.close()"
   ]
  },
  {
   "cell_type": "code",
   "execution_count": null,
   "metadata": {},
   "outputs": [],
   "source": [
    "# display video on page\n",
    "from IPython.display import HTML\n",
    "import glob\n",
    "\n",
    "video_names = list(\n",
    "    filter(lambda s: s.endswith(\".mp4\"), os.listdir(\"./videos/\")))\n",
    "recorded_videos = glob.glob(os.path.join(dir_videos, '*.mp4'))\n",
    "print(recorded_videos)\n",
    "\n",
    "HTML(\"\"\"<video width=\"640\" height=\"480\" controls>\n",
    "  <source src=\"{}\" type=\"video/mp4\"> </video>\"\"\".format(recorded_videos[-1]))"
   ]
  }
 ],
 "metadata": {
  "kernelspec": {
   "display_name": "Python 3",
   "language": "python",
   "name": "python3"
  },
  "language_info": {
   "codemirror_mode": {
    "name": "ipython",
    "version": 3
   },
   "file_extension": ".py",
   "mimetype": "text/x-python",
   "name": "python",
   "nbconvert_exporter": "python",
   "pygments_lexer": "ipython3",
   "version": "3.7.4"
  }
 },
 "nbformat": 4,
 "nbformat_minor": 4
}
