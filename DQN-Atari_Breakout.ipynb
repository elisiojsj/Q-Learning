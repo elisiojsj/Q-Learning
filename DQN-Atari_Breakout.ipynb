{
 "cells": [
  {
   "cell_type": "markdown",
   "metadata": {},
   "source": [
    "## DQN Atari Breakout (using a Convolutional Neural Network)\n",
    "This code is based on the *Lecture 6* from the excelent [course on Reinforcement Learning](http://www0.cs.ucl.ac.uk/staff/d.silver/web/Teaching.html) by David Silver.\n",
    "\n",
    "It implements a Neural Network to learn the Atari game Breakout\n",
    "TD learning with fixed Q-target and Experience Replay."
   ]
  },
  {
   "cell_type": "code",
   "execution_count": 1,
   "metadata": {},
   "outputs": [],
   "source": [
    "import numpy as np\n",
    "import random\n",
    "\n",
    "import torch\n",
    "import torch.nn as nn\n",
    "import torch.nn.functional as F\n",
    "\n",
    "import gym\n",
    "\n",
    "from IPython.display import clear_output\n",
    "from scipy.signal import savgol_filter\n",
    "import matplotlib.pyplot as plt\n",
    "%matplotlib inline"
   ]
  },
  {
   "cell_type": "code",
   "execution_count": 2,
   "metadata": {},
   "outputs": [
    {
     "name": "stdout",
     "output_type": "stream",
     "text": [
      "Number of possible actions: 4\n",
      "Number of possible states: Box(210, 160, 3)\n"
     ]
    },
    {
     "data": {
      "text/plain": [
       "<matplotlib.image.AxesImage at 0x7f752d06afd0>"
      ]
     },
     "execution_count": 2,
     "metadata": {},
     "output_type": "execute_result"
    },
    {
     "data": {
      "image/png": "[encoded data removed]",
      "text/plain": [
       "<Figure size 432x288 with 1 Axes>"
      ]
     },
     "metadata": {
      "needs_background": "light"
     },
     "output_type": "display_data"
    }
   ],
   "source": [
    "\"\"\"\n",
    "\n",
    "\"\"\" \n",
    "\n",
    "ENV_NAME = \"Breakout-v0\"\n",
    "\n",
    "env = gym.make(ENV_NAME)\n",
    "\n",
    "print(\"Number of possible actions:\", env.action_space.n)\n",
    "print(\"Number of possible states:\", env.observation_space)\n",
    "\n",
    "env.reset()\n",
    "plt.imshow(env.render(\"rgb_array\"))"
   ]
  },
  {
   "cell_type": "code",
   "execution_count": 6,
   "metadata": {},
   "outputs": [],
   "source": [
    "import numpy as np\n",
    "import os\n",
    "os.environ.setdefault('PATH', '')\n",
    "from collections import deque\n",
    "import gym\n",
    "from gym import spaces\n",
    "import cv2\n",
    "cv2.ocl.setUseOpenCL(False)\n",
    "#from .wrappers import TimeLimit\n",
    "\n",
    "\n",
    "class NoopResetEnv(gym.Wrapper):\n",
    "    def __init__(self, env, noop_max=30):\n",
    "        \"\"\"Sample initial states by taking random number of no-ops on reset.\n",
    "        No-op is assumed to be action 0.\n",
    "        \"\"\"\n",
    "        gym.Wrapper.__init__(self, env)\n",
    "        self.noop_max = noop_max\n",
    "        self.override_num_noops = None\n",
    "        self.noop_action = 0\n",
    "        assert env.unwrapped.get_action_meanings()[0] == 'NOOP'\n",
    "\n",
    "    def reset(self, **kwargs):\n",
    "        \"\"\" Do no-op action for a number of steps in [1, noop_max].\"\"\"\n",
    "        self.env.reset(**kwargs)\n",
    "        if self.override_num_noops is not None:\n",
    "            noops = self.override_num_noops\n",
    "        else:\n",
    "            noops = self.unwrapped.np_random.randint(1, self.noop_max + 1) #pylint: disable=E1101\n",
    "        assert noops > 0\n",
    "        obs = None\n",
    "        for _ in range(noops):\n",
    "            obs, _, done, _ = self.env.step(self.noop_action)\n",
    "            if done:\n",
    "                obs = self.env.reset(**kwargs)\n",
    "        return obs\n",
    "\n",
    "    def step(self, ac):\n",
    "        return self.env.step(ac)\n",
    "\n",
    "class FireResetEnv(gym.Wrapper):\n",
    "    def __init__(self, env):\n",
    "        \"\"\"Take action on reset for environments that are fixed until firing.\"\"\"\n",
    "        gym.Wrapper.__init__(self, env)\n",
    "        assert env.unwrapped.get_action_meanings()[1] == 'FIRE'\n",
    "        assert len(env.unwrapped.get_action_meanings()) >= 3\n",
    "\n",
    "    def reset(self, **kwargs):\n",
    "        self.env.reset(**kwargs)\n",
    "        obs, _, done, _ = self.env.step(1)\n",
    "        if done:\n",
    "            self.env.reset(**kwargs)\n",
    "        obs, _, done, _ = self.env.step(2)\n",
    "        if done:\n",
    "            self.env.reset(**kwargs)\n",
    "        return obs\n",
    "\n",
    "    def step(self, ac):\n",
    "        return self.env.step(ac)\n",
    "\n",
    "class EpisodicLifeEnv(gym.Wrapper):\n",
    "    def __init__(self, env):\n",
    "        \"\"\"Make end-of-life == end-of-episode, but only reset on true game over.\n",
    "        Done by DeepMind for the DQN and co. since it helps value estimation.\n",
    "        \"\"\"\n",
    "        gym.Wrapper.__init__(self, env)\n",
    "        self.lives = 0\n",
    "        self.was_real_done  = True\n",
    "\n",
    "    def step(self, action):\n",
    "        obs, reward, done, info = self.env.step(action)\n",
    "        self.was_real_done = done\n",
    "        # check current lives, make loss of life terminal,\n",
    "        # then update lives to handle bonus lives\n",
    "        lives = self.env.unwrapped.ale.lives()\n",
    "        if lives < self.lives and lives > 0:\n",
    "            # for Qbert sometimes we stay in lives == 0 condition for a few frames\n",
    "            # so it's important to keep lives > 0, so that we only reset once\n",
    "            # the environment advertises done.\n",
    "            done = True\n",
    "        self.lives = lives\n",
    "        return obs, reward, done, info\n",
    "\n",
    "    def reset(self, **kwargs):\n",
    "        \"\"\"Reset only when lives are exhausted.\n",
    "        This way all states are still reachable even though lives are episodic,\n",
    "        and the learner need not know about any of this behind-the-scenes.\n",
    "        \"\"\"\n",
    "        if self.was_real_done:\n",
    "            obs = self.env.reset(**kwargs)\n",
    "        else:\n",
    "            # no-op step to advance from terminal/lost life state\n",
    "            obs, _, _, _ = self.env.step(0)\n",
    "        self.lives = self.env.unwrapped.ale.lives()\n",
    "        return obs\n",
    "\n",
    "class MaxAndSkipEnv(gym.Wrapper):\n",
    "    def __init__(self, env, skip=4):\n",
    "        \"\"\"Return only every `skip`-th frame\"\"\"\n",
    "        gym.Wrapper.__init__(self, env)\n",
    "        # most recent raw observations (for max pooling across time steps)\n",
    "        self._obs_buffer = np.zeros((2,)+env.observation_space.shape, dtype=np.uint8)\n",
    "        self._skip       = skip\n",
    "\n",
    "    def step(self, action):\n",
    "        \"\"\"Repeat action, sum reward, and max over last observations.\"\"\"\n",
    "        total_reward = 0.0\n",
    "        done = None\n",
    "        for i in range(self._skip):\n",
    "            obs, reward, done, info = self.env.step(action)\n",
    "            if i == self._skip - 2: self._obs_buffer[0] = obs\n",
    "            if i == self._skip - 1: self._obs_buffer[1] = obs\n",
    "            total_reward += reward\n",
    "            if done:\n",
    "                break\n",
    "        # Note that the observation on the done=True frame\n",
    "        # doesn't matter\n",
    "        max_frame = self._obs_buffer.max(axis=0)\n",
    "\n",
    "        return max_frame, total_reward, done, info\n",
    "\n",
    "    def reset(self, **kwargs):\n",
    "        return self.env.reset(**kwargs)\n",
    "\n",
    "class ClipRewardEnv(gym.RewardWrapper):\n",
    "    def __init__(self, env):\n",
    "        gym.RewardWrapper.__init__(self, env)\n",
    "\n",
    "    def reward(self, reward):\n",
    "        \"\"\"Bin reward to {+1, 0, -1} by its sign.\"\"\"\n",
    "        return np.sign(reward)\n",
    "\n",
    "\n",
    "class WarpFrame(gym.ObservationWrapper):\n",
    "    def __init__(self, env, width=64, height=64, grayscale=True, dict_space_key=None):\n",
    "        \"\"\"\n",
    "        Warp frames to 84x84 as done in the Nature paper and later work.\n",
    "\n",
    "        If the environment uses dictionary observations, `dict_space_key` can be specified which indicates which\n",
    "        observation should be warped.\n",
    "        \"\"\"\n",
    "        super().__init__(env)\n",
    "        self._width = width\n",
    "        self._height = height\n",
    "        self._grayscale = grayscale\n",
    "        self._key = dict_space_key\n",
    "        if self._grayscale:\n",
    "            num_colors = 1\n",
    "        else:\n",
    "            num_colors = 3\n",
    "\n",
    "        new_space = gym.spaces.Box(\n",
    "            low=0,\n",
    "            high=255,\n",
    "            #shape=(self._height, self._width, num_colors),\n",
    "            shape=(num_colors, self._height, self._width),\n",
    "            dtype=np.uint8,\n",
    "        )\n",
    "        if self._key is None:\n",
    "            original_space = self.observation_space\n",
    "            self.observation_space = new_space\n",
    "        else:\n",
    "            original_space = self.observation_space.spaces[self._key]\n",
    "            self.observation_space.spaces[self._key] = new_space\n",
    "        assert original_space.dtype == np.uint8 and len(original_space.shape) == 3\n",
    "\n",
    "    def observation(self, obs):\n",
    "        if self._key is None:\n",
    "            frame = obs\n",
    "        else:\n",
    "            frame = obs[self._key]\n",
    "            \n",
    "        # crop for Breakout game\n",
    "        frame = frame[54:193, 5:155]\n",
    "\n",
    "        if self._grayscale:\n",
    "            frame = cv2.cvtColor(frame, cv2.COLOR_RGB2GRAY)\n",
    "        frame = cv2.resize(\n",
    "            frame, (self._width, self._height), interpolation=cv2.INTER_AREA\n",
    "        )\n",
    "        if self._grayscale:\n",
    "            #frame = np.expand_dims(frame, -1)\n",
    "            frame = np.expand_dims(frame, 0)\n",
    "\n",
    "        if self._key is None:\n",
    "            obs = frame\n",
    "        else:\n",
    "            obs = obs.copy()\n",
    "            obs[self._key] = frame\n",
    "        return obs\n",
    "\n",
    "\n",
    "class FrameStack(gym.Wrapper):\n",
    "    def __init__(self, env, k):\n",
    "        \"\"\"Stack k last frames.\n",
    "\n",
    "        Returns lazy array, which is much more memory efficient.\n",
    "\n",
    "        See Also\n",
    "        --------\n",
    "        baselines.common.atari_wrappers.LazyFrames\n",
    "        \"\"\"\n",
    "        gym.Wrapper.__init__(self, env)\n",
    "        self.k = k\n",
    "        self.frames = deque([], maxlen=k)\n",
    "        #shp = env.observation_space.shape\n",
    "        n_channels, height, width = env.observation_space.shape\n",
    "        shp = [n_channels*k, height, width]\n",
    "        self.observation_space = Box(0.0, 1.0, shp)\n",
    "\n",
    "    def reset(self):\n",
    "        ob = self.env.reset()\n",
    "        for _ in range(self.k):\n",
    "            self.frames.append(ob)\n",
    "        return self._get_ob()\n",
    "\n",
    "    def step(self, action):\n",
    "        ob, reward, done, info = self.env.step(action)\n",
    "        self.frames.append(ob)\n",
    "        return self._get_ob(), reward, done, info\n",
    "\n",
    "    def _get_ob(self):\n",
    "        assert len(self.frames) == self.k\n",
    "        return LazyFrames(list(self.frames))\n",
    "\n",
    "class ScaledFloatFrame(gym.ObservationWrapper):\n",
    "    def __init__(self, env):\n",
    "        gym.ObservationWrapper.__init__(self, env)\n",
    "        self.observation_space = gym.spaces.Box(low=0, high=1, shape=env.observation_space.shape, dtype=np.float32)\n",
    "\n",
    "    def observation(self, observation):\n",
    "        # careful! This undoes the memory optimization, use\n",
    "        # with smaller replay buffers only.\n",
    "        return np.array(observation).astype(np.float32) / 255.0\n",
    "\n",
    "class LazyFrames(object):\n",
    "    def __init__(self, frames):\n",
    "        \"\"\"This object ensures that common frames between the observations are only stored once.\n",
    "        It exists purely to optimize memory usage which can be huge for DQN's 1M frames replay\n",
    "        buffers.\n",
    "\n",
    "        This object should only be converted to numpy array before being passed to the model.\n",
    "\n",
    "        You'd not believe how complex the previous solution was.\"\"\"\n",
    "        self._frames = frames\n",
    "        self._out = None\n",
    "\n",
    "    def _force(self):\n",
    "        if self._out is None:\n",
    "            #self._out = np.concatenate(self._frames, axis=-1)\n",
    "            self._out = np.concatenate(self._frames, axis=0)\n",
    "            self._frames = None\n",
    "        return self._out\n",
    "\n",
    "    def __array__(self, dtype=None):\n",
    "        out = self._force()\n",
    "        if dtype is not None:\n",
    "            out = out.astype(dtype)\n",
    "        return out\n",
    "\n",
    "    def __len__(self):\n",
    "        return len(self._force())\n",
    "\n",
    "    def __getitem__(self, i):\n",
    "        return self._force()[i]\n",
    "\n",
    "    def count(self):\n",
    "        frames = self._force()\n",
    "        return frames.shape[frames.ndim - 1]\n",
    "\n",
    "    def frame(self, i):\n",
    "        return self._force()[..., i]\n",
    "\n",
    "def make_atari(env_id, max_episode_steps=None):\n",
    "    env = gym.make(env_id)\n",
    "    assert 'NoFrameskip' in env.spec.id\n",
    "    env = NoopResetEnv(env, noop_max=30)\n",
    "    env = MaxAndSkipEnv(env, skip=4)\n",
    "    if max_episode_steps is not None:\n",
    "        env = TimeLimit(env, max_episode_steps=max_episode_steps)\n",
    "    return env\n",
    "\n",
    "def wrap_deepmind(env, episode_life=True, clip_rewards=True, frame_stack=False, scale=False):\n",
    "    \"\"\"Configure environment for DeepMind-style Atari.\n",
    "    \"\"\"\n",
    "    if episode_life:\n",
    "        env = EpisodicLifeEnv(env)\n",
    "    if 'FIRE' in env.unwrapped.get_action_meanings():\n",
    "        env = FireResetEnv(env)\n",
    "    env = WarpFrame(env)\n",
    "    if scale:\n",
    "        env = ScaledFloatFrame(env)\n",
    "    if clip_rewards:\n",
    "        env = ClipRewardEnv(env)\n",
    "    if frame_stack:\n",
    "        env = FrameStack(env, 4)\n",
    "    return env\n",
    "\n",
    "def wrap_deepmind2(env, episode_life=True, clip_rewards=True, frame_stack=False, scale=False):\n",
    "    \"\"\"Configure environment for DeepMind-style Atari.\n",
    "    \"\"\"\n",
    "    if episode_life:\n",
    "        env = EpisodicLifeEnv(env)\n",
    "    env = MaxAndSkipEnv(env, skip=4)\n",
    "    #if 'FIRE' in env.unwrapped.get_action_meanings():\n",
    "    env = FireResetEnv(env)\n",
    "    env = WarpFrame(env)\n",
    "    if scale:\n",
    "        env = ScaledFloatFrame(env)\n",
    "    if clip_rewards:\n",
    "        env = ClipRewardEnv(env)\n",
    "    if frame_stack:\n",
    "        env = FrameStack(env, 4)\n",
    "    return env"
   ]
  },
  {
   "cell_type": "code",
   "execution_count": 8,
   "metadata": {},
   "outputs": [
    {
     "name": "stdout",
     "output_type": "stream",
     "text": [
      "(4, 64, 64)\n"
     ]
    }
   ],
   "source": [
    "def make_env(seed=None):\n",
    "    env = gym.make(ENV_NAME)\n",
    "    if seed is not None:\n",
    "        env.seed(seed)\n",
    "    env = wrap_deepmind2(env, episode_life=True, clip_rewards=True, frame_stack=True, scale=False)\n",
    "    return env\n",
    "\n",
    "env = make_env()\n",
    "env.reset()\n",
    "n_actions = env.action_space.n\n",
    "print(\"Observation shape:\", env.observation_space.shape\n"
   ]
  },
  {
   "cell_type": "code",
   "execution_count": 9,
   "metadata": {},
   "outputs": [
    {
     "data": {
      "image/png": "[encoded data removed]",
      "text/plain": [
       "<Figure size 432x288 with 1 Axes>"
      ]
     },
     "metadata": {
      "needs_background": "light"
     },
     "output_type": "display_data"
    },
    {
     "data": {
      "image/png": "[encoded data removed]",
      "text/plain": [
       "<Figure size 432x288 with 1 Axes>"
      ]
     },
     "metadata": {
      "needs_background": "light"
     },
     "output_type": "display_data"
    },
    {
     "data": {
      "image/png": "[encoded data removed]",
      "text/plain": [
       "<Figure size 432x288 with 1 Axes>"
      ]
     },
     "metadata": {
      "needs_background": "light"
     },
     "output_type": "display_data"
    },
    {
     "data": {
      "image/png": "[encoded data removed]",
      "text/plain": [
       "<Figure size 432x288 with 1 Axes>"
      ]
     },
     "metadata": {
      "needs_background": "light"
     },
     "output_type": "display_data"
    },
    {
     "name": "stdout",
     "output_type": "stream",
     "text": [
      "(4, 64, 64)\n"
     ]
    }
   ],
   "source": [
    "#for _ in range(12):\n",
    "observ, _, _, _ = env.step(env.action_space.sample())\n",
    "\n",
    "plt.title(\"One observation (composed of 4 frames)\")\n",
    "plt.imshow(observ[0])\n",
    "plt.show()\n",
    "plt.imshow(observ[1])\n",
    "plt.show()\n",
    "plt.imshow(observ[2])\n",
    "plt.show()\n",
    "plt.imshow(observ[3])\n",
    "plt.show()\n",
    "\n",
    "print(env.observation_space.shape)"
   ]
  },
  {
   "cell_type": "code",
   "execution_count": 10,
   "metadata": {},
   "outputs": [
    {
     "name": "stdout",
     "output_type": "stream",
     "text": [
      "Using device: cuda\n"
     ]
    }
   ],
   "source": [
    "device = torch.device(\"cuda\" if torch.cuda.is_available() else \"cpu\")\n",
    "print(\"Using device:\", device)"
   ]
  },
  {
   "cell_type": "code",
   "execution_count": 11,
   "metadata": {},
   "outputs": [],
   "source": [
    "class DQNAgent(nn.Module):\n",
    "    def __init__(self, n_action_space, n_observation_space, epsilon):\n",
    "        super().__init__()\n",
    "        self.n_action_space = n_action_space\n",
    "        self.n_observation_space = n_observation_space\n",
    "        \n",
    "        self.epsilon = epsilon\n",
    "               \n",
    "        # batch shape = batch_size x 4 x height x width\n",
    "        # the 4 is due to the 4 frames that are processed at the same time\n",
    "        # check MaxAndSkipEnv wrapper above\n",
    "        self.network = torch.nn.Sequential(\n",
    "            torch.nn.Conv2d(in_channels=4, out_channels=16, kernel_size=3, stride=2), #in=4x64x64 out=16x31x31\n",
    "            torch.nn.ReLU(),\n",
    "            torch.nn.Conv2d(in_channels=16, out_channels=32, kernel_size=3, stride=2), #in=16x31x31 out=32x15x15\n",
    "            torch.nn.ReLU(),\n",
    "            torch.nn.Conv2d(in_channels=32, out_channels=64, kernel_size=2, stride=1), #in=32x15x15 out=64x14x14\n",
    "            torch.nn.ReLU(),\n",
    "            torch.nn.Conv2d(in_channels=64, out_channels=128, kernel_size=2, stride=2), #in=64x14x14 out=128x7x7\n",
    "            torch.nn.ReLU(),\n",
    "            torch.nn.Flatten(),\n",
    "            torch.nn.Linear(7*7*128, n_action_space),\n",
    "            torch.nn.ReLU()\n",
    "        )\n",
    "        \n",
    "    def forward(self, state):\n",
    "        \n",
    "        qvalues = self.network(state)\n",
    "\n",
    "        return qvalues\n",
    "    \n",
    "    def get_action_epsilon_greedy(self, qvalues):    \n",
    "        # the action returned either will be random or the greedy\n",
    "        if np.random.rand() < self.epsilon:\n",
    "            action = np.random.choice(self.n_action_space) # return a random action\n",
    "        else: # else, be greedy\n",
    "            action = np.argmax(qvalues)\n",
    "        return action\n",
    "   \n",
    "    def get_greedy_action(self, qvalues):\n",
    "            return np.argmax(qvalues)\n",
    "    \n",
    "    def get_qvalues(self, state):\n",
    "        state = torch.tensor([state], dtype=torch.float, device=device) # add batch dimension (=1) to state\n",
    "        return self.forward(state).cpu().detach().numpy()\n",
    "   "
   ]
  },
  {
   "cell_type": "code",
   "execution_count": 13,
   "metadata": {},
   "outputs": [],
   "source": [
    "def calculate_loss(state_batch, action_batch, new_state_batch, reward_batch, done_batch, discount_factor):\n",
    "    # convert variables to tensor\n",
    "    state_batch = torch.tensor(state_batch, dtype=torch.float, device=device)\n",
    "    new_state_batch = torch.tensor(new_state_batch, dtype=torch.float, device=device)\n",
    "    reward_batch = torch.tensor(reward_batch, dtype=torch.float, device=device)\n",
    "    done_batch = torch.tensor(done_batch, dtype=torch.uint8, device=device)\n",
    "    \n",
    "    not_done_batch = 1 - done_batch\n",
    "\n",
    "    # predict all q-values for current state\n",
    "    all_qvalues_state = agent(state_batch)\n",
    "    #print(state_batch.shape)\n",
    "    #l\n",
    "\n",
    "    # select the q_value for the agent action\n",
    "    qvalue_state = all_qvalues_state[range(len(all_qvalues_state)), action_batch]\n",
    "    \n",
    "    # predict all q-values for the new state \n",
    "    all_qvalues_new_state = target(new_state_batch)\n",
    "\n",
    "    # select the q-value for the new state for the action that maximises it, q'(s',amax)\n",
    "    qvalue_new_state = torch.tensor([torch.max(all_qvalues_new_state[i]).item() for i in range(len(all_qvalues_new_state))],\n",
    "                                     dtype=torch.float32, device=device)\n",
    "    \n",
    "    # for TD target if it's a terminal state (done == 1) the target receives only the value of the reward\n",
    "    # not_done_batch is a vector that when multiplied by the value function does that job.\n",
    "    td_target = reward_batch + discount_factor*qvalue_new_state*not_done_batch\n",
    "\n",
    "    # loss = MSE (mean squared error) of TD error (Q-network - Q-learning targets)\n",
    "    # the detach is a way to fix the target network by not having its gradients computed\n",
    "    loss = F.mse_loss(qvalue_state, td_target.detach())\n",
    "\n",
    "    return loss"
   ]
  },
  {
   "cell_type": "code",
   "execution_count": 14,
   "metadata": {},
   "outputs": [],
   "source": [
    "def populate_memory(memory_size):\n",
    "    \n",
    "    state = env.reset()\n",
    "    total_reward = 0.0\n",
    "    \n",
    "    for _ in range(memory_size):\n",
    "        qvalues = agent.get_qvalues(state) # get qvalues for current state\n",
    "        action = agent.get_action_epsilon_greedy(qvalues) # get action based on e-greedy policy\n",
    "        \n",
    "        new_state, reward, done, info = env.step(action)\n",
    "        \n",
    "        # record current step variables\n",
    "        memory.push(state, action, new_state, reward, done)\n",
    "            \n",
    "        state = env.reset() if done else new_state\n",
    "            \n",
    "        total_reward += reward\n",
    "        \n",
    "    return total_reward"
   ]
  },
  {
   "cell_type": "code",
   "execution_count": 15,
   "metadata": {},
   "outputs": [],
   "source": [
    "def validation_test(n_episodes=10):\n",
    "    env_val = gym.make(ENV_NAME).env\n",
    "#    env_val = PreprocessAtariObs(env_val)\n",
    "    env_val = make_env()\n",
    "    total_reward = []\n",
    "    \n",
    "    for _ in range(n_episodes):\n",
    "        state = env_val.reset()\n",
    "        done = False\n",
    "        ep_rewards = 0.0\n",
    "        \n",
    "        while not done:\n",
    "            #print(\"state.shape:\", state.shape)\n",
    "            #print(\"state:\", state)\n",
    "            #l\n",
    "            qvalues = agent.get_qvalues(state) # get qvalues for current state\n",
    "            #action = qvalues.argmax(axis=-1)[0]\n",
    "            action = agent.get_greedy_action(qvalues)\n",
    "            new_state, reward, done, info = env_val.step(action)\n",
    "            state = new_state\n",
    "            \n",
    "            ep_rewards += reward\n",
    "\n",
    "        total_reward.append(ep_rewards)\n",
    "\n",
    "    return np.mean(total_reward)"
   ]
  },
  {
   "cell_type": "code",
   "execution_count": 16,
   "metadata": {},
   "outputs": [],
   "source": [
    "# https://github.com/openai/baselines/blob/master/baselines/deepq/replay_buffer.py\n",
    "class ReplayMemory:\n",
    "    def __init__(self, capacity):\n",
    "        self._capacity = capacity\n",
    "        self._memory = []\n",
    "        self._position = 0\n",
    "    \n",
    "    def push(self, state, action, new_state, reward, done):\n",
    "        if len(self._memory) < self._capacity:\n",
    "            self._memory.append(None)\n",
    "        self._memory[self._position] = (state, action, new_state, reward, done)\n",
    "        self._position = (self._position + 1) % self._capacity\n",
    "        \n",
    "    # pop batchs for each variable\n",
    "    def pop(self, batch_size):\n",
    "        idxes = [random.randint(0, len(self._memory) - 1) for _ in range(batch_size)]\n",
    "        st_all, ac_all, nst_all, rw_all, dn_all = [], [], [], [], []\n",
    "        for i in idxes:\n",
    "            sample = self._memory[i]\n",
    "            st_t, ac_t, nst_t, rw_t, dn_t = sample\n",
    "            # by not copying the data the training speeds up dramatically\n",
    "            st_all.append(np.array(st_t, copy=False)) \n",
    "            ac_all.append(np.array(ac_t, copy=False))\n",
    "            nst_all.append(np.array(nst_t, copy=False))\n",
    "            rw_all.append(np.array(rw_t, copy=False))\n",
    "            dn_all.append(np.array(dn_t, copy=False))\n",
    "        return np.array(st_all), np.array(ac_all), np.array(nst_all), np.array(rw_all), np.array(dn_all)\n",
    "   \n",
    "    def __len__(self):\n",
    "        return len(self._memory)"
   ]
  },
  {
   "cell_type": "code",
   "execution_count": 17,
   "metadata": {},
   "outputs": [],
   "source": [
    "# hyperparameters\n",
    "init_epsilon = 1\n",
    "final_epsilon = 0.1\n",
    "\n",
    "discount_factor = 0.99\n",
    "memory_size = 10000\n",
    "batch_size = 16\n",
    "\n",
    "epochs = 3*10**6 # increase number\n",
    "\n",
    "update_target_rate = 5000 # rate that the target network will be updated\n",
    "\n",
    "agent = DQNAgent(n_action_space=env.action_space.n, \n",
    "                 n_observation_space=env.observation_space.shape, \n",
    "                 epsilon=init_epsilon).to(device) \n",
    "\n",
    "target = DQNAgent(n_action_space=env.action_space.n, \n",
    "                  n_observation_space=env.observation_space.shape, \n",
    "                  epsilon=init_epsilon).to(device)\n",
    "\n",
    "target.load_state_dict(agent.state_dict())\n",
    "\n",
    "memory = ReplayMemory(memory_size)"
   ]
  },
  {
   "cell_type": "code",
   "execution_count": 18,
   "metadata": {},
   "outputs": [],
   "source": [
    "learning_rate = 0.0001\n",
    "optimiser = torch.optim.Adam(agent.parameters(), lr=learning_rate)"
   ]
  },
  {
   "cell_type": "code",
   "execution_count": 19,
   "metadata": {
    "scrolled": true
   },
   "outputs": [
    {
     "name": "stdout",
     "output_type": "stream",
     "text": [
      "Memory size: 0\n",
      "Memory size: 10000\n",
      "Rewards: 37.0\n"
     ]
    }
   ],
   "source": [
    "# play some games to fill the memory\n",
    "print(\"Memory size:\", len(memory))\n",
    "rewards = populate_memory(memory_size)\n",
    "print(\"Memory size:\", len(memory))\n",
    "print(\"Rewards:\", rewards)"
   ]
  },
  {
   "cell_type": "code",
   "execution_count": 20,
   "metadata": {},
   "outputs": [],
   "source": [
    "def optimize():    \n",
    "    state_batch, action_batch, new_state_batch, reward_batch, done_batch = memory.pop(batch_size)\n",
    "    \n",
    "    loss = calculate_loss(state_batch, action_batch, new_state_batch, reward_batch, done_batch, discount_factor)\n",
    "    \n",
    "    loss.backward() # calculate the sum of gradients\n",
    "    optimiser.step() # update model's parameters\n",
    "    optimiser.zero_grad() # set gradients to zero\n",
    "    \n",
    "    return loss.detach().cpu().item()"
   ]
  },
  {
   "cell_type": "code",
   "execution_count": 21,
   "metadata": {
    "scrolled": false
   },
   "outputs": [
    {
     "name": "stdout",
     "output_type": "stream",
     "text": [
      "Progress 100.00% (Epoch 3000000 from 3000000) \t epsilon 0.10\n"
     ]
    },
    {
     "data": {
      "image/png": "[encoded data removed]",
      "text/plain": [
       "<Figure size 1440x432 with 2 Axes>"
      ]
     },
     "metadata": {
      "needs_background": "light"
     },
     "output_type": "display_data"
    },
    {
     "name": "stderr",
     "output_type": "stream",
     "text": [
      "100%|██████████| 3000000/3000000 [8:57:13<00:00, 93.07it/s] \n"
     ]
    }
   ],
   "source": [
    "from tqdm import trange\n",
    "\n",
    "state = env.reset()\n",
    "\n",
    "total_loss = []\n",
    "total_reward = []\n",
    "\n",
    "# a constant to decrement the epsilon at each iteration\n",
    "epsilon_discount_value = (init_epsilon-final_epsilon)/epochs\n",
    "\n",
    "state = env.reset()\n",
    "\n",
    "for epoch in trange(1, epochs+1):\n",
    "    \n",
    "    qvalues = agent.get_qvalues(state) # get qvalues for current state\n",
    "    action = agent.get_action_epsilon_greedy(qvalues) # get action based on e-greedy policy\n",
    "\n",
    "    new_state, reward, done, info = env.step(action)\n",
    "\n",
    "    # record current step variables\n",
    "    memory.push(state, action, new_state, reward, done)\n",
    "    \n",
    "    state = env.reset() if done else new_state\n",
    "    \n",
    "    loss = optimize()\n",
    "   \n",
    "   \n",
    "    # save loss for plot\n",
    "    if epoch % 50 == 0:\n",
    "        total_loss.append(loss)\n",
    "   \n",
    "    # update epsilon\n",
    "    agent.epsilon -= epsilon_discount_value\n",
    "    \n",
    "    # update target network with weights from \n",
    "    if epoch % update_target_rate == 0:\n",
    "        target.load_state_dict(agent.state_dict())\n",
    "        \n",
    "    if epoch % 5000 == 0:\n",
    "        total_reward.append(validation_test(n_episodes=3*5)) # 5 = number of lives of each episode\n",
    "        \n",
    "        clear_output(True)\n",
    "        print(\"Progress {:.2f}% (Epoch {} from {}) \\t epsilon {:.2f}\".format(epoch*100/epochs, epoch, epochs, agent.epsilon))\n",
    "        plt.figure(figsize=[20, 6])\n",
    "        \n",
    "        plt.subplot(1, 2, 1)\n",
    "        plt.title(\"Reward\", fontsize=20)\n",
    "        plt.plot(total_reward)\n",
    "        plt.grid()\n",
    "        \n",
    "        plt.subplot(1, 2, 2)\n",
    "        plt.title(\"Loss (filtered)\", fontsize=20) # Savitzky-Golay filter https://stackoverflow.com/a/20642478\n",
    "        #print(\"len x:\", len(total_loss))\n",
    "        plt.plot(savgol_filter(total_loss, 99, 3))\n",
    "        plt.grid()\n",
    "\n",
    "        plt.show()"
   ]
  },
  {
   "cell_type": "code",
   "execution_count": 22,
   "metadata": {},
   "outputs": [
    {
     "name": "stdout",
     "output_type": "stream",
     "text": [
      "Reward for 100 games: 2.2\n"
     ]
    }
   ],
   "source": [
    "# test trained agent\n",
    "reward = validation_test(n_episodes=100) \n",
    "print(\"Reward for 100 games:\", reward)"
   ]
  },
  {
   "cell_type": "code",
   "execution_count": 23,
   "metadata": {},
   "outputs": [
    {
     "name": "stdout",
     "output_type": "stream",
     "text": [
      "Reward for 100 games: 2.2\n"
     ]
    }
   ],
   "source": [
    "reward = validation_test(n_episodes=30) \n",
    "print(\"Reward for 100 games:\", reward)"
   ]
  },
  {
   "cell_type": "code",
   "execution_count": null,
   "metadata": {},
   "outputs": [],
   "source": []
  }
 ],
 "metadata": {
  "kernelspec": {
   "display_name": "Python 3",
   "language": "python",
   "name": "python3"
  },
  "language_info": {
   "codemirror_mode": {
    "name": "ipython",
    "version": 3
   },
   "file_extension": ".py",
   "mimetype": "text/x-python",
   "name": "python",
   "nbconvert_exporter": "python",
   "pygments_lexer": "ipython3",
   "version": "3.7.4"
  }
 },
 "nbformat": 4,
 "nbformat_minor": 4
}
