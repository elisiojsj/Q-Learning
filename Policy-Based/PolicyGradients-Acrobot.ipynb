{
 "cells": [
  {
   "cell_type": "code",
   "execution_count": 1,
   "metadata": {},
   "outputs": [],
   "source": [
    "import torch\n",
    "import torch.nn as nn\n",
    "import torch.nn.functional as F\n",
    "\n",
    "import numpy as np\n",
    "import matplotlib.pyplot as plt\n",
    "import gym\n",
    "\n",
    "from torch.utils.tensorboard import SummaryWriter"
   ]
  },
  {
   "cell_type": "code",
   "execution_count": 2,
   "metadata": {},
   "outputs": [],
   "source": [
    "class PolicyNN(nn.Module):\n",
    "    def __init__(self, input_dim, output_dim):\n",
    "        super(PolicyNN, self).__init__()\n",
    "        \n",
    "        self.network = nn.Sequential(\n",
    "            nn.Linear(input_dim, 128),\n",
    "            nn.ReLU(),\n",
    "            nn.Linear(128, output_dim),\n",
    "            nn.Softmax(dim=-1)\n",
    "        )\n",
    "    \n",
    "    def forward(self, observation):\n",
    "        return self.network(observation)"
   ]
  },
  {
   "cell_type": "code",
   "execution_count": 3,
   "metadata": {},
   "outputs": [
    {
     "name": "stdout",
     "output_type": "stream",
     "text": [
      "Action space: Discrete(3)\n",
      "Observation space: Box(6,)\n"
     ]
    },
    {
     "data": {
      "text/plain": [
       "<matplotlib.image.AxesImage at 0x7fe3db1bea50>"
      ]
     },
     "execution_count": 3,
     "metadata": {},
     "output_type": "execute_result"
    },
    {
     "data": {
      "image/png": "[encoded data removed]",
      "text/plain": [
       "<Figure size 432x288 with 1 Axes>"
      ]
     },
     "metadata": {
      "needs_background": "light"
     },
     "output_type": "display_data"
    }
   ],
   "source": [
    "env = gym.make('Acrobot-v1') \n",
    "\n",
    "print(\"Action space:\", env.action_space)\n",
    "print(\"Observation space:\", env.observation_space)\n",
    "\n",
    "env.reset()\n",
    "plt.imshow(env.render(\"rgb_array\"))"
   ]
  },
  {
   "cell_type": "code",
   "execution_count": 4,
   "metadata": {},
   "outputs": [
    {
     "name": "stdout",
     "output_type": "stream",
     "text": [
      "Using device: cuda\n"
     ]
    }
   ],
   "source": [
    "device = torch.device(\"cuda\" if torch.cuda.is_available() else \"cpu\")\n",
    "print(\"Using device:\", device)"
   ]
  },
  {
   "cell_type": "code",
   "execution_count": 5,
   "metadata": {},
   "outputs": [],
   "source": [
    "policy = PolicyNN(env.observation_space.shape[0], env.action_space.n).to(device)"
   ]
  },
  {
   "cell_type": "code",
   "execution_count": 6,
   "metadata": {},
   "outputs": [],
   "source": [
    "# Hyperparameters\n",
    "learning_rate = 0.001\n",
    "gamma = 0.99 # for calculating cumulative rewards\n",
    "print_rate = 100 # rate that the output will be printed\n",
    "\n",
    "\n",
    "optimizer = torch.optim.Adam(policy.parameters(), lr=learning_rate) "
   ]
  },
  {
   "cell_type": "code",
   "execution_count": 7,
   "metadata": {},
   "outputs": [],
   "source": [
    "# writer for tensorboard\n",
    "writer_0 = SummaryWriter('./runs/plot_wth_baseline')\n",
    "writer_1 = SummaryWriter('./runs/plot_no_baseline')\n",
    "# to see the board run on terminal the following command:\n",
    "# tensorboard --logdir=runs"
   ]
  },
  {
   "cell_type": "code",
   "execution_count": 8,
   "metadata": {},
   "outputs": [],
   "source": [
    "# this function receives a list of rewards and returns a list of the calculated cumulative rewards\n",
    "# of the same size and calculated by the discount factor (gamma)\n",
    "def get_cumulative_rewards(rewards, gamma=0.99):\n",
    "    cumulative_rw = []\n",
    "    for i in reversed(range(len(rewards))):\n",
    "        rw_sum = 0\n",
    "        pw = 0 # power to be applied on gamma\n",
    "        for j in range(i, len(rewards)):\n",
    "            rw_sum += (gamma**pw)*rewards[j] \n",
    "            pw += 1\n",
    "        cumulative_rw.append(rw_sum)\n",
    "        \n",
    "    cumulative_rw.reverse() # reverse the list\n",
    "    return cumulative_rw"
   ]
  },
  {
   "cell_type": "markdown",
   "metadata": {},
   "source": [
    "### REINFORCE pseudocode (from Sutton's book, pg. 328)\n",
    "\n",
    "Loop forever (for each episode):\n",
    "\n",
    "&nbsp;&nbsp;&nbsp;&nbsp;&nbsp;&nbsp; Generate an episode $S_0, A_0, R_1, ..., S_{T-1}, A_{T-1}, R_T$, following $\\pi(\\cdot|\\cdot, theta)$ \n",
    "\n",
    "&nbsp;&nbsp;&nbsp;&nbsp;&nbsp;&nbsp; Loop for each step of the episode t=0, 1, ..., T-1\n",
    "\n",
    "&nbsp;&nbsp;&nbsp;&nbsp;&nbsp;&nbsp;&nbsp;&nbsp;&nbsp;&nbsp;&nbsp;&nbsp;$G  \\leftarrow \\sum\\nolimits_{k=t+1}^{T}  \\gamma^{k-t-1}R_k $\n",
    "\n",
    "&nbsp;&nbsp;&nbsp;&nbsp;&nbsp;&nbsp;&nbsp;&nbsp;&nbsp;&nbsp;&nbsp;&nbsp;$\\theta   \\leftarrow  \\theta +  \\alpha  \\gamma^t G \\nabla log  \\pi (A_t|S_t,  \\theta )$\n",
    "\n",
    "\n",
    "Basically it says:\n",
    "1. Generate an entire episode following the current policy $\\pi$ storing the log of each action taken and all the rewards received.\n",
    "2. For each step of the episode calculate: the discounted cumulative rewards using $\\gamma$ for each action.\n",
    "3. Compute the policy gradient and update the parameters of the policy.  \n",
    "\n",
    "*Obs:* \n",
    "1. As our objective is to do a gradient ascent (to increase the score function) we add to $\\theta$. \n",
    "2. In the code below the rewards are also subtracted by the baseline, which is calculated according to the [Karpathy blog post](https://karpathy.github.io/2016/05/31/rl/): \"e.g. subtract mean, divide by standard deviation\" \n"
   ]
  },
  {
   "cell_type": "code",
   "execution_count": 9,
   "metadata": {},
   "outputs": [],
   "source": [
    "def train(env, gamma, n_episodes=30, baseline=False):\n",
    "    \n",
    "    rewards_history = []\n",
    "    policy_history = []\n",
    "    \n",
    "    for episode in range(1, n_episodes+1):\n",
    "        state = env.reset()\n",
    "        done = False\n",
    "        rewards_episode = []\n",
    "        actions_episode = []\n",
    "        states_episode = []\n",
    "        \n",
    "        # dont't calculate the gradients as you just need to sample the probability of actions\n",
    "        with torch.no_grad():\n",
    "            while not done:\n",
    "                state = torch.tensor(state, dtype=torch.float32, device=device)\n",
    "                \n",
    "                action_probs = policy(state)\n",
    "                # sample the distribution of action_probs\n",
    "                # https://pytorch.org/docs/stable/distributions.html?highlight=distributions#module-torch.distributions\n",
    "                action = torch.distributions.Categorical(action_probs).sample()\n",
    "                action = int(action) # convert tensor to int\n",
    "\n",
    "                next_state, reward, done, _ = env.step(action)\n",
    "\n",
    "                rewards_episode.append(reward)\n",
    "                actions_episode.append(action)# store log of action probabilities\n",
    "                \n",
    "                # store state in list as a non tensor\n",
    "                states_episode.append(state.cpu().numpy())\n",
    "\n",
    "                state = next_state\n",
    "\n",
    "        rewards_history.append(np.sum(rewards_episode))\n",
    "        \n",
    "        # lambda function to avoid numpy error when calculating the mean of a list\n",
    "        mean_hist = lambda x, lim: np.mean(x) if len(x) > lim else np.mean(x[-lim:])\n",
    "    \n",
    "        if episode % print_rate == 0:\n",
    "            print(\"Episode {} \\t rewards(mean):{:.4f}\".format(episode, mean_hist(rewards_history, print_rate))) \n",
    "        \n",
    "        if baseline:\n",
    "            writer_0.add_scalar('Reward-episode', rewards_history[-1], episode)\n",
    "            writer_0.add_scalar('Reward-mean100', mean_hist(rewards_history, 100), episode)\n",
    "            writer_0.flush()\n",
    "        else:\n",
    "            writer_1.add_scalar('Reward-episode', rewards_history[-1], episode)\n",
    "            writer_1.add_scalar('Reward-mean100', mean_hist(rewards_history, 100), episode)\n",
    "            writer_1.flush()\n",
    "        \n",
    "        cumulative_rewards = np.array(get_cumulative_rewards(rewards_episode, gamma)) # calculate cumulative discounted rewards\n",
    "        \n",
    "        if baseline:\n",
    "            cumulative_rewards = (cumulative_rewards - cumulative_rewards.mean()) / cumulative_rewards.std() # normalization  \n",
    "       \n",
    "        # convert lists to torch tensors\n",
    "        batch_states = torch.tensor(states_episode, dtype=torch.float32, device=device)\n",
    "        batch_rewards = torch.tensor(cumulative_rewards, dtype=torch.float32, device=device)\n",
    "        \n",
    "        # run states batch through the network, therefore select the actions taken and calculate the log of each\n",
    "        batch_action_probs = policy(batch_states)\n",
    "        batch_log_action = torch.log(batch_action_probs[range(len(actions_episode)), actions_episode])\n",
    "        \n",
    "        # objective is what we want to maximize (therefore the -1)\n",
    "        objective = -1*(torch.sum(batch_rewards*batch_log_action))\n",
    "           \n",
    "        objective.backward()\n",
    "        optimizer.step()\n",
    "        optimizer.zero_grad()\n",
    "        \n",
    "    return rewards_history"
   ]
  },
  {
   "cell_type": "code",
   "execution_count": 10,
   "metadata": {},
   "outputs": [],
   "source": [
    "# save network parameters to be loaded later\n",
    "torch.save(policy.state_dict(), './tmp.py')"
   ]
  },
  {
   "cell_type": "code",
   "execution_count": 11,
   "metadata": {
    "scrolled": true
   },
   "outputs": [
    {
     "name": "stdout",
     "output_type": "stream",
     "text": [
      "Episode 100 \t rewards(mean):-285.5700\n",
      "Episode 200 \t rewards(mean):-224.5700\n",
      "Episode 300 \t rewards(mean):-194.7767\n",
      "Episode 400 \t rewards(mean):-177.5900\n",
      "Episode 500 \t rewards(mean):-165.4300\n",
      "Episode 600 \t rewards(mean):-158.9917\n",
      "Episode 700 \t rewards(mean):-152.5514\n",
      "Episode 800 \t rewards(mean):-149.5650\n",
      "Episode 900 \t rewards(mean):-144.3744\n",
      "Episode 1000 \t rewards(mean):-140.0410\n",
      "Episode 1100 \t rewards(mean):-136.9045\n",
      "Episode 1200 \t rewards(mean):-134.0592\n",
      "Episode 1300 \t rewards(mean):-131.8423\n",
      "Episode 1400 \t rewards(mean):-130.1593\n",
      "Episode 1500 \t rewards(mean):-128.6493\n",
      "Episode 1600 \t rewards(mean):-128.1925\n",
      "Episode 1700 \t rewards(mean):-127.4324\n",
      "Episode 1800 \t rewards(mean):-126.1317\n",
      "Episode 1900 \t rewards(mean):-124.6379\n",
      "Episode 2000 \t rewards(mean):-123.2090\n",
      "Episode 2100 \t rewards(mean):-122.3114\n",
      "Episode 2200 \t rewards(mean):-121.4518\n",
      "Episode 2300 \t rewards(mean):-120.7652\n",
      "Episode 2400 \t rewards(mean):-120.2171\n",
      "Episode 2500 \t rewards(mean):-119.6876\n",
      "Episode 2600 \t rewards(mean):-119.0877\n",
      "Episode 2700 \t rewards(mean):-118.4385\n",
      "Episode 2800 \t rewards(mean):-117.6657\n",
      "Episode 2900 \t rewards(mean):-117.2976\n",
      "Episode 3000 \t rewards(mean):-116.7990\n"
     ]
    }
   ],
   "source": [
    "rewards_wth_baseline = train(env, gamma=0.99, n_episodes=3000, baseline=False)"
   ]
  },
  {
   "cell_type": "code",
   "execution_count": 12,
   "metadata": {
    "scrolled": true
   },
   "outputs": [
    {
     "name": "stdout",
     "output_type": "stream",
     "text": [
      "Episode 100 \t rewards(mean):-406.2300\n",
      "Episode 200 \t rewards(mean):-354.7800\n",
      "Episode 300 \t rewards(mean):-325.0067\n",
      "Episode 400 \t rewards(mean):-307.3375\n",
      "Episode 500 \t rewards(mean):-294.5040\n",
      "Episode 600 \t rewards(mean):-283.2500\n",
      "Episode 700 \t rewards(mean):-271.3200\n",
      "Episode 800 \t rewards(mean):-261.4062\n",
      "Episode 900 \t rewards(mean):-251.6700\n",
      "Episode 1000 \t rewards(mean):-244.2440\n",
      "Episode 1100 \t rewards(mean):-237.4255\n",
      "Episode 1200 \t rewards(mean):-231.4533\n",
      "Episode 1300 \t rewards(mean):-226.8046\n",
      "Episode 1400 \t rewards(mean):-222.1871\n",
      "Episode 1500 \t rewards(mean):-218.2053\n",
      "Episode 1600 \t rewards(mean):-214.4131\n",
      "Episode 1700 \t rewards(mean):-211.0424\n",
      "Episode 1800 \t rewards(mean):-207.5322\n",
      "Episode 1900 \t rewards(mean):-204.8647\n",
      "Episode 2000 \t rewards(mean):-201.9035\n",
      "Episode 2100 \t rewards(mean):-199.2700\n",
      "Episode 2200 \t rewards(mean):-196.2564\n",
      "Episode 2300 \t rewards(mean):-193.3909\n",
      "Episode 2400 \t rewards(mean):-190.5721\n",
      "Episode 2500 \t rewards(mean):-188.1084\n",
      "Episode 2600 \t rewards(mean):-185.8846\n",
      "Episode 2700 \t rewards(mean):-183.5056\n",
      "Episode 2800 \t rewards(mean):-181.2186\n",
      "Episode 2900 \t rewards(mean):-179.1321\n",
      "Episode 3000 \t rewards(mean):-177.1410\n"
     ]
    }
   ],
   "source": [
    "# load the network with the same weights it had before running without a baseline\n",
    "policy.load_state_dict(torch.load('./tmp.py'))\n",
    "rewards_no_baseline = train(env, gamma=0.99, n_episodes=3000, baseline=True)"
   ]
  },
  {
   "cell_type": "code",
   "execution_count": 13,
   "metadata": {},
   "outputs": [
    {
     "data": {
      "image/png": "[encoded data removed]",
      "text/plain": [
       "<Figure size 432x288 with 1 Axes>"
      ]
     },
     "metadata": {
      "needs_background": "light"
     },
     "output_type": "display_data"
    }
   ],
   "source": [
    "from scipy.signal import savgol_filter\n",
    "\n",
    "smooth = lambda x: savgol_filter(x,99, 3)\n",
    "\n",
    "fig = plt.figure()\n",
    "ax = fig.add_subplot(111)\n",
    "\n",
    "ax.plot(smooth(rewards_wth_baseline), label='with baseline')\n",
    "ax.plot(smooth(rewards_no_baseline), label='no baseline')\n",
    "\n",
    "plt.ylabel('Reward')\n",
    "plt.xlabel('Episode')\n",
    "plt.legend(loc=4)\n",
    "plt.show()"
   ]
  },
  {
   "cell_type": "markdown",
   "metadata": {},
   "source": [
    "By the chart it's noticeable that with a baseline the network converges faster."
   ]
  },
  {
   "cell_type": "code",
   "execution_count": 14,
   "metadata": {},
   "outputs": [
    {
     "name": "stdout",
     "output_type": "stream",
     "text": [
      "Episode finished. Reward=-109.0000\n",
      "Episode finished. Reward=-117.0000\n",
      "Episode finished. Reward=-107.0000\n"
     ]
    }
   ],
   "source": [
    "# play some episodes to see how it's working \n",
    "from time import sleep\n",
    "\n",
    "policy.eval() # set model to evaluation mode\n",
    "\n",
    "for i in range(3):\n",
    "    state = env.reset()\n",
    "    done = False\n",
    "    reward_sum = 0\n",
    "    while not done:\n",
    "        env.render()\n",
    "        state = torch.tensor(state, dtype=torch.float32, device=device)\n",
    "        action_probs = policy(state)\n",
    "\n",
    "        action = int(torch.distributions.Categorical(action_probs).sample())\n",
    "        \n",
    "        state, reward, done, _ = env.step(action)\n",
    "        reward_sum += reward\n",
    " \n",
    "        sleep(0.01)\n",
    "    print(\"Episode finished. Reward={:.4f}\".format(reward_sum))"
   ]
  },
  {
   "cell_type": "code",
   "execution_count": null,
   "metadata": {},
   "outputs": [],
   "source": []
  }
 ],
 "metadata": {
  "kernelspec": {
   "display_name": "Python 3",
   "language": "python",
   "name": "python3"
  },
  "language_info": {
   "codemirror_mode": {
    "name": "ipython",
    "version": 3
   },
   "file_extension": ".py",
   "mimetype": "text/x-python",
   "name": "python",
   "nbconvert_exporter": "python",
   "pygments_lexer": "ipython3",
   "version": "3.7.4"
  }
 },
 "nbformat": 4,
 "nbformat_minor": 4
}
