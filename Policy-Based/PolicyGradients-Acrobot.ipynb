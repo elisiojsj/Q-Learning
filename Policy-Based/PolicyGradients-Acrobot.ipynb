{
 "cells": [
  {
   "cell_type": "code",
   "execution_count": 1,
   "metadata": {},
   "outputs": [],
   "source": [
    "import torch\n",
    "import torch.nn as nn\n",
    "import torch.nn.functional as F\n",
    "\n",
    "import numpy as np\n",
    "import matplotlib.pyplot as plt\n",
    "import gym\n",
    "\n",
    "from torch.utils.tensorboard import SummaryWriter"
   ]
  },
  {
   "cell_type": "code",
   "execution_count": 2,
   "metadata": {},
   "outputs": [],
   "source": [
    "class PolicyNN(nn.Module):\n",
    "    def __init__(self, input_dim, output_dim):\n",
    "        super(PolicyNN, self).__init__()\n",
    "        \n",
    "        self.network = nn.Sequential(\n",
    "            nn.Linear(input_dim, 128),\n",
    "            nn.ReLU(),\n",
    "            nn.Linear(128, 64),\n",
    "            nn.ReLU(),\n",
    "            nn.Linear(64, output_dim),\n",
    "            nn.Softmax(dim=-1)\n",
    "        )\n",
    "    \n",
    "    def forward(self, observation):\n",
    "        return self.network(observation)"
   ]
  },
  {
   "cell_type": "code",
   "execution_count": 3,
   "metadata": {},
   "outputs": [
    {
     "name": "stdout",
     "output_type": "stream",
     "text": [
      "Action space: Discrete(3)\n",
      "Observation space: Box(6,)\n"
     ]
    },
    {
     "data": {
      "text/plain": [
       "<matplotlib.image.AxesImage at 0x7eff4485fe10>"
      ]
     },
     "execution_count": 3,
     "metadata": {},
     "output_type": "execute_result"
    },
    {
     "data": {
      "image/png": "[encoded data removed]",
      "text/plain": [
       "<Figure size 432x288 with 1 Axes>"
      ]
     },
     "metadata": {
      "needs_background": "light"
     },
     "output_type": "display_data"
    }
   ],
   "source": [
    "env = gym.make('Acrobot-v1') \n",
    "\n",
    "print(\"Action space:\", env.action_space)\n",
    "print(\"Observation space:\", env.observation_space)\n",
    "\n",
    "env.reset()\n",
    "plt.imshow(env.render(\"rgb_array\"))"
   ]
  },
  {
   "cell_type": "code",
   "execution_count": 4,
   "metadata": {},
   "outputs": [
    {
     "name": "stdout",
     "output_type": "stream",
     "text": [
      "Using device: cuda\n"
     ]
    }
   ],
   "source": [
    "device = torch.device(\"cuda\" if torch.cuda.is_available() else \"cpu\")\n",
    "print(\"Using device:\", device)"
   ]
  },
  {
   "cell_type": "code",
   "execution_count": 5,
   "metadata": {},
   "outputs": [],
   "source": [
    "policy = PolicyNN(env.observation_space.shape[0], env.action_space.n).to(device)"
   ]
  },
  {
   "cell_type": "code",
   "execution_count": 6,
   "metadata": {},
   "outputs": [],
   "source": [
    "# Hyperparameters\n",
    "learning_rate = 0.001\n",
    "gamma = 0.99 # for calculating cumulative rewards\n",
    "print_rate = 50 # rate that the output will be printed\n",
    "\n",
    "\n",
    "optimizer = torch.optim.Adam(policy.parameters(), lr=learning_rate) "
   ]
  },
  {
   "cell_type": "code",
   "execution_count": 7,
   "metadata": {},
   "outputs": [],
   "source": [
    "# writer for tensorboard\n",
    "writer = SummaryWriter()\n",
    "# to see the board run on terminal the following command:\n",
    "# tensorboard --logdir=runs"
   ]
  },
  {
   "cell_type": "code",
   "execution_count": 8,
   "metadata": {},
   "outputs": [],
   "source": [
    "# this function receives a list of rewards and returns a list of the calculated cumulative rewards\n",
    "# of the same size and calculated by the discount factor (gamma)\n",
    "def get_cumulative_rewards(rewards, gamma=0.99):\n",
    "    cumulative_rw = []\n",
    "    for i in reversed(range(len(rewards))):\n",
    "        rw_sum = 0\n",
    "        pw = 0 # power to be applied on gamma\n",
    "        for j in range(i, len(rewards)):\n",
    "            rw_sum += (gamma**pw)*rewards[j] \n",
    "            pw += 1\n",
    "        cumulative_rw.append(rw_sum)\n",
    "        \n",
    "    cumulative_rw.reverse() # reverse the list\n",
    "    return cumulative_rw"
   ]
  },
  {
   "cell_type": "markdown",
   "metadata": {},
   "source": [
    "### REINFORCE pseudocode (from Sutton's book, pg. 328)\n",
    "\n",
    "Loop forever (for each episode):\n",
    "\n",
    "&nbsp;&nbsp;&nbsp;&nbsp;&nbsp;&nbsp; Generate an episode $S_0, A_0, R_1, ..., S_{T-1}, A_{T-1}, R_T$, following $\\pi(\\cdot|\\cdot, theta)$ \n",
    "\n",
    "&nbsp;&nbsp;&nbsp;&nbsp;&nbsp;&nbsp; Loop for each step of the episode t=0, 1, ..., T-1\n",
    "\n",
    "&nbsp;&nbsp;&nbsp;&nbsp;&nbsp;&nbsp;&nbsp;&nbsp;&nbsp;&nbsp;&nbsp;&nbsp;$G  \\leftarrow \\sum\\nolimits_{k=t+1}^{T}  \\gamma^{k-t-1}R_k $\n",
    "\n",
    "&nbsp;&nbsp;&nbsp;&nbsp;&nbsp;&nbsp;&nbsp;&nbsp;&nbsp;&nbsp;&nbsp;&nbsp;$\\theta   \\leftarrow  \\theta +  \\alpha  \\gamma^t G \\nabla log  \\pi (A_t|S_t,  \\theta )$\n",
    "\n",
    "\n",
    "Basically it says:\n",
    "1. Generate an entire episode following the current policy $\\pi$ storing the log of each action taken and all the rewards received.\n",
    "2. For each step of the episode calculate: the discounted cumulative rewards using $\\gamma$ for each action.\n",
    "3. Compute the policy gradient and update the parameters of the policy.  \n",
    "\n",
    "*Obs:* \n",
    "1. As our objective is to do a gradient ascent (to increase the score function) we add to $\\theta$. \n",
    "2. In the code below the rewards are also subtracted by the baseline, which is calculated according to the [Karpathy blog post](https://karpathy.github.io/2016/05/31/rl/): \"e.g. subtract mean, divide by standard deviation\" \n"
   ]
  },
  {
   "cell_type": "code",
   "execution_count": 9,
   "metadata": {},
   "outputs": [],
   "source": [
    "def train(env, gamma, n_episodes=30, baseline=False):\n",
    "    \n",
    "    rewards_history = []\n",
    "    policy_history = []\n",
    "    \n",
    "    for episode in range(1, n_episodes+1):\n",
    "        state = env.reset()\n",
    "        done = False\n",
    "        rewards_episode = []\n",
    "        actions_episode = []\n",
    "        states_episode = []\n",
    "        \n",
    "        # dont't calculate the gradients as you just need to sample the probability of actions\n",
    "        with torch.no_grad():\n",
    "            while not done:\n",
    "                state = torch.tensor(state, dtype=torch.float32, device=device)\n",
    "                \n",
    "                action_probs = policy(state)\n",
    "                # sample the distribution of action_probs\n",
    "                # https://pytorch.org/docs/stable/distributions.html?highlight=distributions#module-torch.distributions\n",
    "                action = torch.distributions.Categorical(action_probs).sample()\n",
    "                action = int(action) # convert tensor to int\n",
    "\n",
    "                next_state, reward, done, _ = env.step(action)\n",
    "\n",
    "                rewards_episode.append(reward)\n",
    "                actions_episode.append(action)# store log of action probabilities\n",
    "                \n",
    "                # store state in list as a non tensor\n",
    "                states_episode.append(state.cpu().numpy())\n",
    "\n",
    "                state = next_state\n",
    "\n",
    "        rewards_history.append(np.sum(rewards_episode))\n",
    "        \n",
    "        # lambda function to avoid numpy error when calculating the mean of a list\n",
    "        mean_hist = lambda x, lim: np.mean(x) if len(x) > lim else np.mean(x[-lim:])\n",
    "    \n",
    "        if episode % print_rate == 0:\n",
    "            print(\"Episode {} \\t rewards(mean):{:.4f}\".format(episode, mean_hist(rewards_history, print_rate))) \n",
    "        \n",
    "        writer.add_scalar('Reward-episode', rewards_history[-1], episode)\n",
    "        writer.add_scalar('Reward-mean100', mean_hist(rewards_history, 100), episode)\n",
    "        \n",
    "        cumulative_rewards = np.array(get_cumulative_rewards(rewards_episode, gamma)) # calculate cumulative discounted rewards\n",
    "        \n",
    "        if baseline:\n",
    "            cumulative_rewards = (cumulative_rewards - cumulative_rewards.mean()) / cumulative_rewards.std() # normalization  \n",
    "       \n",
    "        # convert lists to torch tensors\n",
    "        batch_states = torch.tensor(states_episode, dtype=torch.float32, device=device)\n",
    "        batch_rewards = torch.tensor(cumulative_rewards, dtype=torch.float32, device=device)\n",
    "        \n",
    "        # run states batch through the network, therefore select the actions taken and calculate the log of each\n",
    "        batch_action_probs = policy(batch_states)\n",
    "        batch_log_action = torch.log(batch_action_probs[range(len(actions_episode)), actions_episode])\n",
    "        \n",
    "        # objective is what we want to maximize (therefore the -1)\n",
    "        objective = -1*(torch.sum(batch_rewards*batch_log_action))\n",
    "           \n",
    "        objective.backward()\n",
    "        optimizer.step()\n",
    "        optimizer.zero_grad()\n",
    "        \n",
    "    return rewards_history"
   ]
  },
  {
   "cell_type": "code",
   "execution_count": 10,
   "metadata": {},
   "outputs": [],
   "source": [
    "torch.save(policy.state_dict(), './tmp.py')"
   ]
  },
  {
   "cell_type": "code",
   "execution_count": 11,
   "metadata": {
    "scrolled": true
   },
   "outputs": [
    {
     "name": "stdout",
     "output_type": "stream",
     "text": [
      "Episode 50 \t rewards(mean):-497.7800\n",
      "Episode 100 \t rewards(mean):-498.8900\n",
      "Episode 150 \t rewards(mean):-499.2600\n",
      "Episode 200 \t rewards(mean):-499.2400\n",
      "Episode 250 \t rewards(mean):-499.2680\n",
      "Episode 300 \t rewards(mean):-499.3900\n",
      "Episode 350 \t rewards(mean):-499.4771\n",
      "Episode 400 \t rewards(mean):-499.5425\n",
      "Episode 450 \t rewards(mean):-499.5933\n",
      "Episode 500 \t rewards(mean):-499.6340\n",
      "Episode 550 \t rewards(mean):-499.6673\n",
      "Episode 600 \t rewards(mean):-499.6950\n",
      "Episode 650 \t rewards(mean):-499.7185\n",
      "Episode 700 \t rewards(mean):-499.7386\n",
      "Episode 750 \t rewards(mean):-499.7560\n",
      "Episode 800 \t rewards(mean):-499.7713\n",
      "Episode 850 \t rewards(mean):-499.7847\n",
      "Episode 900 \t rewards(mean):-499.7967\n",
      "Episode 950 \t rewards(mean):-499.8074\n",
      "Episode 1000 \t rewards(mean):-499.8170\n",
      "Episode 1050 \t rewards(mean):-499.8257\n",
      "Episode 1100 \t rewards(mean):-499.8336\n",
      "Episode 1150 \t rewards(mean):-499.8409\n",
      "Episode 1200 \t rewards(mean):-499.8475\n",
      "Episode 1250 \t rewards(mean):-499.8536\n",
      "Episode 1300 \t rewards(mean):-499.8592\n",
      "Episode 1350 \t rewards(mean):-499.8644\n",
      "Episode 1400 \t rewards(mean):-499.8693\n",
      "Episode 1450 \t rewards(mean):-499.8738\n",
      "Episode 1500 \t rewards(mean):-499.8780\n",
      "Episode 1550 \t rewards(mean):-499.8819\n",
      "Episode 1600 \t rewards(mean):-498.8263\n",
      "Episode 1650 \t rewards(mean):-491.1624\n",
      "Episode 1700 \t rewards(mean):-482.3212\n",
      "Episode 1750 \t rewards(mean):-473.4400\n",
      "Episode 1800 \t rewards(mean):-465.4000\n",
      "Episode 1850 \t rewards(mean):-457.8924\n",
      "Episode 1900 \t rewards(mean):-450.1726\n",
      "Episode 1950 \t rewards(mean):-442.3574\n",
      "Episode 2000 \t rewards(mean):-435.0195\n",
      "Episode 2050 \t rewards(mean):-428.1410\n",
      "Episode 2100 \t rewards(mean):-421.5500\n",
      "Episode 2150 \t rewards(mean):-415.2423\n",
      "Episode 2200 \t rewards(mean):-409.0145\n",
      "Episode 2250 \t rewards(mean):-403.4062\n",
      "Episode 2300 \t rewards(mean):-398.0770\n",
      "Episode 2350 \t rewards(mean):-392.7626\n",
      "Episode 2400 \t rewards(mean):-387.8913\n",
      "Episode 2450 \t rewards(mean):-382.9408\n",
      "Episode 2500 \t rewards(mean):-378.1544\n",
      "Episode 2550 \t rewards(mean):-373.2314\n",
      "Episode 2600 \t rewards(mean):-368.4473\n",
      "Episode 2650 \t rewards(mean):-364.0260\n",
      "Episode 2700 \t rewards(mean):-359.6419\n",
      "Episode 2750 \t rewards(mean):-355.1287\n",
      "Episode 2800 \t rewards(mean):-351.0468\n",
      "Episode 2850 \t rewards(mean):-347.0249\n",
      "Episode 2900 \t rewards(mean):-343.0555\n",
      "Episode 2950 \t rewards(mean):-339.3729\n",
      "Episode 3000 \t rewards(mean):-335.4733\n"
     ]
    }
   ],
   "source": [
    "rewards_wth_baseline = train(env, gamma=0.99, n_episodes=3000, baseline=False)"
   ]
  },
  {
   "cell_type": "code",
   "execution_count": 12,
   "metadata": {
    "scrolled": true
   },
   "outputs": [
    {
     "name": "stdout",
     "output_type": "stream",
     "text": [
      "Episode 50 \t rewards(mean):-500.0000\n",
      "Episode 100 \t rewards(mean):-500.0000\n",
      "Episode 150 \t rewards(mean):-499.1667\n",
      "Episode 200 \t rewards(mean):-499.3750\n",
      "Episode 250 \t rewards(mean):-499.5000\n",
      "Episode 300 \t rewards(mean):-499.5833\n",
      "Episode 350 \t rewards(mean):-499.5343\n",
      "Episode 400 \t rewards(mean):-499.3700\n",
      "Episode 450 \t rewards(mean):-499.3956\n",
      "Episode 500 \t rewards(mean):-498.8120\n",
      "Episode 550 \t rewards(mean):-498.8473\n",
      "Episode 600 \t rewards(mean):-498.8567\n",
      "Episode 650 \t rewards(mean):-498.9446\n",
      "Episode 700 \t rewards(mean):-499.0129\n",
      "Episode 750 \t rewards(mean):-498.9787\n",
      "Episode 800 \t rewards(mean):-498.4950\n",
      "Episode 850 \t rewards(mean):-498.4800\n",
      "Episode 900 \t rewards(mean):-498.5644\n",
      "Episode 950 \t rewards(mean):-498.6400\n",
      "Episode 1000 \t rewards(mean):-498.7080\n",
      "Episode 1050 \t rewards(mean):-498.7695\n",
      "Episode 1100 \t rewards(mean):-498.8255\n",
      "Episode 1150 \t rewards(mean):-498.8765\n",
      "Episode 1200 \t rewards(mean):-498.8958\n",
      "Episode 1250 \t rewards(mean):-498.9400\n",
      "Episode 1300 \t rewards(mean):-498.9808\n",
      "Episode 1350 \t rewards(mean):-498.9585\n",
      "Episode 1400 \t rewards(mean):-498.9957\n",
      "Episode 1450 \t rewards(mean):-499.0193\n",
      "Episode 1500 \t rewards(mean):-499.0520\n",
      "Episode 1550 \t rewards(mean):-499.0826\n",
      "Episode 1600 \t rewards(mean):-499.1112\n",
      "Episode 1650 \t rewards(mean):-499.0770\n",
      "Episode 1700 \t rewards(mean):-499.0688\n",
      "Episode 1750 \t rewards(mean):-498.2200\n",
      "Episode 1800 \t rewards(mean):-494.7311\n",
      "Episode 1850 \t rewards(mean):-489.5746\n",
      "Episode 1900 \t rewards(mean):-483.4805\n",
      "Episode 1950 \t rewards(mean):-475.8636\n",
      "Episode 2000 \t rewards(mean):-468.0870\n",
      "Episode 2050 \t rewards(mean):-460.2210\n",
      "Episode 2100 \t rewards(mean):-453.0729\n",
      "Episode 2150 \t rewards(mean):-446.0037\n",
      "Episode 2200 \t rewards(mean):-439.1127\n",
      "Episode 2250 \t rewards(mean):-432.3751\n",
      "Episode 2300 \t rewards(mean):-425.7743\n",
      "Episode 2350 \t rewards(mean):-419.3877\n",
      "Episode 2400 \t rewards(mean):-413.3825\n",
      "Episode 2450 \t rewards(mean):-407.6416\n",
      "Episode 2500 \t rewards(mean):-402.2492\n",
      "Episode 2550 \t rewards(mean):-397.0812\n",
      "Episode 2600 \t rewards(mean):-391.9619\n",
      "Episode 2650 \t rewards(mean):-386.8351\n",
      "Episode 2700 \t rewards(mean):-382.0474\n",
      "Episode 2750 \t rewards(mean):-377.3782\n",
      "Episode 2800 \t rewards(mean):-372.5668\n",
      "Episode 2850 \t rewards(mean):-367.9926\n",
      "Episode 2900 \t rewards(mean):-363.7834\n",
      "Episode 2950 \t rewards(mean):-359.6007\n",
      "Episode 3000 \t rewards(mean):-355.5800\n"
     ]
    }
   ],
   "source": [
    "# load the network with the same weights it had before running without a baseline\n",
    "policy.load_state_dict(torch.load('./tmp.py'))\n",
    "rewards_no_baseline = train(env, gamma=0.99, n_episodes=3000, baseline=True)"
   ]
  },
  {
   "cell_type": "code",
   "execution_count": 13,
   "metadata": {},
   "outputs": [
    {
     "data": {
      "image/png": "[encoded data removed]",
      "text/plain": [
       "<Figure size 432x288 with 1 Axes>"
      ]
     },
     "metadata": {
      "needs_background": "light"
     },
     "output_type": "display_data"
    }
   ],
   "source": [
    "from scipy.signal import savgol_filter\n",
    "\n",
    "smooth = lambda x: savgol_filter(x,99, 3)\n",
    "\n",
    "fig = plt.figure()\n",
    "ax = fig.add_subplot(111)\n",
    "\n",
    "ax.plot(smooth(rewards_wth_baseline), label='with baseline')\n",
    "ax.plot(smooth(rewards_no_baseline), label='no baseline')\n",
    "\n",
    "plt.ylabel('Reward')\n",
    "plt.xlabel('Episode')\n",
    "plt.legend(loc=4)\n",
    "plt.show()"
   ]
  },
  {
   "cell_type": "markdown",
   "metadata": {},
   "source": [
    "By the chart it's noticeable that with a baseline the network converges faster."
   ]
  },
  {
   "cell_type": "code",
   "execution_count": 14,
   "metadata": {},
   "outputs": [
    {
     "name": "stdout",
     "output_type": "stream",
     "text": [
      "Episode finished. Reward=-141.0000\n",
      "Episode finished. Reward=-89.0000\n",
      "Episode finished. Reward=-142.0000\n"
     ]
    }
   ],
   "source": [
    "# play some episodes to see how it's working \n",
    "from time import sleep\n",
    "\n",
    "policy.eval() # set model to evaluation mode\n",
    "\n",
    "for i in range(3):\n",
    "    state = env.reset()\n",
    "    done = False\n",
    "    reward_sum = 0\n",
    "    while not done:\n",
    "        env.render()\n",
    "        state = torch.tensor(state, dtype=torch.float32, device=device)\n",
    "        action_probs = policy(state)\n",
    "\n",
    "        action = int(torch.distributions.Categorical(action_probs).sample())\n",
    "        \n",
    "        state, reward, done, _ = env.step(action)\n",
    "        reward_sum += reward\n",
    " \n",
    "        sleep(0.01)\n",
    "    print(\"Episode finished. Reward={:.4f}\".format(reward_sum))"
   ]
  },
  {
   "cell_type": "code",
   "execution_count": null,
   "metadata": {},
   "outputs": [],
   "source": []
  }
 ],
 "metadata": {
  "kernelspec": {
   "display_name": "Python 3",
   "language": "python",
   "name": "python3"
  },
  "language_info": {
   "codemirror_mode": {
    "name": "ipython",
    "version": 3
   },
   "file_extension": ".py",
   "mimetype": "text/x-python",
   "name": "python",
   "nbconvert_exporter": "python",
   "pygments_lexer": "ipython3",
   "version": "3.7.4"
  }
 },
 "nbformat": 4,
 "nbformat_minor": 4
}
