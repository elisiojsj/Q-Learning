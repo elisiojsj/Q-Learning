{
 "cells": [
  {
   "cell_type": "code",
   "execution_count": 1,
   "metadata": {},
   "outputs": [],
   "source": [
    "import torch\n",
    "import torch.nn as nn\n",
    "import torch.nn.functional as F\n",
    "\n",
    "import numpy as np\n",
    "import matplotlib.pyplot as plt\n",
    "import gym\n",
    "\n",
    "from torch.utils.tensorboard import SummaryWriter"
   ]
  },
  {
   "cell_type": "code",
   "execution_count": 2,
   "metadata": {},
   "outputs": [],
   "source": [
    "class PolicyNN(nn.Module):\n",
    "    def __init__(self, input_dim, output_dim):\n",
    "        super(PolicyNN, self).__init__()\n",
    "        \n",
    "        self.network = nn.Sequential(\n",
    "            nn.Linear(input_dim, 128),\n",
    "            nn.ReLU(),\n",
    "            nn.Linear(128, output_dim),\n",
    "            nn.Softmax(dim=-1)\n",
    "        )\n",
    "    \n",
    "    def forward(self, observation):\n",
    "        return self.network(observation)"
   ]
  },
  {
   "cell_type": "code",
   "execution_count": 3,
   "metadata": {},
   "outputs": [
    {
     "name": "stdout",
     "output_type": "stream",
     "text": [
      "Action space: Discrete(3)\n",
      "Observation space: Box(6,)\n"
     ]
    },
    {
     "data": {
      "text/plain": [
       "<matplotlib.image.AxesImage at 0x7f6d12133a90>"
      ]
     },
     "execution_count": 3,
     "metadata": {},
     "output_type": "execute_result"
    },
    {
     "data": {
      "image/png": "[encoded data removed]",
      "text/plain": [
       "<Figure size 432x288 with 1 Axes>"
      ]
     },
     "metadata": {
      "needs_background": "light"
     },
     "output_type": "display_data"
    }
   ],
   "source": [
    "env = gym.make('Acrobot-v1') # make lunar-lander environment\n",
    "\n",
    "print(\"Action space:\", env.action_space)\n",
    "print(\"Observation space:\", env.observation_space)\n",
    "\n",
    "env.reset()\n",
    "plt.imshow(env.render(\"rgb_array\"))"
   ]
  },
  {
   "cell_type": "code",
   "execution_count": 4,
   "metadata": {},
   "outputs": [
    {
     "name": "stdout",
     "output_type": "stream",
     "text": [
      "Using device: cuda\n"
     ]
    }
   ],
   "source": [
    "device = torch.device(\"cuda\" if torch.cuda.is_available() else \"cpu\")\n",
    "print(\"Using device:\", device)"
   ]
  },
  {
   "cell_type": "code",
   "execution_count": 5,
   "metadata": {},
   "outputs": [],
   "source": [
    "policy = PolicyNN(env.observation_space.shape[0], env.action_space.n).to(device)"
   ]
  },
  {
   "cell_type": "code",
   "execution_count": 6,
   "metadata": {},
   "outputs": [],
   "source": [
    "# Hyperparameters\n",
    "learning_rate = 0.001\n",
    "gamma = 0.99 # for calculating cumulative rewards\n",
    "print_rate = 50 # rate that the output will be printed\n",
    "\n",
    "\n",
    "optimizer = torch.optim.Adam(policy.parameters(), lr=learning_rate) "
   ]
  },
  {
   "cell_type": "code",
   "execution_count": 7,
   "metadata": {},
   "outputs": [],
   "source": [
    "# writer for tensorboard\n",
    "writer = SummaryWriter()\n",
    "# to see the board run on terminal the following command:\n",
    "# tensorboard --logdir=runs"
   ]
  },
  {
   "cell_type": "code",
   "execution_count": 8,
   "metadata": {},
   "outputs": [],
   "source": [
    "# this function receives a list of rewards and returns a list of the calculated cumulative rewards\n",
    "# of the same size and calculated by the discount factor (gamma)\n",
    "def get_cumulative_rewards(rewards, gamma=0.99):\n",
    "    cumulative_rw = []\n",
    "    for i in reversed(range(len(rewards))):\n",
    "        rw_sum = 0\n",
    "        pw = 0 # power to be applied on gamma\n",
    "        for j in range(i, len(rewards)):\n",
    "            rw_sum += (gamma**pw)*rewards[j] \n",
    "            pw += 1\n",
    "        cumulative_rw.append(rw_sum)\n",
    "        \n",
    "    cumulative_rw.reverse() # reverse the list\n",
    "    return cumulative_rw"
   ]
  },
  {
   "cell_type": "markdown",
   "metadata": {},
   "source": [
    "### REINFORCE pseudocode (from Sutton's book, pg. 328)\n",
    "\n",
    "Loop forever (for each episode):\n",
    "\n",
    "&nbsp;&nbsp;&nbsp;&nbsp;&nbsp;&nbsp; Generate an episode $S_0, A_0, R_1, ..., S_{T-1}, A_{T-1}, R_T$, following $\\pi(\\cdot|\\cdot, theta)$ \n",
    "\n",
    "&nbsp;&nbsp;&nbsp;&nbsp;&nbsp;&nbsp; Loop for each step of the episode t=0, 1, ..., T-1\n",
    "\n",
    "&nbsp;&nbsp;&nbsp;&nbsp;&nbsp;&nbsp;&nbsp;&nbsp;&nbsp;&nbsp;&nbsp;&nbsp;$G  \\leftarrow \\sum\\nolimits_{k=t+1}^{T}  \\gamma^{k-t-1}R_k $\n",
    "\n",
    "&nbsp;&nbsp;&nbsp;&nbsp;&nbsp;&nbsp;&nbsp;&nbsp;&nbsp;&nbsp;&nbsp;&nbsp;$\\theta   \\leftarrow  \\theta +  \\alpha  \\gamma^t G \\nabla log  \\pi (A_t|S_t,  \\theta )$\n",
    "\n",
    "\n",
    "Basically it says:\n",
    "1. Generate an entire episode following the current policy $\\pi$ storing the log of each action taken and all the rewards received.\n",
    "2. For each step of the episode calculate: the discounted cumulative rewards using $\\gamma$ for each action.\n",
    "3. Compute the policy gradient and update the parameters of the policy.  \n",
    "\n",
    "*Obs:* \n",
    "1. As our objective is to do a gradient ascent (to increase the score function) we add to $\\theta$. \n",
    "2. In the code below the rewards are also subtracted by the baseline, which is calculated according to the [Karpathy blog post](https://karpathy.github.io/2016/05/31/rl/): \"e.g. subtract mean, divide by standard deviation\" \n"
   ]
  },
  {
   "cell_type": "code",
   "execution_count": 9,
   "metadata": {},
   "outputs": [],
   "source": [
    "def train(env, gamma, n_episodes=30):\n",
    "    \n",
    "    rewards_history = []\n",
    "    policy_history = []\n",
    "    \n",
    "    for episode in range(1, n_episodes+1):\n",
    "        state = env.reset()\n",
    "        done = False\n",
    "        rewards_episode = []\n",
    "        actions_episode = []\n",
    "        states_episode = []\n",
    "        \n",
    "        # dont't calculate the gradients as you just need to sample the probability of actions\n",
    "        with torch.no_grad():\n",
    "            while not done:\n",
    "                state = torch.tensor(state, dtype=torch.float32, device=device)\n",
    "                \n",
    "                action_probs = policy(state)\n",
    "                # sample the distribution of action_probs\n",
    "                # https://pytorch.org/docs/stable/distributions.html?highlight=distributions#module-torch.distributions\n",
    "                action = torch.distributions.Categorical(action_probs).sample()\n",
    "                action = int(action) # convert tensor to int\n",
    "\n",
    "                next_state, reward, done, _ = env.step(action)\n",
    "\n",
    "                rewards_episode.append(reward)\n",
    "                actions_episode.append(action)# store log of action probabilities\n",
    "                \n",
    "                states_episode.append(state.cpu().numpy())\n",
    "\n",
    "                state = next_state\n",
    "\n",
    "        rewards_history.append(np.sum(rewards_episode))\n",
    "        \n",
    "        # lambda function to avoid numpy error when calculating the mean of a list\n",
    "        mean_hist = lambda x, lim: np.mean(x) if len(x) > lim else np.mean(x[-lim:])\n",
    "    \n",
    "        if episode % print_rate == 0:\n",
    "            print(\"Episode {} \\t rewards(mean):{:.4f}\".format(episode, mean_hist(rewards_history, print_rate))) \n",
    "        \n",
    "        writer.add_scalar('Reward-episode', rewards_history[-1], episode)\n",
    "        writer.add_scalar('Reward-mean100', mean_hist(rewards_history, 100), episode)\n",
    "        \n",
    "        cumulative_rewards = np.array(get_cumulative_rewards(rewards_episode, gamma)) # calculate cumulative rewards\n",
    "        cumulative_rewards = (cumulative_rewards - cumulative_rewards.mean()) / cumulative_rewards.std() # normalization  \n",
    "       \n",
    "        # convert lists to torch tensors\n",
    "        batch_states = torch.tensor(states_episode, dtype=torch.float32, device=device)\n",
    "        batch_rewards = torch.tensor(cumulative_rewards, dtype=torch.float32, device=device)\n",
    "        \n",
    "        # run states batch through the network, therefore select the actions taken and calculate the log of each\n",
    "        batch_action_probs = policy(batch_states)\n",
    "        batch_log_action = torch.log(batch_action_probs[range(len(actions_episode)), actions_episode])\n",
    "        \n",
    "        # objective is what we want to maximize (therefore the -1)\n",
    "        objective = -1*(torch.sum(batch_rewards*batch_log_action))\n",
    "           \n",
    "        objective.backward()\n",
    "        optimizer.step()\n",
    "        optimizer.zero_grad()\n",
    "        \n",
    "    return rewards_history"
   ]
  },
  {
   "cell_type": "code",
   "execution_count": 10,
   "metadata": {
    "scrolled": true
   },
   "outputs": [
    {
     "name": "stdout",
     "output_type": "stream",
     "text": [
      "Episode 50 \t rewards(mean):-301.0600\n",
      "Episode 100 \t rewards(mean):-249.9900\n",
      "Episode 150 \t rewards(mean):-220.5733\n",
      "Episode 200 \t rewards(mean):-201.2050\n",
      "Episode 250 \t rewards(mean):-189.2400\n",
      "Episode 300 \t rewards(mean):-177.8800\n",
      "Episode 350 \t rewards(mean):-170.4543\n",
      "Episode 400 \t rewards(mean):-163.1450\n",
      "Episode 450 \t rewards(mean):-156.4911\n",
      "Episode 500 \t rewards(mean):-151.4800\n",
      "Episode 550 \t rewards(mean):-146.7236\n",
      "Episode 600 \t rewards(mean):-143.1383\n",
      "Episode 650 \t rewards(mean):-140.6615\n",
      "Episode 700 \t rewards(mean):-137.6986\n",
      "Episode 750 \t rewards(mean):-134.8587\n",
      "Episode 800 \t rewards(mean):-133.1550\n",
      "Episode 850 \t rewards(mean):-131.2882\n",
      "Episode 900 \t rewards(mean):-129.6389\n",
      "Episode 950 \t rewards(mean):-128.1421\n",
      "Episode 1000 \t rewards(mean):-126.5080\n",
      "Episode 1050 \t rewards(mean):-125.4057\n",
      "Episode 1100 \t rewards(mean):-124.1800\n",
      "Episode 1150 \t rewards(mean):-123.1383\n",
      "Episode 1200 \t rewards(mean):-121.9192\n",
      "Episode 1250 \t rewards(mean):-121.1560\n",
      "Episode 1300 \t rewards(mean):-120.0423\n",
      "Episode 1350 \t rewards(mean):-119.2007\n",
      "Episode 1400 \t rewards(mean):-118.2021\n",
      "Episode 1450 \t rewards(mean):-117.4021\n",
      "Episode 1500 \t rewards(mean):-116.5327\n",
      "Episode 1550 \t rewards(mean):-115.8361\n",
      "Episode 1600 \t rewards(mean):-115.0263\n",
      "Episode 1650 \t rewards(mean):-114.4248\n",
      "Episode 1700 \t rewards(mean):-113.8571\n",
      "Episode 1750 \t rewards(mean):-113.4931\n",
      "Episode 1800 \t rewards(mean):-113.1850\n",
      "Episode 1850 \t rewards(mean):-112.7362\n",
      "Episode 1900 \t rewards(mean):-112.2642\n",
      "Episode 1950 \t rewards(mean):-111.7795\n",
      "Episode 2000 \t rewards(mean):-111.2850\n",
      "Episode 2050 \t rewards(mean):-110.6473\n",
      "Episode 2100 \t rewards(mean):-110.2419\n",
      "Episode 2150 \t rewards(mean):-109.6558\n",
      "Episode 2200 \t rewards(mean):-109.3145\n",
      "Episode 2250 \t rewards(mean):-109.0431\n",
      "Episode 2300 \t rewards(mean):-108.7022\n",
      "Episode 2350 \t rewards(mean):-108.1574\n",
      "Episode 2400 \t rewards(mean):-107.6117\n",
      "Episode 2450 \t rewards(mean):-107.0898\n",
      "Episode 2500 \t rewards(mean):-106.7804\n",
      "Episode 2550 \t rewards(mean):-106.4463\n",
      "Episode 2600 \t rewards(mean):-106.1435\n",
      "Episode 2650 \t rewards(mean):-105.8475\n",
      "Episode 2700 \t rewards(mean):-105.5604\n",
      "Episode 2750 \t rewards(mean):-105.2971\n",
      "Episode 2800 \t rewards(mean):-104.9854\n",
      "Episode 2850 \t rewards(mean):-104.7365\n",
      "Episode 2900 \t rewards(mean):-104.4117\n",
      "Episode 2950 \t rewards(mean):-104.1688\n",
      "Episode 3000 \t rewards(mean):-104.1300\n"
     ]
    }
   ],
   "source": [
    "rewards = train(env, gamma=0.99, n_episodes=3000)"
   ]
  },
  {
   "cell_type": "code",
   "execution_count": 11,
   "metadata": {},
   "outputs": [
    {
     "data": {
      "image/png": "[encoded data removed]",
      "text/plain": [
       "<Figure size 432x288 with 1 Axes>"
      ]
     },
     "metadata": {
      "needs_background": "light"
     },
     "output_type": "display_data"
    }
   ],
   "source": [
    "from scipy.signal import savgol_filter\n",
    "\n",
    "plt.plot(savgol_filter(rewards, 99, 3))\n",
    "plt.ylabel('Reward')\n",
    "plt.xlabel('Episode')\n",
    "plt.show()"
   ]
  },
  {
   "cell_type": "code",
   "execution_count": 13,
   "metadata": {},
   "outputs": [
    {
     "name": "stdout",
     "output_type": "stream",
     "text": [
      "Episode finished. Reward=-88.0000\n",
      "Episode finished. Reward=-82.0000\n",
      "Episode finished. Reward=-121.0000\n"
     ]
    }
   ],
   "source": [
    "# play some episodes to see how it's working \n",
    "from time import sleep\n",
    "\n",
    "policy.eval() # set model to evaluation mode\n",
    "\n",
    "for i in range(3):\n",
    "    state = env.reset()\n",
    "    done = False\n",
    "    reward_sum = 0\n",
    "    while not done:\n",
    "        env.render()\n",
    "        state = torch.tensor(state, dtype=torch.float32, device=device)\n",
    "        action_probs = policy(state)\n",
    "\n",
    "        action = int(torch.distributions.Categorical(action_probs).sample())\n",
    "        \n",
    "        state, reward, done, _ = env.step(action)\n",
    "        reward_sum += reward\n",
    " \n",
    "        sleep(0.01)\n",
    "    print(\"Episode finished. Reward={:.4f}\".format(reward_sum))"
   ]
  },
  {
   "cell_type": "code",
   "execution_count": null,
   "metadata": {},
   "outputs": [],
   "source": []
  }
 ],
 "metadata": {
  "kernelspec": {
   "display_name": "Python 3",
   "language": "python",
   "name": "python3"
  },
  "language_info": {
   "codemirror_mode": {
    "name": "ipython",
    "version": 3
   },
   "file_extension": ".py",
   "mimetype": "text/x-python",
   "name": "python",
   "nbconvert_exporter": "python",
   "pygments_lexer": "ipython3",
   "version": "3.7.4"
  }
 },
 "nbformat": 4,
 "nbformat_minor": 4
}
