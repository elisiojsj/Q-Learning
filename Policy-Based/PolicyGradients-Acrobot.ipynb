{
 "cells": [
  {
   "cell_type": "code",
   "execution_count": 11,
   "metadata": {},
   "outputs": [],
   "source": [
    "import torch\n",
    "import torch.nn as nn\n",
    "import torch.nn.functional as F\n",
    "\n",
    "import numpy as np\n",
    "import matplotlib.pyplot as plt\n",
    "import gym\n",
    "\n",
    "from torch.utils.tensorboard import SummaryWriter"
   ]
  },
  {
   "cell_type": "code",
   "execution_count": 12,
   "metadata": {},
   "outputs": [],
   "source": [
    "class PolicyNN(nn.Module):\n",
    "    def __init__(self, input_dim, output_dim):\n",
    "        super(PolicyNN, self).__init__()\n",
    "        \n",
    "        self.network = nn.Sequential(\n",
    "            nn.Linear(input_dim, 128),\n",
    "            nn.ReLU(),\n",
    "            nn.Linear(128, output_dim),\n",
    "            nn.Softmax(dim=-1)\n",
    "        )\n",
    "    \n",
    "    def forward(self, observation):\n",
    "        return self.network(observation)"
   ]
  },
  {
   "cell_type": "code",
   "execution_count": 13,
   "metadata": {},
   "outputs": [
    {
     "name": "stdout",
     "output_type": "stream",
     "text": [
      "Action space: Discrete(3)\n",
      "Observation space: Box(6,)\n"
     ]
    },
    {
     "data": {
      "text/plain": [
       "<matplotlib.image.AxesImage at 0x7f7af8790a10>"
      ]
     },
     "execution_count": 13,
     "metadata": {},
     "output_type": "execute_result"
    },
    {
     "data": {
      "image/png": "[encoded data removed]",
      "text/plain": [
       "<Figure size 432x288 with 1 Axes>"
      ]
     },
     "metadata": {
      "needs_background": "light"
     },
     "output_type": "display_data"
    }
   ],
   "source": [
    "env = gym.make('Acrobot-v1') # make lunar-lander environment\n",
    "\n",
    "print(\"Action space:\", env.action_space)\n",
    "print(\"Observation space:\", env.observation_space)\n",
    "\n",
    "env.reset()\n",
    "plt.imshow(env.render(\"rgb_array\"))"
   ]
  },
  {
   "cell_type": "code",
   "execution_count": 14,
   "metadata": {},
   "outputs": [
    {
     "name": "stdout",
     "output_type": "stream",
     "text": [
      "Using device: cuda\n"
     ]
    }
   ],
   "source": [
    "device = torch.device(\"cuda\" if torch.cuda.is_available() else \"cpu\")\n",
    "print(\"Using device:\", device)"
   ]
  },
  {
   "cell_type": "code",
   "execution_count": 15,
   "metadata": {},
   "outputs": [],
   "source": [
    "policy = PolicyNN(env.observation_space.shape[0], env.action_space.n).to(device)"
   ]
  },
  {
   "cell_type": "code",
   "execution_count": 16,
   "metadata": {},
   "outputs": [],
   "source": [
    "# Hyperparameters\n",
    "learning_rate = 0.001\n",
    "gamma = 0.99 # for calculating cumulative rewards\n",
    "print_rate = 50 # rate that the output will be printed\n",
    "\n",
    "\n",
    "optimizer = torch.optim.Adam(policy.parameters(), lr=learning_rate) "
   ]
  },
  {
   "cell_type": "code",
   "execution_count": 17,
   "metadata": {},
   "outputs": [],
   "source": [
    "# writer for tensorboard\n",
    "writer = SummaryWriter()\n",
    "# to see the board run on terminal the following command:\n",
    "# tensorboard --logdir=runs"
   ]
  },
  {
   "cell_type": "code",
   "execution_count": 18,
   "metadata": {},
   "outputs": [],
   "source": [
    "# this function receives a list of rewards and returns a list of the calculated cumulative rewards\n",
    "# of the same size and calculated by the discount factor (gamma)\n",
    "def get_cumulative_rewards(rewards, gamma=0.99):\n",
    "    cumulative_rw = []\n",
    "    for i in reversed(range(len(rewards))):\n",
    "        rw_sum = 0\n",
    "        pw = 0 # power to be applied on gamma\n",
    "        for j in range(i, len(rewards)):\n",
    "            rw_sum += (gamma**pw)*rewards[j] \n",
    "            pw += 1\n",
    "        cumulative_rw.append(rw_sum)\n",
    "        \n",
    "    cumulative_rw.reverse() # reverse the list\n",
    "    return cumulative_rw #torch.tensor(cumulative_rw, dtype=torch.float32)\n",
    "    #return torch.tensor(cumulative_rw, dtype=torch.float32)"
   ]
  },
  {
   "cell_type": "markdown",
   "metadata": {},
   "source": [
    "### REINFORCE pseudocode (from Sutton's book, pg. 328)\n",
    "\n",
    "Loop forever (for each episode):\n",
    "\n",
    "&nbsp;&nbsp;&nbsp;&nbsp;&nbsp;&nbsp; Generate an episode $S_0, A_0, R_1, ..., S_{T-1}, A_{T-1}, R_T$, following $\\pi(\\cdot|\\cdot, theta)$ \n",
    "\n",
    "&nbsp;&nbsp;&nbsp;&nbsp;&nbsp;&nbsp; Loop for each step of the episode t=0, 1, ..., T-1\n",
    "\n",
    "&nbsp;&nbsp;&nbsp;&nbsp;&nbsp;&nbsp;&nbsp;&nbsp;&nbsp;&nbsp;&nbsp;&nbsp;$G  \\leftarrow \\sum\\nolimits_{k=t+1}^{T}  \\gamma^{k-t-1}R_k $\n",
    "\n",
    "&nbsp;&nbsp;&nbsp;&nbsp;&nbsp;&nbsp;&nbsp;&nbsp;&nbsp;&nbsp;&nbsp;&nbsp;$\\theta   \\leftarrow  \\theta +  \\alpha  \\gamma^t G \\nabla log  \\pi (A_t|S_t,  \\theta )$\n",
    "\n",
    "\n",
    "Basically it says:\n",
    "1. Generate an entire episode following the current policy $\\pi$ storing the log of each action taken and all the rewards received.\n",
    "2. For each step of the episode calculate: the discounted cumulative rewards using $\\gamma$ for each action.\n",
    "3. Compute the policy gradient and update the parameters of the policy.  \n",
    "\n",
    "*Obs:* \n",
    "1. As our objective is to do a gradient ascent (to increase the score function) we add to $\\theta$. \n",
    "2. In the code below the rewards are also subtracted by the baseline, which is calculated according to the [Karpathy blog post](https://karpathy.github.io/2016/05/31/rl/): \"e.g. subtract mean, divide by standard deviation\" \n"
   ]
  },
  {
   "cell_type": "code",
   "execution_count": 19,
   "metadata": {},
   "outputs": [],
   "source": [
    "def train(env, gamma, n_episodes=30):\n",
    "    \n",
    "    rewards_history = []\n",
    "    policy_history = []\n",
    "    \n",
    "    for episode in range(1, n_episodes+1):\n",
    "        state = env.reset()\n",
    "        done = False\n",
    "        rewards_episode = []\n",
    "        actions_episode = []\n",
    "        states_episode = []\n",
    "        \n",
    "        # dont't calculate the gradients as you just need to sample the probability of actions\n",
    "        with torch.no_grad():\n",
    "            while not done:\n",
    "                state = torch.tensor(state, dtype=torch.float32, device=device)\n",
    "                \n",
    "                action_probs = policy(state)\n",
    "                # sample the distribution of action_probs\n",
    "                # https://pytorch.org/docs/stable/distributions.html?highlight=distributions#module-torch.distributions\n",
    "                action = torch.distributions.Categorical(action_probs).sample()\n",
    "                action = int(action) # convert tensor to int\n",
    "\n",
    "                next_state, reward, done, _ = env.step(action)\n",
    "\n",
    "                rewards_episode.append(reward)\n",
    "                actions_episode.append(action)# store log of action probabilities\n",
    "                \n",
    "                states_episode.append(state.cpu().numpy())\n",
    "\n",
    "                state = next_state\n",
    "\n",
    "        rewards_history.append(np.sum(rewards_episode))\n",
    "        \n",
    "        # lambda function to avoid numpy error when calculating the mean of a list\n",
    "        mean_hist = lambda x, lim: np.mean(x) if len(x) > lim else np.mean(x[-lim:])\n",
    "    \n",
    "        if episode % print_rate == 0:\n",
    "            print(\"Episode {} \\t rewards(mean):{:.4f}\".format(episode, mean_hist(rewards_history, print_rate))) \n",
    "        \n",
    "        writer.add_scalar('Reward-episode', rewards_history[-1], episode)\n",
    "        writer.add_scalar('Reward-mean100', mean_hist(rewards_history, 100), episode)\n",
    "        \n",
    "        cumulative_rewards = np.array(get_cumulative_rewards(rewards_episode, gamma)) # calculate cumulative rewards\n",
    "        cumulative_rewards = (cumulative_rewards - cumulative_rewards.mean()) / cumulative_rewards.std() # normalization  \n",
    "       \n",
    "        # convert lists to torch tensors\n",
    "        batch_states = torch.tensor(states_episode, dtype=torch.float32, device=device)\n",
    "        batch_rewards = torch.tensor(cumulative_rewards, dtype=torch.float32, device=device)\n",
    "        \n",
    "        # run states batch through the network, therefore select the actions taken and calculate the log of each\n",
    "        batch_action_probs = policy(batch_states)\n",
    "        batch_log_action = torch.log(batch_action_probs[range(len(actions_episode)), actions_episode])\n",
    "        \n",
    "        # objective is what we want to maximize (therefore the -1)\n",
    "        objective = -1*((batch_rewards*batch_log_action).mean())\n",
    "           \n",
    "        objective.backward()\n",
    "        optimizer.step()\n",
    "        optimizer.zero_grad()\n",
    "        \n",
    "    return rewards_history"
   ]
  },
  {
   "cell_type": "code",
   "execution_count": 20,
   "metadata": {
    "scrolled": true
   },
   "outputs": [
    {
     "name": "stdout",
     "output_type": "stream",
     "text": [
      "Episode 50 \t rewards(mean):-498.1600\n",
      "Episode 100 \t rewards(mean):-499.0800\n",
      "Episode 150 \t rewards(mean):-499.3867\n",
      "Episode 200 \t rewards(mean):-496.9600\n",
      "Episode 250 \t rewards(mean):-496.1760\n",
      "Episode 300 \t rewards(mean):-496.7433\n",
      "Episode 350 \t rewards(mean):-467.0143\n",
      "Episode 400 \t rewards(mean):-429.0250\n",
      "Episode 450 \t rewards(mean):-397.3467\n",
      "Episode 500 \t rewards(mean):-371.2320\n",
      "Episode 550 \t rewards(mean):-348.6309\n",
      "Episode 600 \t rewards(mean):-329.2333\n",
      "Episode 650 \t rewards(mean):-312.4985\n",
      "Episode 700 \t rewards(mean):-298.0900\n",
      "Episode 750 \t rewards(mean):-286.2387\n",
      "Episode 800 \t rewards(mean):-275.8450\n",
      "Episode 850 \t rewards(mean):-266.1788\n",
      "Episode 900 \t rewards(mean):-257.7678\n",
      "Episode 950 \t rewards(mean):-251.0021\n",
      "Episode 1000 \t rewards(mean):-244.9520\n",
      "Episode 1050 \t rewards(mean):-238.9867\n",
      "Episode 1100 \t rewards(mean):-233.5245\n",
      "Episode 1150 \t rewards(mean):-228.4513\n",
      "Episode 1200 \t rewards(mean):-223.7725\n",
      "Episode 1250 \t rewards(mean):-219.5488\n",
      "Episode 1300 \t rewards(mean):-215.8177\n",
      "Episode 1350 \t rewards(mean):-212.3600\n",
      "Episode 1400 \t rewards(mean):-208.8400\n",
      "Episode 1450 \t rewards(mean):-205.2414\n",
      "Episode 1500 \t rewards(mean):-202.0773\n",
      "Episode 1550 \t rewards(mean):-199.2890\n",
      "Episode 1600 \t rewards(mean):-196.7812\n",
      "Episode 1650 \t rewards(mean):-194.3697\n",
      "Episode 1700 \t rewards(mean):-192.1859\n",
      "Episode 1750 \t rewards(mean):-189.8983\n",
      "Episode 1800 \t rewards(mean):-187.6172\n",
      "Episode 1850 \t rewards(mean):-185.6092\n",
      "Episode 1900 \t rewards(mean):-183.5489\n",
      "Episode 1950 \t rewards(mean):-181.4667\n",
      "Episode 2000 \t rewards(mean):-179.8030\n",
      "Episode 2050 \t rewards(mean):-178.3688\n",
      "Episode 2100 \t rewards(mean):-176.8519\n",
      "Episode 2150 \t rewards(mean):-175.7847\n",
      "Episode 2200 \t rewards(mean):-174.6841\n",
      "Episode 2250 \t rewards(mean):-174.1004\n",
      "Episode 2300 \t rewards(mean):-173.3917\n",
      "Episode 2350 \t rewards(mean):-172.0626\n",
      "Episode 2400 \t rewards(mean):-171.0808\n",
      "Episode 2450 \t rewards(mean):-170.1780\n",
      "Episode 2500 \t rewards(mean):-169.1836\n",
      "Episode 2550 \t rewards(mean):-168.3816\n",
      "Episode 2600 \t rewards(mean):-167.5408\n",
      "Episode 2650 \t rewards(mean):-166.6872\n",
      "Episode 2700 \t rewards(mean):-166.1941\n",
      "Episode 2750 \t rewards(mean):-165.9371\n",
      "Episode 2800 \t rewards(mean):-165.3811\n",
      "Episode 2850 \t rewards(mean):-164.5737\n",
      "Episode 2900 \t rewards(mean):-163.9186\n",
      "Episode 2950 \t rewards(mean):-163.5034\n",
      "Episode 3000 \t rewards(mean):-162.9917\n"
     ]
    }
   ],
   "source": [
    "rewards = train(env, gamma=0.99, n_episodes=3000)"
   ]
  },
  {
   "cell_type": "code",
   "execution_count": 21,
   "metadata": {},
   "outputs": [
    {
     "data": {
      "image/png": "[encoded data removed]",
      "text/plain": [
       "<Figure size 432x288 with 1 Axes>"
      ]
     },
     "metadata": {
      "needs_background": "light"
     },
     "output_type": "display_data"
    }
   ],
   "source": [
    "from scipy.signal import savgol_filter\n",
    "\n",
    "plt.plot(savgol_filter(rewards, 99, 3))\n",
    "plt.ylabel('Reward')\n",
    "plt.xlabel('Episode')\n",
    "plt.show()"
   ]
  },
  {
   "cell_type": "code",
   "execution_count": 22,
   "metadata": {},
   "outputs": [
    {
     "name": "stdout",
     "output_type": "stream",
     "text": [
      "Episode finished. Reward=-89.0000\n",
      "Episode finished. Reward=-147.0000\n",
      "Episode finished. Reward=-103.0000\n"
     ]
    }
   ],
   "source": [
    "# play some episodes to see how it's working \n",
    "from time import sleep\n",
    "\n",
    "policy.eval() # set model to evaluation mode\n",
    "\n",
    "for i in range(3):\n",
    "    state = env.reset()\n",
    "    done = False\n",
    "    reward_sum = 0\n",
    "    while not done:\n",
    "        env.render()\n",
    "        state = torch.tensor(state, dtype=torch.float32, device=device)\n",
    "        action_probs = policy(state)\n",
    "\n",
    "        action = int(torch.distributions.Categorical(action_probs).sample())\n",
    "        \n",
    "        state, reward, done, _ = env.step(action)\n",
    "        reward_sum += reward\n",
    " \n",
    "        sleep(0.01)\n",
    "    print(\"Episode finished. Reward={:.4f}\".format(reward_sum))"
   ]
  },
  {
   "cell_type": "code",
   "execution_count": null,
   "metadata": {},
   "outputs": [],
   "source": []
  }
 ],
 "metadata": {
  "kernelspec": {
   "display_name": "Python 3",
   "language": "python",
   "name": "python3"
  },
  "language_info": {
   "codemirror_mode": {
    "name": "ipython",
    "version": 3
   },
   "file_extension": ".py",
   "mimetype": "text/x-python",
   "name": "python",
   "nbconvert_exporter": "python",
   "pygments_lexer": "ipython3",
   "version": "3.7.4"
  }
 },
 "nbformat": 4,
 "nbformat_minor": 4
}
