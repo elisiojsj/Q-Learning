{
 "cells": [
  {
   "cell_type": "code",
   "execution_count": 1,
   "metadata": {},
   "outputs": [],
   "source": [
    "import torch\n",
    "import torch.nn as nn\n",
    "import torch.nn.functional as F\n",
    "\n",
    "import numpy as np\n",
    "import matplotlib.pyplot as plt\n",
    "import gym\n",
    "\n",
    "from torch.utils.tensorboard import SummaryWriter"
   ]
  },
  {
   "cell_type": "code",
   "execution_count": 2,
   "metadata": {},
   "outputs": [],
   "source": [
    "class PolicyNN(nn.Module):\n",
    "    def __init__(self, input_dim, output_dim):\n",
    "        super(PolicyNN, self).__init__()\n",
    "        \n",
    "        self.network = nn.Sequential(\n",
    "            nn.Linear(input_dim, 128),\n",
    "            nn.ReLU(),\n",
    "            nn.Linear(128, output_dim),\n",
    "            nn.Softmax(dim=-1)\n",
    "        )\n",
    "    \n",
    "    def forward(self, observation):\n",
    "        return self.network(observation)"
   ]
  },
  {
   "cell_type": "code",
   "execution_count": 3,
   "metadata": {},
   "outputs": [
    {
     "name": "stdout",
     "output_type": "stream",
     "text": [
      "Action space: Discrete(3)\n",
      "Observation space: Box(6,)\n"
     ]
    },
    {
     "data": {
      "text/plain": [
       "<matplotlib.image.AxesImage at 0x7f02c10e3b50>"
      ]
     },
     "execution_count": 3,
     "metadata": {},
     "output_type": "execute_result"
    },
    {
     "data": {
      "image/png": "[encoded data removed]",
      "text/plain": [
       "<Figure size 432x288 with 1 Axes>"
      ]
     },
     "metadata": {
      "needs_background": "light"
     },
     "output_type": "display_data"
    }
   ],
   "source": [
    "env = gym.make('Acrobot-v1') \n",
    "\n",
    "print(\"Action space:\", env.action_space)\n",
    "print(\"Observation space:\", env.observation_space)\n",
    "\n",
    "env.reset()\n",
    "plt.imshow(env.render(\"rgb_array\"))"
   ]
  },
  {
   "cell_type": "code",
   "execution_count": 4,
   "metadata": {},
   "outputs": [
    {
     "name": "stdout",
     "output_type": "stream",
     "text": [
      "Using device: cuda\n"
     ]
    }
   ],
   "source": [
    "device = torch.device(\"cuda\" if torch.cuda.is_available() else \"cpu\")\n",
    "print(\"Using device:\", device)"
   ]
  },
  {
   "cell_type": "markdown",
   "metadata": {},
   "source": [
    "The policy will be the Neural Network we defined above."
   ]
  },
  {
   "cell_type": "code",
   "execution_count": 5,
   "metadata": {},
   "outputs": [],
   "source": [
    "policy = PolicyNN(env.observation_space.shape[0], env.action_space.n).to(device)"
   ]
  },
  {
   "cell_type": "code",
   "execution_count": 6,
   "metadata": {},
   "outputs": [],
   "source": [
    "# Hyperparameters\n",
    "learning_rate = 0.001\n",
    "gamma = 0.99 # for calculating cumulative rewards\n",
    "print_rate = 100 # rate that the output will be printed\n",
    "\n",
    "\n",
    "optimizer = torch.optim.Adam(policy.parameters(), lr=learning_rate) "
   ]
  },
  {
   "cell_type": "code",
   "execution_count": 7,
   "metadata": {},
   "outputs": [],
   "source": [
    "# writer for tensorboard\n",
    "writer_0 = SummaryWriter('./runs/plot_wth_baseline')\n",
    "writer_1 = SummaryWriter('./runs/plot_no_baseline')\n",
    "# to see the board run on terminal the following command:\n",
    "# tensorboard --logdir=runs\n",
    "\n",
    "# how to superpose 2 plots on tesorboard\n",
    "# https://github.com/tensorflow/tensorflow/issues/7089#issuecomment-295857875"
   ]
  },
  {
   "cell_type": "code",
   "execution_count": 8,
   "metadata": {},
   "outputs": [],
   "source": [
    "# this function receives a list of rewards and returns a list of the calculated cumulative rewards\n",
    "# of the same size and calculated by the discount factor (gamma)\n",
    "def get_cumulative_rewards(rewards, gamma=0.99):\n",
    "    cumulative_rw = []\n",
    "    for i in reversed(range(len(rewards))):\n",
    "        rw_sum = 0\n",
    "        pw = 0 # power to be applied on gamma\n",
    "        for j in range(i, len(rewards)):\n",
    "            rw_sum += (gamma**pw)*rewards[j] \n",
    "            pw += 1\n",
    "        cumulative_rw.append(rw_sum)\n",
    "        \n",
    "    cumulative_rw.reverse() # reverse the list\n",
    "    return cumulative_rw"
   ]
  },
  {
   "cell_type": "markdown",
   "metadata": {},
   "source": [
    "### REINFORCE pseudocode (from Sutton's book, pg. 328)\n",
    "\n",
    "Loop forever (for each episode):\n",
    "\n",
    "&nbsp;&nbsp;&nbsp;&nbsp;&nbsp;&nbsp; Generate an episode $S_0, A_0, R_1, ..., S_{T-1}, A_{T-1}, R_T$, following $\\pi(\\cdot|\\cdot, theta)$ \n",
    "\n",
    "&nbsp;&nbsp;&nbsp;&nbsp;&nbsp;&nbsp; Loop for each step of the episode t=0, 1, ..., T-1\n",
    "\n",
    "&nbsp;&nbsp;&nbsp;&nbsp;&nbsp;&nbsp;&nbsp;&nbsp;&nbsp;&nbsp;&nbsp;&nbsp;$G  \\leftarrow \\sum\\nolimits_{k=t+1}^{T}  \\gamma^{k-t-1}R_k $\n",
    "\n",
    "&nbsp;&nbsp;&nbsp;&nbsp;&nbsp;&nbsp;&nbsp;&nbsp;&nbsp;&nbsp;&nbsp;&nbsp;$\\theta   \\leftarrow  \\theta +  \\alpha  \\gamma^t G \\nabla log  \\pi (A_t|S_t,  \\theta )$\n",
    "\n",
    "\n",
    "Basically it says:\n",
    "1. Generate an entire episode following the current policy $\\pi$ storing the log of each action taken and all the rewards received.\n",
    "2. For each step of the episode calculate: the discounted cumulative rewards using $\\gamma$ for each action.\n",
    "3. Compute the policy gradient and update the parameters of the policy.  \n",
    "\n",
    "*Obs:* \n",
    "1. As our objective is to do a gradient ascent (to increase the score function) we add to $\\theta$. \n",
    "2. In the code below the rewards are also subtracted by the baseline, which is calculated according to the [Karpathy blog post](https://karpathy.github.io/2016/05/31/rl/): \"e.g. subtract mean, divide by standard deviation\" \n"
   ]
  },
  {
   "cell_type": "code",
   "execution_count": 9,
   "metadata": {},
   "outputs": [],
   "source": [
    "def train(env, gamma, n_episodes=30, baseline=False):\n",
    "    \n",
    "    rewards_history = []\n",
    "    policy_history = []\n",
    "    \n",
    "    for episode in range(1, n_episodes+1):\n",
    "        state = env.reset()\n",
    "        done = False\n",
    "        rewards_episode = []\n",
    "        actions_episode = []\n",
    "        states_episode = []\n",
    "        \n",
    "        # dont't calculate the gradients as you just need to sample the probability of actions\n",
    "        with torch.no_grad():\n",
    "            while not done:\n",
    "                state = torch.tensor(state, dtype=torch.float32, device=device)\n",
    "                \n",
    "                action_probs = policy(state)\n",
    "                # sample the distribution of action_probs\n",
    "                # https://pytorch.org/docs/stable/distributions.html?highlight=distributions#module-torch.distributions\n",
    "                action = torch.distributions.Categorical(action_probs).sample()\n",
    "                action = int(action) # convert tensor to int\n",
    "\n",
    "                next_state, reward, done, _ = env.step(action)\n",
    "\n",
    "                rewards_episode.append(reward)\n",
    "                actions_episode.append(action)# store log of action probabilities\n",
    "                \n",
    "                # store state in list as a non tensor\n",
    "                states_episode.append(state.cpu().numpy())\n",
    "\n",
    "                state = next_state\n",
    "\n",
    "        rewards_history.append(np.sum(rewards_episode))\n",
    "        \n",
    "        # lambda function to avoid numpy error when calculating the mean of a list\n",
    "        mean_hist = lambda x, lim: np.mean(x) if len(x) > lim else np.mean(x[-lim:])\n",
    "    \n",
    "        if episode % print_rate == 0:\n",
    "            print(\"Episode {} \\t rewards(mean):{:.4f}\".format(episode, mean_hist(rewards_history, print_rate))) \n",
    "        \n",
    "        if baseline:\n",
    "            writer_0.add_scalar('Reward-episode', rewards_history[-1], episode)\n",
    "            writer_0.add_scalar('Reward-mean100', mean_hist(rewards_history, 100), episode)\n",
    "            writer_0.flush()\n",
    "        else:\n",
    "            writer_1.add_scalar('Reward-episode', rewards_history[-1], episode)\n",
    "            writer_1.add_scalar('Reward-mean100', mean_hist(rewards_history, 100), episode)\n",
    "            writer_1.flush()\n",
    "        \n",
    "        cumulative_rewards = np.array(get_cumulative_rewards(rewards_episode, gamma)) # calculate cumulative discounted rewards\n",
    "        \n",
    "        if baseline:\n",
    "            cumulative_rewards = (cumulative_rewards - cumulative_rewards.mean()) / cumulative_rewards.std() # normalization  \n",
    "       \n",
    "        # convert lists to torch tensors\n",
    "        batch_states = torch.tensor(states_episode, dtype=torch.float32, device=device)\n",
    "        batch_rewards = torch.tensor(cumulative_rewards, dtype=torch.float32, device=device)\n",
    "        \n",
    "        # run states batch through the network, therefore select the actions taken and calculate the log of each\n",
    "        batch_action_probs = policy(batch_states)\n",
    "        batch_log_action = torch.log(batch_action_probs[range(len(actions_episode)), actions_episode])\n",
    "        \n",
    "        # objective is what we want to maximize (therefore the -1)\n",
    "        objective = -1*(torch.sum(batch_rewards*batch_log_action))\n",
    "           \n",
    "        objective.backward()\n",
    "        optimizer.step()\n",
    "        optimizer.zero_grad()\n",
    "        \n",
    "    return rewards_history"
   ]
  },
  {
   "cell_type": "code",
   "execution_count": 10,
   "metadata": {},
   "outputs": [],
   "source": [
    "# save the initial network parameters to be loaded later\n",
    "torch.save(policy.state_dict(), './tmp.py')"
   ]
  },
  {
   "cell_type": "code",
   "execution_count": 11,
   "metadata": {
    "scrolled": true
   },
   "outputs": [
    {
     "name": "stdout",
     "output_type": "stream",
     "text": [
      "Episode 100 \t rewards(mean):-292.8100\n",
      "Episode 200 \t rewards(mean):-231.9050\n",
      "Episode 300 \t rewards(mean):-202.0500\n",
      "Episode 400 \t rewards(mean):-182.6925\n",
      "Episode 500 \t rewards(mean):-169.9400\n",
      "Episode 600 \t rewards(mean):-159.2233\n",
      "Episode 700 \t rewards(mean):-152.0786\n",
      "Episode 800 \t rewards(mean):-146.8225\n",
      "Episode 900 \t rewards(mean):-142.2156\n",
      "Episode 1000 \t rewards(mean):-138.3240\n",
      "Episode 1100 \t rewards(mean):-134.9564\n",
      "Episode 1200 \t rewards(mean):-132.3933\n",
      "Episode 1300 \t rewards(mean):-130.2654\n",
      "Episode 1400 \t rewards(mean):-127.8107\n",
      "Episode 1500 \t rewards(mean):-125.7547\n",
      "Episode 1600 \t rewards(mean):-123.7525\n",
      "Episode 1700 \t rewards(mean):-122.2541\n",
      "Episode 1800 \t rewards(mean):-121.0156\n",
      "Episode 1900 \t rewards(mean):-119.7574\n",
      "Episode 2000 \t rewards(mean):-118.8470\n",
      "Episode 2100 \t rewards(mean):-118.0043\n",
      "Episode 2200 \t rewards(mean):-116.9536\n",
      "Episode 2300 \t rewards(mean):-116.1600\n",
      "Episode 2400 \t rewards(mean):-115.7833\n",
      "Episode 2500 \t rewards(mean):-116.1580\n",
      "Episode 2600 \t rewards(mean):-116.4727\n",
      "Episode 2700 \t rewards(mean):-117.1481\n",
      "Episode 2800 \t rewards(mean):-116.7857\n",
      "Episode 2900 \t rewards(mean):-116.9066\n",
      "Episode 3000 \t rewards(mean):-116.6350\n"
     ]
    }
   ],
   "source": [
    "# train without the baseline and save the results\n",
    "rewards_no_baseline = train(env, gamma=0.99, n_episodes=3000, baseline=True)"
   ]
  },
  {
   "cell_type": "code",
   "execution_count": 12,
   "metadata": {},
   "outputs": [
    {
     "data": {
      "text/plain": [
       "<All keys matched successfully>"
      ]
     },
     "execution_count": 12,
     "metadata": {},
     "output_type": "execute_result"
    }
   ],
   "source": [
    "# load the network with the initial weights\n",
    "# this way we can train the model with a baseline and do a fair comparison\n",
    "policy.load_state_dict(torch.load('./tmp.py'))"
   ]
  },
  {
   "cell_type": "code",
   "execution_count": 13,
   "metadata": {
    "scrolled": true
   },
   "outputs": [
    {
     "name": "stdout",
     "output_type": "stream",
     "text": [
      "Episode 100 \t rewards(mean):-197.0300\n",
      "Episode 200 \t rewards(mean):-203.6950\n",
      "Episode 300 \t rewards(mean):-202.3733\n",
      "Episode 400 \t rewards(mean):-207.8100\n",
      "Episode 500 \t rewards(mean):-210.6020\n",
      "Episode 600 \t rewards(mean):-207.6533\n",
      "Episode 700 \t rewards(mean):-204.4629\n",
      "Episode 800 \t rewards(mean):-200.2212\n",
      "Episode 900 \t rewards(mean):-196.6111\n",
      "Episode 1000 \t rewards(mean):-191.7630\n",
      "Episode 1100 \t rewards(mean):-184.3509\n",
      "Episode 1200 \t rewards(mean):-177.8292\n",
      "Episode 1300 \t rewards(mean):-172.1300\n",
      "Episode 1400 \t rewards(mean):-167.3307\n",
      "Episode 1500 \t rewards(mean):-162.7473\n",
      "Episode 1600 \t rewards(mean):-158.7388\n",
      "Episode 1700 \t rewards(mean):-154.7218\n",
      "Episode 1800 \t rewards(mean):-151.2622\n",
      "Episode 1900 \t rewards(mean):-147.8332\n",
      "Episode 2000 \t rewards(mean):-144.8020\n",
      "Episode 2100 \t rewards(mean):-142.0938\n",
      "Episode 2200 \t rewards(mean):-139.7100\n",
      "Episode 2300 \t rewards(mean):-137.6400\n",
      "Episode 2400 \t rewards(mean):-135.6550\n",
      "Episode 2500 \t rewards(mean):-133.8860\n",
      "Episode 2600 \t rewards(mean):-132.1581\n",
      "Episode 2700 \t rewards(mean):-130.4611\n",
      "Episode 2800 \t rewards(mean):-128.8346\n",
      "Episode 2900 \t rewards(mean):-127.3917\n",
      "Episode 3000 \t rewards(mean):-126.0420\n"
     ]
    }
   ],
   "source": [
    "# train with the baseline and save the results\n",
    "rewards_wth_baseline = train(env, gamma=0.99, n_episodes=3000, baseline=False)"
   ]
  },
  {
   "cell_type": "code",
   "execution_count": 14,
   "metadata": {},
   "outputs": [
    {
     "data": {
      "image/png": "[encoded data removed]",
      "text/plain": [
       "<Figure size 432x288 with 1 Axes>"
      ]
     },
     "metadata": {
      "needs_background": "light"
     },
     "output_type": "display_data"
    }
   ],
   "source": [
    "from scipy.signal import savgol_filter\n",
    "\n",
    "smooth = lambda x: savgol_filter(x,99, 3)\n",
    "\n",
    "fig = plt.figure()\n",
    "ax = fig.add_subplot(111)\n",
    "\n",
    "ax.plot(smooth(rewards_wth_baseline), label='with baseline')\n",
    "ax.plot(smooth(rewards_no_baseline), label='no baseline')\n",
    "\n",
    "plt.ylabel('Reward')\n",
    "plt.xlabel('Episode')\n",
    "plt.legend(loc=4)\n",
    "plt.show()"
   ]
  },
  {
   "cell_type": "markdown",
   "metadata": {},
   "source": [
    "By the chart it's noticeable that with a baseline the network converges faster."
   ]
  },
  {
   "cell_type": "code",
   "execution_count": 15,
   "metadata": {},
   "outputs": [
    {
     "name": "stdout",
     "output_type": "stream",
     "text": [
      "Episode finished. Reward=-65.0000\n",
      "Episode finished. Reward=-295.0000\n",
      "Episode finished. Reward=-66.0000\n"
     ]
    }
   ],
   "source": [
    "# play some episodes to see how it's working \n",
    "from time import sleep\n",
    "\n",
    "policy.eval() # set model to evaluation mode\n",
    "\n",
    "for i in range(3):\n",
    "    state = env.reset()\n",
    "    done = False\n",
    "    reward_sum = 0\n",
    "    while not done:\n",
    "        env.render()\n",
    "        state = torch.tensor(state, dtype=torch.float32, device=device)\n",
    "        action_probs = policy(state)\n",
    "\n",
    "        action = int(torch.distributions.Categorical(action_probs).sample())\n",
    "        \n",
    "        state, reward, done, _ = env.step(action)\n",
    "        reward_sum += reward\n",
    " \n",
    "        sleep(0.01)\n",
    "    print(\"Episode finished. Reward={:.4f}\".format(reward_sum))"
   ]
  },
  {
   "cell_type": "code",
   "execution_count": 16,
   "metadata": {},
   "outputs": [
    {
     "name": "stdout",
     "output_type": "stream",
     "text": [
      "Episode finished. Reward=-110.0000\n",
      "Episode finished. Reward=-77.0000\n",
      "Episode finished. Reward=-71.0000\n"
     ]
    }
   ],
   "source": [
    "# play some episodes to see how it's working \n",
    "from time import sleep\n",
    "\n",
    "def validation_test(env, n_episodes=3):\n",
    "    policy.eval() # set model to evaluation mode\n",
    "    with torch.no_grad():\n",
    "        for i in range(n_episodes):\n",
    "            state = env.reset()\n",
    "            done = False\n",
    "            reward_sum = 0\n",
    "            while not done:\n",
    "                #env.render()\n",
    "                state = torch.tensor(state, dtype=torch.float32, device=device)\n",
    "                action_probs = policy(state)\n",
    "\n",
    "                action = int(torch.distributions.Categorical(action_probs).sample())\n",
    "\n",
    "                state, reward, done, _ = env.step(action)\n",
    "                reward_sum += reward\n",
    "\n",
    "                sleep(0.01)\n",
    "            print(\"Episode finished. Reward={:.4f}\".format(reward_sum))\n",
    "\n",
    "validation_test(env)"
   ]
  },
  {
   "cell_type": "code",
   "execution_count": 17,
   "metadata": {},
   "outputs": [
    {
     "name": "stdout",
     "output_type": "stream",
     "text": [
      "Episode finished. Reward=-88.0000\n",
      "Episode finished. Reward=-93.0000\n",
      "Episode finished. Reward=-64.0000\n",
      "Episode finished. Reward=-62.0000\n",
      "Episode finished. Reward=-95.0000\n",
      "Episode finished. Reward=-95.0000\n",
      "Episode finished. Reward=-94.0000\n",
      "Episode finished. Reward=-64.0000\n",
      "Episode finished. Reward=-82.0000\n"
     ]
    }
   ],
   "source": [
    "# play some games with the trained agent\n",
    "from gym import wrappers\n",
    "dir_videos = \"./pg-results-acrobot\"\n",
    "\n",
    "env_monitor = wrappers.Monitor(env, directory=dir_videos, force=True)\n",
    "\n",
    "for _ in range(3):\n",
    "    validation_test(env_monitor, n_episodes=3)\n",
    "env_monitor.close()"
   ]
  },
  {
   "cell_type": "code",
   "execution_count": null,
   "metadata": {},
   "outputs": [],
   "source": []
  }
 ],
 "metadata": {
  "kernelspec": {
   "display_name": "Python 3",
   "language": "python",
   "name": "python3"
  },
  "language_info": {
   "codemirror_mode": {
    "name": "ipython",
    "version": 3
   },
   "file_extension": ".py",
   "mimetype": "text/x-python",
   "name": "python",
   "nbconvert_exporter": "python",
   "pygments_lexer": "ipython3",
   "version": "3.7.7"
  }
 },
 "nbformat": 4,
 "nbformat_minor": 4
}
