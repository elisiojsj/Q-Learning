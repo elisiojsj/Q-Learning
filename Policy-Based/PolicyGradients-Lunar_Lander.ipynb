{
 "cells": [
  {
   "cell_type": "code",
   "execution_count": 1,
   "metadata": {},
   "outputs": [],
   "source": [
    "import torch\n",
    "import torch.nn as nn\n",
    "import torch.nn.functional as F\n",
    "\n",
    "import numpy as np\n",
    "import matplotlib.pyplot as plt\n",
    "import gym"
   ]
  },
  {
   "cell_type": "code",
   "execution_count": 2,
   "metadata": {},
   "outputs": [],
   "source": [
    "class PolicyNN(nn.Module):\n",
    "    def __init__(self, input_dim, output_dim):\n",
    "        super(PolicyNN, self).__init__()\n",
    "        \n",
    "        self.network = nn.Sequential(\n",
    "            nn.Linear(input_dim, 64),\n",
    "            nn.ReLU(),\n",
    "            nn.Linear(64, 128),\n",
    "            nn.ReLU(),\n",
    "            nn.Linear(128, output_dim),\n",
    "            nn.Softmax(dim=-1)\n",
    "        )\n",
    "    \n",
    "    def forward(self, observation):\n",
    "        return self.network(observation)"
   ]
  },
  {
   "cell_type": "code",
   "execution_count": 3,
   "metadata": {},
   "outputs": [
    {
     "name": "stderr",
     "output_type": "stream",
     "text": [
      "/home/elisio/anaconda3/lib/python3.7/site-packages/gym/logger.py:30: UserWarning: \u001b[33mWARN: Box bound precision lowered by casting to float32\u001b[0m\n",
      "  warnings.warn(colorize('%s: %s'%('WARN', msg % args), 'yellow'))\n"
     ]
    },
    {
     "name": "stdout",
     "output_type": "stream",
     "text": [
      "Number of possible actions: 4\n",
      "Number of possible states: Box(8,)\n"
     ]
    },
    {
     "data": {
      "text/plain": [
       "<matplotlib.image.AxesImage at 0x7fe824fe2610>"
      ]
     },
     "execution_count": 3,
     "metadata": {},
     "output_type": "execute_result"
    },
    {
     "data": {
      "image/png": "[encoded data removed]",
      "text/plain": [
       "<Figure size 432x288 with 1 Axes>"
      ]
     },
     "metadata": {
      "needs_background": "light"
     },
     "output_type": "display_data"
    }
   ],
   "source": [
    "env = gym.make('LunarLander-v2') # make lunar-lander environment\n",
    "\n",
    "print(\"Number of possible actions:\", env.action_space.n)\n",
    "print(\"Number of possible states:\", env.observation_space)\n",
    "\n",
    "env.reset()\n",
    "plt.imshow(env.render(\"rgb_array\"))"
   ]
  },
  {
   "cell_type": "code",
   "execution_count": 4,
   "metadata": {},
   "outputs": [
    {
     "name": "stdout",
     "output_type": "stream",
     "text": [
      "Using device: cuda\n"
     ]
    }
   ],
   "source": [
    "device = torch.device(\"cuda\" if torch.cuda.is_available() else \"cpu\")\n",
    "print(\"Using device:\", device)"
   ]
  },
  {
   "cell_type": "code",
   "execution_count": 5,
   "metadata": {},
   "outputs": [],
   "source": [
    "policy = PolicyNN(env.observation_space.shape[0], env.action_space.n).to(device)"
   ]
  },
  {
   "cell_type": "code",
   "execution_count": 6,
   "metadata": {},
   "outputs": [],
   "source": [
    "# Hyperparameters\n",
    "learning_rate = 0.001\n",
    "gamma = 0.99 # for calculating cumulative rewards\n",
    "print_rate = 50 # rate that the output will be printed\n",
    "\n",
    "\n",
    "optimizer = torch.optim.Adam(policy.parameters(), lr=learning_rate) "
   ]
  },
  {
   "cell_type": "code",
   "execution_count": 7,
   "metadata": {},
   "outputs": [],
   "source": [
    "# this function receives a list of rewards and returns a list of the calculated cumulative rewards\n",
    "# of the same size and calculated by the discount factor (gamma)\n",
    "def get_cumulative_rewards(rewards, gamma=0.99):\n",
    "    cumulative_rw = []\n",
    "    for i in reversed(range(len(rewards))):\n",
    "        rw_sum = 0\n",
    "        pw = 0 # power to be applied on gamma\n",
    "        for j in range(i, len(rewards)):\n",
    "            rw_sum += (gamma**pw)*rewards[j] \n",
    "            pw += 1\n",
    "        cumulative_rw.append(rw_sum)\n",
    "        \n",
    "    cumulative_rw.reverse() # reverse the list\n",
    "    return torch.tensor(cumulative_rw, dtype=torch.float32)"
   ]
  },
  {
   "cell_type": "markdown",
   "metadata": {},
   "source": [
    "### REINFORCE pseudocode (from Sutton's book, pg. 328)\n",
    "\n",
    "Loop forever (for each episode):\n",
    "\n",
    "&nbsp;&nbsp;&nbsp;&nbsp;&nbsp;&nbsp; Generate an episode $S_0, A_0, R_1, ..., S_{T-1}, A_{T-1}, R_T$, following $\\pi(\\cdot|\\cdot, theta)$ \n",
    "\n",
    "&nbsp;&nbsp;&nbsp;&nbsp;&nbsp;&nbsp; Loop for each step of the episode t=0, 1, ..., T-1\n",
    "\n",
    "&nbsp;&nbsp;&nbsp;&nbsp;&nbsp;&nbsp;&nbsp;&nbsp;&nbsp;&nbsp;&nbsp;&nbsp;$G  \\leftarrow \\sum\\nolimits_{k=t+1}^{T}  \\gamma^{k-t-1}R_k $\n",
    "\n",
    "&nbsp;&nbsp;&nbsp;&nbsp;&nbsp;&nbsp;&nbsp;&nbsp;&nbsp;&nbsp;&nbsp;&nbsp;$\\theta   \\leftarrow  \\theta +  \\alpha  \\gamma^t G \\nabla log  \\pi (A_t|S_t,  \\theta )$\n",
    "\n",
    "\n",
    "Basically it says:\n",
    "1. Generate an entire episode following the current policy $\\pi$ storing the log of each action taken and all the rewards received.\n",
    "2. For each step of the episode calculate: the discounted cumulative rewards using $\\gamma$ for each action.\n",
    "3. Compute the policy gradient and update the parameters of the policy.  \n",
    "\n",
    "*Obs:* \n",
    "1. As our objective is to do a gradient ascent (to increase the score function) we add to $\\theta$. \n",
    "2. In the code below the rewards are also subtracted by the baseline, which is calculated according to the [Karpathy blog post](https://karpathy.github.io/2016/05/31/rl/): \"e.g. subtract mean, divide by standard deviation\" \n"
   ]
  },
  {
   "cell_type": "code",
   "execution_count": 8,
   "metadata": {},
   "outputs": [],
   "source": [
    "def train(env, gamma, n_episodes=30):\n",
    "    \n",
    "    rewards_history = []\n",
    "    policy_history = []\n",
    "    \n",
    "    for episode in range(n_episodes):\n",
    "        state = env.reset()\n",
    "        done = False\n",
    "        rewards_episode = []\n",
    "        actions_episode = []\n",
    "        \n",
    "        while not done:\n",
    "            state = torch.tensor(state, dtype=torch.float32, device=device)\n",
    "            action_probs = policy(state)\n",
    "            \n",
    "            # sample the distribution of action_probs\n",
    "            # https://pytorch.org/docs/stable/distributions.html?highlight=distributions#module-torch.distributions\n",
    "            action = torch.distributions.Categorical(action_probs).sample()\n",
    "            action = int(action) # convert tensor to int\n",
    "            \n",
    "            next_state, reward, done, _ = env.step(action)\n",
    "            \n",
    "            rewards_episode.append(reward)\n",
    "            actions_episode.append(torch.log(action_probs[action])) # store log of action probabilities\n",
    "            \n",
    "            state = next_state\n",
    "        \n",
    "        rewards_history.append(np.sum(rewards_episode))\n",
    "        \n",
    "        if episode % print_rate == 0:\n",
    "            print(\"Episode {} \\t rewards(mean):{:.4f}\".format(episode, np.mean((rewards_history[-print_rate:]))))\n",
    "        \n",
    "        cumulative_rewards = get_cumulative_rewards(rewards_episode, gamma) # calculate cumulative rewards\n",
    "        cumulative_rewards = (cumulative_rewards - cumulative_rewards.mean()) / cumulative_rewards.std() # normalization  \n",
    "        \n",
    "        objective = 0 # objective function which we want to maximise\n",
    "        for i in range(len(cumulative_rewards)):\n",
    "            objective += (-1)*actions_episode[i]*cumulative_rewards[i] # multiplied by -1 for the optimizer to sum the rewards \n",
    "            \n",
    "        objective.backward()\n",
    "        optimizer.step()\n",
    "        optimizer.zero_grad()\n",
    "        \n",
    "\n",
    "    plt.plot(rewards_history)\n",
    "    plt.ylabel('Reward')\n",
    "    plt.xlabel('Episode')\n",
    "    plt.show()"
   ]
  },
  {
   "cell_type": "code",
   "execution_count": 9,
   "metadata": {
    "scrolled": true
   },
   "outputs": [
    {
     "name": "stdout",
     "output_type": "stream",
     "text": [
      "Episode 0 \t rewards(mean):-181.4969\n",
      "Episode 50 \t rewards(mean):-184.0628\n",
      "Episode 100 \t rewards(mean):-131.4517\n",
      "Episode 150 \t rewards(mean):-195.5841\n",
      "Episode 200 \t rewards(mean):-124.1353\n",
      "Episode 250 \t rewards(mean):-110.4873\n",
      "Episode 300 \t rewards(mean):-82.8384\n",
      "Episode 350 \t rewards(mean):-74.0774\n",
      "Episode 400 \t rewards(mean):-65.8121\n",
      "Episode 450 \t rewards(mean):-31.4111\n",
      "Episode 500 \t rewards(mean):15.5341\n",
      "Episode 550 \t rewards(mean):-15.8330\n",
      "Episode 600 \t rewards(mean):48.0514\n",
      "Episode 650 \t rewards(mean):45.6633\n",
      "Episode 700 \t rewards(mean):60.7061\n",
      "Episode 750 \t rewards(mean):64.9571\n",
      "Episode 800 \t rewards(mean):99.1184\n",
      "Episode 850 \t rewards(mean):50.8881\n",
      "Episode 900 \t rewards(mean):69.4767\n",
      "Episode 950 \t rewards(mean):73.2235\n",
      "Episode 1000 \t rewards(mean):82.1817\n",
      "Episode 1050 \t rewards(mean):98.9344\n",
      "Episode 1100 \t rewards(mean):76.7903\n",
      "Episode 1150 \t rewards(mean):72.2158\n",
      "Episode 1200 \t rewards(mean):56.8232\n",
      "Episode 1250 \t rewards(mean):120.3280\n",
      "Episode 1300 \t rewards(mean):83.2991\n",
      "Episode 1350 \t rewards(mean):50.2886\n",
      "Episode 1400 \t rewards(mean):69.2535\n",
      "Episode 1450 \t rewards(mean):85.5014\n",
      "Episode 1500 \t rewards(mean):92.0728\n",
      "Episode 1550 \t rewards(mean):14.3974\n",
      "Episode 1600 \t rewards(mean):16.8050\n",
      "Episode 1650 \t rewards(mean):99.4042\n",
      "Episode 1700 \t rewards(mean):119.3655\n",
      "Episode 1750 \t rewards(mean):147.5622\n",
      "Episode 1800 \t rewards(mean):126.2943\n",
      "Episode 1850 \t rewards(mean):110.7158\n",
      "Episode 1900 \t rewards(mean):132.9837\n",
      "Episode 1950 \t rewards(mean):117.7854\n",
      "Episode 2000 \t rewards(mean):127.5288\n",
      "Episode 2050 \t rewards(mean):121.1304\n",
      "Episode 2100 \t rewards(mean):110.6472\n",
      "Episode 2150 \t rewards(mean):137.8665\n",
      "Episode 2200 \t rewards(mean):93.5590\n",
      "Episode 2250 \t rewards(mean):108.7657\n",
      "Episode 2300 \t rewards(mean):116.4390\n",
      "Episode 2350 \t rewards(mean):129.4430\n",
      "Episode 2400 \t rewards(mean):156.1377\n",
      "Episode 2450 \t rewards(mean):145.2372\n",
      "Episode 2500 \t rewards(mean):123.1014\n",
      "Episode 2550 \t rewards(mean):189.1241\n",
      "Episode 2600 \t rewards(mean):182.1225\n",
      "Episode 2650 \t rewards(mean):133.7569\n",
      "Episode 2700 \t rewards(mean):112.0386\n",
      "Episode 2750 \t rewards(mean):43.0490\n",
      "Episode 2800 \t rewards(mean):28.1551\n",
      "Episode 2850 \t rewards(mean):54.8761\n",
      "Episode 2900 \t rewards(mean):50.9294\n",
      "Episode 2950 \t rewards(mean):29.7578\n"
     ]
    },
    {
     "data": {
      "image/png": "[encoded data removed]",
      "text/plain": [
       "<Figure size 432x288 with 1 Axes>"
      ]
     },
     "metadata": {
      "needs_background": "light"
     },
     "output_type": "display_data"
    }
   ],
   "source": [
    "train(env, gamma=0.99, n_episodes=3000)"
   ]
  },
  {
   "cell_type": "code",
   "execution_count": 10,
   "metadata": {},
   "outputs": [],
   "source": [
    "torch.save(policy.state_dict(), './agents/agent-LunarLander.pt')"
   ]
  },
  {
   "cell_type": "code",
   "execution_count": 11,
   "metadata": {},
   "outputs": [
    {
     "name": "stdout",
     "output_type": "stream",
     "text": [
      "Episode finished. Reward=110.2141\n",
      "Episode finished. Reward=169.0569\n",
      "Episode finished. Reward=129.0895\n"
     ]
    }
   ],
   "source": [
    "# play some episodes to see how it's working \n",
    "from time import sleep\n",
    "\n",
    "policy.eval() # set model to evaluation mode\n",
    "\n",
    "for i in range(3):\n",
    "    state = env.reset()\n",
    "    done = False\n",
    "    reward_sum = 0\n",
    "    while not done:\n",
    "        env.render()\n",
    "        state = torch.tensor(state, dtype=torch.float32, device=device)\n",
    "        action_probs = policy(state)\n",
    "\n",
    "        action = int(torch.distributions.Categorical(action_probs).sample())\n",
    "        \n",
    "        state, reward, done, _ = env.step(action)\n",
    "        reward_sum += reward\n",
    " \n",
    "        sleep(0.01)\n",
    "    print(\"Episode finished. Reward={:.4f}\".format(reward_sum))"
   ]
  },
  {
   "cell_type": "code",
   "execution_count": null,
   "metadata": {},
   "outputs": [],
   "source": []
  }
 ],
 "metadata": {
  "kernelspec": {
   "display_name": "Python 3",
   "language": "python",
   "name": "python3"
  },
  "language_info": {
   "codemirror_mode": {
    "name": "ipython",
    "version": 3
   },
   "file_extension": ".py",
   "mimetype": "text/x-python",
   "name": "python",
   "nbconvert_exporter": "python",
   "pygments_lexer": "ipython3",
   "version": "3.7.4"
  }
 },
 "nbformat": 4,
 "nbformat_minor": 4
}
