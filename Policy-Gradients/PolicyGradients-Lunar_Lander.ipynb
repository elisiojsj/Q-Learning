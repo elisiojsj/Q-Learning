{
 "cells": [
  {
   "cell_type": "code",
   "execution_count": 1,
   "metadata": {},
   "outputs": [],
   "source": [
    "import torch\n",
    "import torch.nn as nn\n",
    "import torch.nn.functional as F\n",
    "\n",
    "import numpy as np\n",
    "import matplotlib.pyplot as plt\n",
    "import gym"
   ]
  },
  {
   "cell_type": "code",
   "execution_count": 2,
   "metadata": {},
   "outputs": [],
   "source": [
    "class PolicyNN(nn.Module):\n",
    "    def __init__(self, input_dim, output_dim):\n",
    "        super(PolicyNN, self).__init__()\n",
    "        \n",
    "        self.network = nn.Sequential(\n",
    "            nn.Linear(input_dim, 64),\n",
    "            nn.ReLU(),\n",
    "            nn.Linear(64, 128),\n",
    "            nn.ReLU(),\n",
    "            nn.Linear(128, output_dim),\n",
    "            nn.Softmax(dim=-1)\n",
    "        )\n",
    "    \n",
    "    def forward(self, observation):\n",
    "        return self.network(observation)"
   ]
  },
  {
   "cell_type": "code",
   "execution_count": 3,
   "metadata": {},
   "outputs": [
    {
     "name": "stderr",
     "output_type": "stream",
     "text": [
      "/home/elisio/anaconda3/lib/python3.7/site-packages/gym/logger.py:30: UserWarning: \u001b[33mWARN: Box bound precision lowered by casting to float32\u001b[0m\n",
      "  warnings.warn(colorize('%s: %s'%('WARN', msg % args), 'yellow'))\n"
     ]
    },
    {
     "name": "stdout",
     "output_type": "stream",
     "text": [
      "Number of possible actions: 4\n",
      "Number of possible states: Box(8,)\n"
     ]
    },
    {
     "data": {
      "text/plain": [
       "<matplotlib.image.AxesImage at 0x7f20d83486d0>"
      ]
     },
     "execution_count": 3,
     "metadata": {},
     "output_type": "execute_result"
    },
    {
     "data": {
      "image/png": "[encoded data removed]",
      "text/plain": [
       "<Figure size 432x288 with 1 Axes>"
      ]
     },
     "metadata": {
      "needs_background": "light"
     },
     "output_type": "display_data"
    }
   ],
   "source": [
    "env = gym.make('LunarLander-v2') # make lunar-lander environment\n",
    "\n",
    "print(\"Number of possible actions:\", env.action_space.n)\n",
    "print(\"Number of possible states:\", env.observation_space)\n",
    "\n",
    "env.reset()\n",
    "plt.imshow(env.render(\"rgb_array\"))"
   ]
  },
  {
   "cell_type": "code",
   "execution_count": 4,
   "metadata": {},
   "outputs": [
    {
     "name": "stdout",
     "output_type": "stream",
     "text": [
      "Using device: cuda\n"
     ]
    }
   ],
   "source": [
    "device = torch.device(\"cuda\" if torch.cuda.is_available() else \"cpu\")\n",
    "print(\"Using device:\", device)"
   ]
  },
  {
   "cell_type": "code",
   "execution_count": 5,
   "metadata": {},
   "outputs": [],
   "source": [
    "policy = PolicyNN(env.observation_space.shape[0], env.action_space.n).to(device)"
   ]
  },
  {
   "cell_type": "code",
   "execution_count": 6,
   "metadata": {},
   "outputs": [],
   "source": [
    "# Hyperparameters\n",
    "learning_rate = 0.001\n",
    "gamma = 0.99 #for calculating cumulative rewards\n",
    "print_rate = 50\n",
    "\n",
    "\n",
    "optimizer = torch.optim.Adam(policy.parameters(), lr=learning_rate) "
   ]
  },
  {
   "cell_type": "code",
   "execution_count": 7,
   "metadata": {},
   "outputs": [],
   "source": [
    "# this function receives a list of rewards and returns a list of the calculated cumulative rewards\n",
    "# of the same size and calculated by the discount factor (gamma)\n",
    "def get_cumulative_rewards(rewards, gamma=0.99):\n",
    "    cumulative_rw = []\n",
    "    for i in reversed(range(len(rewards))):\n",
    "        rw_sum = 0\n",
    "        pw = 0 # power to be applied on gamma\n",
    "        for j in range(i, len(rewards)):\n",
    "            rw_sum += (gamma**pw)*rewards[j] \n",
    "            pw += 1\n",
    "        cumulative_rw.append(rw_sum)\n",
    "        \n",
    "    cumulative_rw.reverse() # reverse the list\n",
    "    return torch.tensor(cumulative_rw, dtype=torch.float32)"
   ]
  },
  {
   "cell_type": "code",
   "execution_count": 8,
   "metadata": {},
   "outputs": [],
   "source": [
    "def train(env, gamma, n_episodes=30):\n",
    "    \n",
    "    rewards_history = []\n",
    "    policy_history = []\n",
    "    \n",
    "    for episode in range(n_episodes):\n",
    "        state = env.reset()\n",
    "        done = False\n",
    "        rewards_episode = []\n",
    "        actions_episode = []\n",
    "        \n",
    "        while not done:\n",
    "            state = torch.tensor(state, dtype=torch.float32, device=device)\n",
    "            action_probs = policy(state)\n",
    "            \n",
    "            # sample the distribution of action_probs\n",
    "            # https://pytorch.org/docs/stable/distributions.html?highlight=distributions#module-torch.distributions\n",
    "            action = torch.distributions.Categorical(action_probs).sample()\n",
    "            action = int(action) # convert tensor to int\n",
    "            \n",
    "            #print(\"state:\", state)\n",
    "            #print(\"action_probs:\", action_probs)\n",
    "            #print(\"action:\", action)\n",
    "            #l\n",
    "            \n",
    "            next_state, reward, done, _ = env.step(action)\n",
    "            \n",
    "            rewards_episode.append(reward)\n",
    "            actions_episode.append(torch.log(action_probs[action])) # store log of action probabilities\n",
    "            \n",
    "            state = next_state\n",
    "        \n",
    "        rewards_history.append(np.sum(rewards_episode))\n",
    "        \n",
    "        if episode % print_rate == 0:\n",
    "            print(\"Episode {} \\t rewards(mean):{:.4f}\".format(episode, np.mean((rewards_history[-print_rate:]))))\n",
    "            #print(\"Episode {} \\t rewards:{:.4f}\".format(episode, np.sum(rewards_episode)))\n",
    "        \n",
    "        cumulative_rewards = get_cumulative_rewards(rewards_episode, gamma) # calculate cumulative rewards\n",
    "        cumulative_rewards = (cumulative_rewards - cumulative_rewards.mean()) / cumulative_rewards.std() # normalization  \n",
    "        \n",
    "        objective = 0 # objective function which we want to maximise\n",
    "        for i in range(len(cumulative_rewards)):\n",
    "            objective += (-1)*actions_episode[i]*cumulative_rewards[i] # multiplied by -1 for the optimizer to sum the rewards \n",
    "            \n",
    "        objective.backward()\n",
    "        optimizer.step()\n",
    "        optimizer.zero_grad()\n",
    "        \n",
    "    plt.figure()\n",
    "    plt.plot(rewards_history)"
   ]
  },
  {
   "cell_type": "code",
   "execution_count": 9,
   "metadata": {},
   "outputs": [
    {
     "name": "stdout",
     "output_type": "stream",
     "text": [
      "Episode 0 \t rewards(mean):-68.5939\n",
      "Episode 50 \t rewards(mean):-183.0258\n",
      "Episode 100 \t rewards(mean):-145.7881\n",
      "Episode 150 \t rewards(mean):-140.9572\n",
      "Episode 200 \t rewards(mean):-96.9704\n",
      "Episode 250 \t rewards(mean):-82.3826\n",
      "Episode 300 \t rewards(mean):-64.7146\n",
      "Episode 350 \t rewards(mean):-97.6995\n",
      "Episode 400 \t rewards(mean):-28.0983\n",
      "Episode 450 \t rewards(mean):0.5571\n",
      "Episode 500 \t rewards(mean):-16.8852\n",
      "Episode 550 \t rewards(mean):-4.0458\n",
      "Episode 600 \t rewards(mean):-48.9541\n",
      "Episode 650 \t rewards(mean):-25.2004\n",
      "Episode 700 \t rewards(mean):11.1495\n",
      "Episode 750 \t rewards(mean):61.2582\n",
      "Episode 800 \t rewards(mean):27.9639\n",
      "Episode 850 \t rewards(mean):59.9058\n",
      "Episode 900 \t rewards(mean):67.8046\n",
      "Episode 950 \t rewards(mean):66.0316\n",
      "Episode 1000 \t rewards(mean):-23.3347\n",
      "Episode 1050 \t rewards(mean):-72.0184\n",
      "Episode 1100 \t rewards(mean):51.2587\n",
      "Episode 1150 \t rewards(mean):88.3509\n",
      "Episode 1200 \t rewards(mean):108.4855\n",
      "Episode 1250 \t rewards(mean):117.2913\n",
      "Episode 1300 \t rewards(mean):80.3826\n",
      "Episode 1350 \t rewards(mean):134.5042\n",
      "Episode 1400 \t rewards(mean):118.2711\n",
      "Episode 1450 \t rewards(mean):102.9945\n",
      "Episode 1500 \t rewards(mean):105.4634\n",
      "Episode 1550 \t rewards(mean):135.4656\n",
      "Episode 1600 \t rewards(mean):110.9412\n",
      "Episode 1650 \t rewards(mean):156.8023\n",
      "Episode 1700 \t rewards(mean):140.5766\n",
      "Episode 1750 \t rewards(mean):57.9223\n",
      "Episode 1800 \t rewards(mean):39.2224\n",
      "Episode 1850 \t rewards(mean):87.9209\n",
      "Episode 1900 \t rewards(mean):106.0898\n",
      "Episode 1950 \t rewards(mean):147.5186\n",
      "Episode 2000 \t rewards(mean):114.3144\n",
      "Episode 2050 \t rewards(mean):124.0356\n",
      "Episode 2100 \t rewards(mean):61.2083\n",
      "Episode 2150 \t rewards(mean):70.3097\n",
      "Episode 2200 \t rewards(mean):49.8697\n",
      "Episode 2250 \t rewards(mean):121.5454\n",
      "Episode 2300 \t rewards(mean):127.5538\n",
      "Episode 2350 \t rewards(mean):129.5673\n",
      "Episode 2400 \t rewards(mean):147.8304\n",
      "Episode 2450 \t rewards(mean):127.6218\n"
     ]
    },
    {
     "data": {
      "image/png": "[encoded data removed]",
      "text/plain": [
       "<Figure size 432x288 with 1 Axes>"
      ]
     },
     "metadata": {
      "needs_background": "light"
     },
     "output_type": "display_data"
    }
   ],
   "source": [
    "train(env, gamma=0.99, n_episodes=2500)"
   ]
  },
  {
   "cell_type": "code",
   "execution_count": 10,
   "metadata": {},
   "outputs": [],
   "source": [
    "from time import sleep\n",
    "for i in range(3):\n",
    "    state = env.reset()\n",
    "    done = False\n",
    "    while not done:\n",
    "        env.render()\n",
    "        state = torch.tensor(state, dtype=torch.float32, device=device)\n",
    "        action_probs = policy(state)\n",
    "\n",
    "        # sample the distribution of action_probs\n",
    "        # https://pytorch.org/docs/stable/distributions.html?highlight=distributions#module-torch.distributions\n",
    "        action = torch.distributions.Categorical(action_probs).sample()\n",
    "        action = int(action) # convert tensor to int\n",
    "\n",
    "        next_state, reward, done, _ = env.step(action)\n",
    "        state = next_state\n",
    " \n",
    "        sleep(0.01)"
   ]
  },
  {
   "cell_type": "code",
   "execution_count": null,
   "metadata": {},
   "outputs": [],
   "source": []
  }
 ],
 "metadata": {
  "kernelspec": {
   "display_name": "Python 3",
   "language": "python",
   "name": "python3"
  },
  "language_info": {
   "codemirror_mode": {
    "name": "ipython",
    "version": 3
   },
   "file_extension": ".py",
   "mimetype": "text/x-python",
   "name": "python",
   "nbconvert_exporter": "python",
   "pygments_lexer": "ipython3",
   "version": "3.7.4"
  }
 },
 "nbformat": 4,
 "nbformat_minor": 4
}
