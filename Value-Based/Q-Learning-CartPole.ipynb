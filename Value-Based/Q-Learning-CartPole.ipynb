{
 "cells": [
  {
   "cell_type": "markdown",
   "metadata": {},
   "source": [
    "## Q-Learning for gym's CartPole (using a Neural Network)\n",
    "[OpenAI gym CartPole](https://gym.openai.com/envs/CartPole-v1/)<br>\n",
    "This code implements a Neural Network to learn the environment MountainCar. It's a Q-Learning algorithm and not a DQN so it does not count with another network (Q-target) and no Experience Replay."
   ]
  },
  {
   "cell_type": "code",
   "execution_count": 1,
   "metadata": {},
   "outputs": [],
   "source": [
    "import numpy as np\n",
    "import torch\n",
    "import torch.nn as nn\n",
    "import torch.nn.functional as F\n",
    "\n",
    "import gym\n",
    "import matplotlib.pyplot as plt\n",
    "%matplotlib inline\n",
    "\n",
    "from torch.utils.tensorboard import SummaryWriter"
   ]
  },
  {
   "cell_type": "code",
   "execution_count": 2,
   "metadata": {},
   "outputs": [
    {
     "name": "stdout",
     "output_type": "stream",
     "text": [
      "Number of possible actions: 2\n",
      "Number of possible states: Box(4,)\n"
     ]
    },
    {
     "data": {
      "text/plain": [
       "<matplotlib.image.AxesImage at 0x7f8f5e53b9d0>"
      ]
     },
     "execution_count": 2,
     "metadata": {},
     "output_type": "execute_result"
    },
    {
     "data": {
      "image/png": "[encoded data removed]",
      "text/plain": [
       "<Figure size 432x288 with 1 Axes>"
      ]
     },
     "metadata": {
      "needs_background": "light"
     },
     "output_type": "display_data"
    }
   ],
   "source": [
    "\"\"\"\n",
    "Cart-pole environment.\n",
    "https://github.com/openai/gym/blob/master/gym/envs/classic_control/cartpole.py\n",
    "\n",
    "A pole is attached by an un-actuated joint to a cart, which moves along a frictionless track. \n",
    "The pendulum starts upright, and the goal is to prevent it from falling over by increasing and \n",
    "reducing the cart's velocity.\n",
    "\n",
    "Observation: \n",
    "    Type: Box(4)\n",
    "    Num\tObservation                 Min         Max\n",
    "    0\tCart Position             -4.8            4.8\n",
    "    1\tCart Velocity             -Inf            Inf\n",
    "    2\tPole Angle                 -24 deg        24 deg\n",
    "    3\tPole Velocity At Tip      -Inf            Inf\n",
    "\n",
    "Actions:\n",
    "    Type: Discrete(2)\n",
    "    Num\tAction\n",
    "    0\tPush cart to the left\n",
    "    1\tPush cart to the right\n",
    "\"\"\" \n",
    "\n",
    "\n",
    "env = gym.make(\"CartPole-v0\").env\n",
    "\n",
    "print(\"Number of possible actions:\", env.action_space.n)\n",
    "print(\"Number of possible states:\", env.observation_space)\n",
    "\n",
    "env.reset()\n",
    "plt.imshow(env.render(\"rgb_array\"))"
   ]
  },
  {
   "cell_type": "code",
   "execution_count": 3,
   "metadata": {},
   "outputs": [
    {
     "name": "stdout",
     "output_type": "stream",
     "text": [
      "Using device: cuda\n"
     ]
    }
   ],
   "source": [
    "device = torch.device(\"cuda\" if torch.cuda.is_available() else \"cpu\")\n",
    "print(\"Using device:\", device)"
   ]
  },
  {
   "cell_type": "code",
   "execution_count": 4,
   "metadata": {},
   "outputs": [],
   "source": [
    "class qAgent:\n",
    "    def __init__(self, n_action_space, n_observation_space, epsilon, alpha, discount_factor):\n",
    "        self.n_action_space = n_action_space\n",
    "        self.n_observation_space = n_observation_space\n",
    "        \n",
    "        self.epsilon = epsilon\n",
    "        self.alpha = alpha\n",
    "        self.discount_factor = discount_factor\n",
    "        \n",
    "        self.qnetwork = nn.Sequential(\n",
    "                    nn.Linear(n_observation_space[0], 128),\n",
    "                    nn.ReLU(),\n",
    "                    nn.Linear(128, 64),\n",
    "                    nn.ReLU(),\n",
    "                    nn.Linear(64, n_action_space)\n",
    "        ).to(device)\n",
    "        \n",
    "    def get_action_epsilon_greedy(self, state):    \n",
    "        # the action returned either will be random or the greedy\n",
    "        if np.random.rand() < self.epsilon:\n",
    "            action = np.random.choice(self.n_action_space) # return a random action\n",
    "        else: # else, be greedy\n",
    "            state = torch.tensor(state, dtype=torch.float32, device=device)\n",
    "            qvalues = self.qnetwork(state).detach() # returns a new Tensor, detached from the current graph.\n",
    "            action = torch.argmax(qvalues).item() \n",
    "        return action\n",
    "    \n",
    "    def get_greedy_action(self, state):\n",
    "        state = torch.tensor(state, dtype=torch.float32, device=device)\n",
    "        qvalues = self.qnetwork(state).detach() # returns a new Tensor, detached from the current graph.\n",
    "        action = torch.argmax(qvalues).item() \n",
    "        return action\n",
    "    \n",
    "    def get_qvalues(self, state):\n",
    "        return self.qnetwork(state)\n",
    "   \n",
    "    def calculate_loss(self, state, action, new_state, reward, done):\n",
    "        # convert variables to tensor\n",
    "        state = torch.tensor(state, dtype=torch.float32, device=device)\n",
    "        new_state = torch.tensor(new_state, dtype=torch.float32, device=device)\n",
    "        reward = torch.tensor(reward, dtype=torch.float32, device=device)\n",
    "\n",
    "        # predict all q-values for current state\n",
    "        all_qvalues_state = self.get_qvalues(state)\n",
    "       \n",
    "        # select the q_value for the agent action\n",
    "        qvalue_state = all_qvalues_state[action]\n",
    "        \n",
    "        # predict all q-values for the new state \n",
    "        all_qvalues_new_state = self.get_qvalues(new_state)\n",
    "       \n",
    "        # index of action that maximizes the new state q(s,a)\n",
    "        argmax_new_action = torch.argmax(all_qvalues_new_state)\n",
    "        # select the q-value for the new state for the action that maximises it, q'(s',amax)\n",
    "        qvalue_new_state =  all_qvalues_new_state[argmax_new_action]\n",
    "        \n",
    " \n",
    "        # if it's a terminal state (done) the target it receives only the value of the reward\n",
    "        if done:\n",
    "            max_qvalue_new_state = reward\n",
    "        else:\n",
    "            max_qvalue_new_state = reward + self.discount_factor*qvalue_new_state\n",
    "\n",
    "        # loss = MSE (mean squared error) between Q-network and Q-learning targets\n",
    "        # the detach is a way to fix the network by not having their gradients computed\n",
    "        loss = F.mse_loss(max_qvalue_new_state.detach(), qvalue_state)\n",
    "        \n",
    "        return loss"
   ]
  },
  {
   "cell_type": "code",
   "execution_count": 5,
   "metadata": {},
   "outputs": [],
   "source": [
    "# hyperparameters\n",
    "epsilon = 0.5\n",
    "alpha = 0.5\n",
    "discount_factor = 0.99\n",
    "\n",
    "agent = qAgent(n_action_space=env.action_space.n,\n",
    "               n_observation_space=env.observation_space.shape,\n",
    "               epsilon=epsilon,\n",
    "               alpha=alpha,\n",
    "               discount_factor=discount_factor)\n"
   ]
  },
  {
   "cell_type": "code",
   "execution_count": 6,
   "metadata": {},
   "outputs": [],
   "source": [
    "learning_rate = 0.0001\n",
    "optimiser = torch.optim.Adam(agent.qnetwork.parameters(), lr=learning_rate)"
   ]
  },
  {
   "cell_type": "code",
   "execution_count": 7,
   "metadata": {},
   "outputs": [],
   "source": [
    "# writter for tensorboard\n",
    "writer = SummaryWriter()\n",
    "# to see the board run on terminal the following command:\n",
    "# tensorboard --logdir=runs"
   ]
  },
  {
   "cell_type": "code",
   "execution_count": 8,
   "metadata": {},
   "outputs": [],
   "source": [
    "def train(trials_episode=100, solved_reward=200, n_epochs=1000):\n",
    "    total_reward = []\n",
    "    \n",
    "    for epoch in range(n_epochs):\n",
    "        \n",
    "        rewards_epoch = []\n",
    "        for trial in range(trials_episode):\n",
    "            state = env.reset()\n",
    "            done = False\n",
    "            ep_rewards = 0.0\n",
    "            while not done:\n",
    "                action = agent.get_action_epsilon_greedy(state)\n",
    "\n",
    "                new_state, reward, done, info = env.step(action)\n",
    "\n",
    "                optimiser.zero_grad()\n",
    "                loss = agent.calculate_loss(state, action, new_state, reward, done)\n",
    "                loss.backward()\n",
    "                optimiser.step()\n",
    "\n",
    "                state = new_state\n",
    "                ep_rewards += reward\n",
    "\n",
    "            rewards_epoch.append(ep_rewards)\n",
    "            total_reward.append(ep_rewards)\n",
    "            writer.add_scalar('Reward/Train', ep_rewards, epoch*trials_episode+trial)\n",
    "        \n",
    "        print(\"Epoch={} \\t epsilon={:.2f}\\t reward(mean)={:.2f}\".format(epoch+1, agent.epsilon, np.mean(rewards_epoch)))    \n",
    "        agent.epsilon *= 0.95\n",
    "        if np.mean(rewards_epoch) > solved_reward:\n",
    "            break\n",
    "            \n",
    "    return total_reward"
   ]
  },
  {
   "cell_type": "code",
   "execution_count": 9,
   "metadata": {
    "scrolled": true
   },
   "outputs": [
    {
     "name": "stdout",
     "output_type": "stream",
     "text": [
      "Epoch=1 \t epsilon=0.50\t reward(mean)=14.51\n",
      "Epoch=2 \t epsilon=0.47\t reward(mean)=13.76\n",
      "Epoch=3 \t epsilon=0.45\t reward(mean)=14.72\n",
      "Epoch=4 \t epsilon=0.43\t reward(mean)=12.49\n",
      "Epoch=5 \t epsilon=0.41\t reward(mean)=13.84\n",
      "Epoch=6 \t epsilon=0.39\t reward(mean)=12.78\n",
      "Epoch=7 \t epsilon=0.37\t reward(mean)=21.09\n",
      "Epoch=8 \t epsilon=0.35\t reward(mean)=27.07\n",
      "Epoch=9 \t epsilon=0.33\t reward(mean)=40.70\n",
      "Epoch=10 \t epsilon=0.32\t reward(mean)=42.29\n",
      "Epoch=11 \t epsilon=0.30\t reward(mean)=47.04\n",
      "Epoch=12 \t epsilon=0.28\t reward(mean)=47.20\n",
      "Epoch=13 \t epsilon=0.27\t reward(mean)=61.65\n",
      "Epoch=14 \t epsilon=0.26\t reward(mean)=73.67\n",
      "Epoch=15 \t epsilon=0.24\t reward(mean)=119.12\n",
      "Epoch=16 \t epsilon=0.23\t reward(mean)=157.38\n",
      "Epoch=17 \t epsilon=0.22\t reward(mean)=160.28\n",
      "Epoch=18 \t epsilon=0.21\t reward(mean)=154.53\n",
      "Epoch=19 \t epsilon=0.20\t reward(mean)=205.30\n"
     ]
    },
    {
     "data": {
      "image/png": "[encoded data removed]",
      "text/plain": [
       "<Figure size 432x288 with 1 Axes>"
      ]
     },
     "metadata": {
      "needs_background": "light"
     },
     "output_type": "display_data"
    }
   ],
   "source": [
    "# CartPole-v0 defines \"solving\" as getting average reward of 195.0 over 100 consecutive trials.\n",
    "# https://github.com/openai/gym/wiki/Leaderboard\n",
    "\n",
    "rewards = train(trials_episode=100, solved_reward=200, n_epochs=2000)\n",
    "\n",
    "plt.plot(rewards)\n",
    "plt.ylabel('Reward')\n",
    "plt.xlabel('Episode')\n",
    "plt.show()"
   ]
  },
  {
   "cell_type": "code",
   "execution_count": 10,
   "metadata": {},
   "outputs": [
    {
     "name": "stdout",
     "output_type": "stream",
     "text": [
      "Episode finished. Reward=316.0000\n",
      "Episode finished. Reward=325.0000\n",
      "Episode finished. Reward=365.0000\n"
     ]
    }
   ],
   "source": [
    "# play some episodes to see how it's working \n",
    "from time import sleep\n",
    "\n",
    "def validation_test(env, n_episodes=3):\n",
    "    agent.qnetwork.eval() # set model to evaluation mode\n",
    "    with torch.no_grad():\n",
    "        for i in range(n_episodes):\n",
    "            state = env.reset()\n",
    "            done = False\n",
    "            reward_sum = 0\n",
    "            while not done:\n",
    "                env.render()\n",
    "                #state = torch.tensor(state, dtype=torch.float32, device=device)\n",
    "                action = agent.get_greedy_action(state)\n",
    "\n",
    "                state, reward, done, _ = env.step(action)\n",
    "                reward_sum += reward\n",
    "\n",
    "                sleep(0.01)\n",
    "            print(\"Episode finished. Reward={:.4f}\".format(reward_sum))\n",
    "\n",
    "validation_test(env)"
   ]
  },
  {
   "cell_type": "code",
   "execution_count": 11,
   "metadata": {},
   "outputs": [],
   "source": [
    "torch.save(agent.qnetwork.state_dict(), \"./agents/Q-Learning-CartPole.pt\")"
   ]
  },
  {
   "cell_type": "code",
   "execution_count": 12,
   "metadata": {},
   "outputs": [
    {
     "name": "stdout",
     "output_type": "stream",
     "text": [
      "Episode finished. Reward=428.0000\n",
      "Episode finished. Reward=331.0000\n",
      "Episode finished. Reward=310.0000\n",
      "Episode finished. Reward=709.0000\n",
      "Episode finished. Reward=303.0000\n",
      "Episode finished. Reward=834.0000\n",
      "Episode finished. Reward=456.0000\n",
      "Episode finished. Reward=344.0000\n",
      "Episode finished. Reward=436.0000\n",
      "Episode finished. Reward=314.0000\n",
      "Episode finished. Reward=307.0000\n",
      "Episode finished. Reward=264.0000\n",
      "Episode finished. Reward=301.0000\n",
      "Episode finished. Reward=421.0000\n",
      "Episode finished. Reward=351.0000\n",
      "Episode finished. Reward=367.0000\n",
      "Episode finished. Reward=348.0000\n",
      "Episode finished. Reward=352.0000\n",
      "Episode finished. Reward=333.0000\n",
      "Episode finished. Reward=321.0000\n",
      "Episode finished. Reward=341.0000\n",
      "Episode finished. Reward=344.0000\n",
      "Episode finished. Reward=390.0000\n",
      "Episode finished. Reward=277.0000\n",
      "Episode finished. Reward=313.0000\n",
      "Episode finished. Reward=418.0000\n",
      "Episode finished. Reward=320.0000\n",
      "Episode finished. Reward=380.0000\n",
      "Episode finished. Reward=249.0000\n",
      "Episode finished. Reward=402.0000\n"
     ]
    }
   ],
   "source": [
    "# play some games with the trained agent\n",
    "from gym import wrappers\n",
    "dir_videos = \"./qlearning-results-cartpole\"\n",
    "\n",
    "env_monitor = wrappers.Monitor(env, directory=dir_videos, force=True)\n",
    "\n",
    "for _ in range(10):\n",
    "    validation_test(env_monitor, n_episodes=3)\n",
    "env_monitor.close()"
   ]
  },
  {
   "cell_type": "code",
   "execution_count": null,
   "metadata": {},
   "outputs": [],
   "source": []
  }
 ],
 "metadata": {
  "kernelspec": {
   "display_name": "Python 3",
   "language": "python",
   "name": "python3"
  },
  "language_info": {
   "codemirror_mode": {
    "name": "ipython",
    "version": 3
   },
   "file_extension": ".py",
   "mimetype": "text/x-python",
   "name": "python",
   "nbconvert_exporter": "python",
   "pygments_lexer": "ipython3",
   "version": "3.7.4"
  }
 },
 "nbformat": 4,
 "nbformat_minor": 4
}
