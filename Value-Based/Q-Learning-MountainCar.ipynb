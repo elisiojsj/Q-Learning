{
 "cells": [
  {
   "cell_type": "markdown",
   "metadata": {},
   "source": [
    "## Q-Learning for gym's MountainCar (using a Neural Network)\n",
    "[OpenAI gym MountainCar](https://gym.openai.com/envs/MountainCar-v0/)<br>\n",
    "This code implements a Neural Network to learn the environment MountainCar. It's a Q-Learning algorithm and not a DQN so it does not count with another network (Q-target) and no Experience Replay."
   ]
  },
  {
   "cell_type": "code",
   "execution_count": 1,
   "metadata": {},
   "outputs": [],
   "source": [
    "import numpy as np\n",
    "import torch\n",
    "import torch.nn as nn\n",
    "import torch.nn.functional as F\n",
    "\n",
    "import gym\n",
    "import matplotlib.pyplot as plt\n",
    "%matplotlib inline\n",
    "\n",
    "from torch.utils.tensorboard import SummaryWriter"
   ]
  },
  {
   "cell_type": "code",
   "execution_count": 2,
   "metadata": {},
   "outputs": [
    {
     "name": "stdout",
     "output_type": "stream",
     "text": [
      "Number of possible actions: 3\n",
      "Number of possible states: Box(2,)\n"
     ]
    },
    {
     "data": {
      "text/plain": [
       "<matplotlib.image.AxesImage at 0x7f81f0e199d0>"
      ]
     },
     "execution_count": 2,
     "metadata": {},
     "output_type": "execute_result"
    },
    {
     "data": {
      "image/png": "[encoded data removed]",
      "text/plain": [
       "<Figure size 432x288 with 1 Axes>"
      ]
     },
     "metadata": {
      "needs_background": "light"
     },
     "output_type": "display_data"
    }
   ],
   "source": [
    "env = gym.make(\"MountainCar-v0\").env\n",
    "# The .env is to avoid for MountainCar to stop the game after 200 episodes.\n",
    "# https://stackoverflow.com/a/42802225/4512032\n",
    "# https://github.com/openai/gym/blob/c7f9edf943174387b2336ec7f7bc15e0ecac16f8/gym/envs/registration.py#L110\n",
    "\n",
    "print(\"Number of possible actions:\", env.action_space.n)\n",
    "print(\"Number of possible states:\", env.observation_space)\n",
    "\n",
    "env.reset()\n",
    "plt.imshow(env.render(\"rgb_array\"))"
   ]
  },
  {
   "cell_type": "code",
   "execution_count": 3,
   "metadata": {},
   "outputs": [
    {
     "name": "stdout",
     "output_type": "stream",
     "text": [
      "Using device: cuda\n"
     ]
    }
   ],
   "source": [
    "device = torch.device(\"cuda\" if torch.cuda.is_available() else \"cpu\")\n",
    "print(\"Using device:\", device)"
   ]
  },
  {
   "cell_type": "code",
   "execution_count": 4,
   "metadata": {},
   "outputs": [],
   "source": [
    "class qAgent:\n",
    "    def __init__(self, n_action_space, n_observation_space, epsilon, alpha, discount_factor):\n",
    "        self.n_action_space = n_action_space\n",
    "        self.n_observation_space = n_observation_space\n",
    "        \n",
    "        self.epsilon = epsilon\n",
    "        self.alpha = alpha\n",
    "        self.discount_factor = discount_factor\n",
    "        \n",
    "        self.qnetwork = nn.Sequential(\n",
    "                    nn.Linear(n_observation_space[0], 128),\n",
    "                    nn.ReLU(),\n",
    "                    nn.Linear(128, 256),\n",
    "                    nn.ReLU(),\n",
    "                    nn.Linear(256, n_action_space)\n",
    "        ).to(device)\n",
    "        \n",
    "    def get_action_epsilon_greedy(self, state):    \n",
    "        # the action returned either will be random or the greedy\n",
    "        if np.random.rand() < self.epsilon:\n",
    "            action = np.random.choice(self.n_action_space) # return a random action\n",
    "        else: # else, be greedy\n",
    "            state = torch.tensor(state, dtype=torch.float32, device=device)\n",
    "            qvalues = self.qnetwork(state).detach() # returns a new Tensor, detached from the current graph.\n",
    "            action = torch.argmax(qvalues).item() \n",
    "        return action\n",
    "    \n",
    "    def get_greedy_action(self, state):\n",
    "        state = torch.tensor(state, dtype=torch.float32, device=device)\n",
    "        qvalues = self.qnetwork(state).detach() # returns a new Tensor, detached from the current graph.\n",
    "        action = torch.argmax(qvalues).item() \n",
    "        return action\n",
    "    \n",
    "    def get_qvalues(self, state):\n",
    "        return self.qnetwork(state)\n",
    "   \n",
    "    def calculate_loss(self, state, action, new_state, reward, done):\n",
    "        # convert variables to tensor\n",
    "        state = torch.tensor(state, dtype=torch.float32, device=device)\n",
    "        new_state = torch.tensor(new_state, dtype=torch.float32, device=device)\n",
    "        reward = torch.tensor(reward, dtype=torch.float32, device=device)\n",
    "        not_done = 1 - done\n",
    "\n",
    "        # predict all q-values for current state\n",
    "        all_qvalues_state = self.get_qvalues(state)\n",
    "       \n",
    "        # select the q_value for the agent action\n",
    "        qvalue_state = all_qvalues_state[action]\n",
    "        \n",
    "        # predict all q-values for the new state \n",
    "        all_qvalues_new_state = self.get_qvalues(new_state)\n",
    "       \n",
    "        # index of action that maximizes the new state q(s,a)\n",
    "        argmax_new_action = torch.argmax(all_qvalues_new_state)\n",
    "        # select the q-value for the new state for the action that maximises it, q'(s',amax)\n",
    "        qvalue_new_state =  all_qvalues_new_state[argmax_new_action]\n",
    "        \n",
    " \n",
    "        # if it's a terminal state (done) the target receives only the value of the reward\n",
    "        max_qvalue_new_state = reward + self.discount_factor*qvalue_new_state*not_done\n",
    "\n",
    "        # loss = MSE (mean squared error) between Q-network and Q-learning targets\n",
    "        # the detach is a way to fix the network by not having their gradients computed\n",
    "        loss = F.mse_loss(max_qvalue_new_state.detach(), qvalue_state)\n",
    "        \n",
    "        return loss"
   ]
  },
  {
   "cell_type": "code",
   "execution_count": 5,
   "metadata": {},
   "outputs": [],
   "source": [
    "# hyperparameters\n",
    "epsilon_init = 0.8\n",
    "epsilon_end = 0.1\n",
    "\n",
    "alpha = 0.5\n",
    "discount_factor = 0.99\n",
    "\n",
    "agent = qAgent(n_action_space=env.action_space.n,\n",
    "               n_observation_space=env.observation_space.shape,\n",
    "               epsilon=epsilon_init,\n",
    "               alpha=alpha,\n",
    "               discount_factor=discount_factor)\n"
   ]
  },
  {
   "cell_type": "code",
   "execution_count": 6,
   "metadata": {},
   "outputs": [],
   "source": [
    "learning_rate = 0.0001\n",
    "optimiser = torch.optim.Adam(agent.qnetwork.parameters(), lr=learning_rate)"
   ]
  },
  {
   "cell_type": "code",
   "execution_count": 7,
   "metadata": {},
   "outputs": [],
   "source": [
    "# writter for tensorboard\n",
    "writer = SummaryWriter()\n",
    "# to see the board run on terminal the following command:\n",
    "# tensorboard --logdir=runs"
   ]
  },
  {
   "cell_type": "code",
   "execution_count": 8,
   "metadata": {},
   "outputs": [],
   "source": [
    "def train(env, n_epochs=1000, reward_position=False):\n",
    "    rewards_history = []\n",
    "    positions_history = []\n",
    "    score = []\n",
    "    \n",
    "    # constant to decrement the value of epsilon\n",
    "    epsilon_decrement = (epsilon_init - epsilon_end)/n_epochs\n",
    "    \n",
    "    for epoch in range(n_epochs):\n",
    "        positions_episode = []\n",
    "\n",
    "        rewards_episode = 0\n",
    "        state = env.reset()\n",
    "        done = False\n",
    "        for step in range(2000):\n",
    "            action = agent.get_action_epsilon_greedy(state)\n",
    "\n",
    "            new_state, reward, done, info = env.step(action)\n",
    "            \n",
    "            rewards_episode += reward\n",
    "            position = new_state[0] + 0.5\n",
    "            positions_episode.append(position)\n",
    "\n",
    "            loss = agent.calculate_loss(state, action, new_state, reward, done)\n",
    "                \n",
    "            loss.backward()\n",
    "            optimiser.step()\n",
    "            optimiser.zero_grad()\n",
    "\n",
    "            state = new_state\n",
    "            \n",
    "            if done:\n",
    "                if position >= env.goal_position: # arrived at the position goal?\n",
    "                    score.append(1)\n",
    "                    break\n",
    "                else:\n",
    "                    score.append(0)\n",
    "                    \n",
    "        writer.add_scalar('Reward/Train', rewards_episode, epoch)\n",
    "\n",
    "        if epoch%50 == 0:\n",
    "            print(\"Epoch={} \\t epsilon={:.2f}\\t score={}/{}\\t rewards={:.2f}\".format(epoch+1, agent.epsilon, score.count(1), len(score), rewards_episode))\n",
    "            \n",
    "            \n",
    "        rewards_history.append(rewards_episode)\n",
    "        positions_history.append(positions_episode)\n",
    "        \n",
    "        agent.epsilon -= epsilon_decrement\n",
    "            \n",
    "    return rewards_history, score"
   ]
  },
  {
   "cell_type": "code",
   "execution_count": 9,
   "metadata": {},
   "outputs": [
    {
     "name": "stdout",
     "output_type": "stream",
     "text": [
      "Epoch=1 \t epsilon=0.80\t score=1/1\t rewards=-1091.00\n",
      "Epoch=51 \t epsilon=0.78\t score=2/2\t rewards=-2000.00\n",
      "Epoch=101 \t epsilon=0.77\t score=2/2\t rewards=-2000.00\n",
      "Epoch=151 \t epsilon=0.75\t score=2/2\t rewards=-2000.00\n",
      "Epoch=201 \t epsilon=0.73\t score=2/2\t rewards=-2000.00\n",
      "Epoch=251 \t epsilon=0.71\t score=28/28\t rewards=-697.00\n",
      "Epoch=301 \t epsilon=0.70\t score=67/67\t rewards=-320.00\n",
      "Epoch=351 \t epsilon=0.68\t score=99/99\t rewards=-541.00\n",
      "Epoch=401 \t epsilon=0.66\t score=145/145\t rewards=-518.00\n",
      "Epoch=451 \t epsilon=0.64\t score=195/195\t rewards=-409.00\n",
      "Epoch=501 \t epsilon=0.63\t score=245/245\t rewards=-1164.00\n",
      "Epoch=551 \t epsilon=0.61\t score=293/293\t rewards=-279.00\n",
      "Epoch=601 \t epsilon=0.59\t score=343/343\t rewards=-248.00\n",
      "Epoch=651 \t epsilon=0.57\t score=393/393\t rewards=-423.00\n",
      "Epoch=701 \t epsilon=0.56\t score=443/443\t rewards=-294.00\n",
      "Epoch=751 \t epsilon=0.54\t score=493/493\t rewards=-327.00\n",
      "Epoch=801 \t epsilon=0.52\t score=543/543\t rewards=-634.00\n",
      "Epoch=851 \t epsilon=0.50\t score=593/593\t rewards=-259.00\n",
      "Epoch=901 \t epsilon=0.49\t score=643/643\t rewards=-407.00\n",
      "Epoch=951 \t epsilon=0.47\t score=693/693\t rewards=-250.00\n",
      "Epoch=1001 \t epsilon=0.45\t score=743/743\t rewards=-188.00\n",
      "Epoch=1051 \t epsilon=0.43\t score=793/793\t rewards=-169.00\n",
      "Epoch=1101 \t epsilon=0.42\t score=843/843\t rewards=-192.00\n",
      "Epoch=1151 \t epsilon=0.40\t score=893/893\t rewards=-163.00\n",
      "Epoch=1201 \t epsilon=0.38\t score=943/943\t rewards=-150.00\n",
      "Epoch=1251 \t epsilon=0.36\t score=993/993\t rewards=-191.00\n",
      "Epoch=1301 \t epsilon=0.35\t score=1043/1043\t rewards=-250.00\n",
      "Epoch=1351 \t epsilon=0.33\t score=1093/1093\t rewards=-155.00\n",
      "Epoch=1401 \t epsilon=0.31\t score=1143/1143\t rewards=-155.00\n",
      "Epoch=1451 \t epsilon=0.29\t score=1193/1193\t rewards=-155.00\n",
      "Epoch=1501 \t epsilon=0.28\t score=1243/1243\t rewards=-157.00\n",
      "Epoch=1551 \t epsilon=0.26\t score=1293/1293\t rewards=-144.00\n",
      "Epoch=1601 \t epsilon=0.24\t score=1343/1343\t rewards=-157.00\n",
      "Epoch=1651 \t epsilon=0.22\t score=1393/1393\t rewards=-151.00\n",
      "Epoch=1701 \t epsilon=0.21\t score=1443/1443\t rewards=-119.00\n",
      "Epoch=1751 \t epsilon=0.19\t score=1493/1493\t rewards=-146.00\n",
      "Epoch=1801 \t epsilon=0.17\t score=1543/1543\t rewards=-166.00\n",
      "Epoch=1851 \t epsilon=0.15\t score=1593/1593\t rewards=-143.00\n",
      "Epoch=1901 \t epsilon=0.14\t score=1643/1643\t rewards=-141.00\n",
      "Epoch=1951 \t epsilon=0.12\t score=1693/1693\t rewards=-120.00\n"
     ]
    }
   ],
   "source": [
    "rewards, _ = train(env, n_epochs=2000, reward_position=True)"
   ]
  },
  {
   "cell_type": "code",
   "execution_count": 10,
   "metadata": {},
   "outputs": [
    {
     "data": {
      "image/png": "[encoded data removed]",
      "text/plain": [
       "<Figure size 432x288 with 1 Axes>"
      ]
     },
     "metadata": {
      "needs_background": "light"
     },
     "output_type": "display_data"
    }
   ],
   "source": [
    "plt.plot(rewards)\n",
    "plt.ylabel('Reward')\n",
    "plt.xlabel('Episode')\n",
    "plt.show()"
   ]
  },
  {
   "cell_type": "code",
   "execution_count": 11,
   "metadata": {},
   "outputs": [
    {
     "name": "stdout",
     "output_type": "stream",
     "text": [
      "Episode finished. Reward=-173.0000\n",
      "Episode finished. Reward=-113.0000\n",
      "Episode finished. Reward=-138.0000\n"
     ]
    }
   ],
   "source": [
    "# play some episodes to see how it's working \n",
    "from time import sleep\n",
    "\n",
    "agent.qnetwork.eval() # set model to evaluation mode\n",
    "#https://discuss.pytorch.org/t/model-eval-vs-with-torch-no-grad/19615/2\n",
    "\n",
    "with torch.no_grad():\n",
    "    for i in range(3):\n",
    "        state = env.reset()\n",
    "        done = False\n",
    "        reward_sum = 0\n",
    "        while not done:\n",
    "            env.render()\n",
    "            #state = torch.tensor(state, dtype=torch.float32, device=device)\n",
    "            action = agent.get_greedy_action(state)\n",
    "\n",
    "            state, reward, done, _ = env.step(action)\n",
    "            reward_sum += reward\n",
    "\n",
    "            sleep(0.01)\n",
    "        print(\"Episode finished. Reward={:.4f}\".format(reward_sum))"
   ]
  },
  {
   "cell_type": "code",
   "execution_count": 13,
   "metadata": {},
   "outputs": [],
   "source": [
    "torch.save(agent.qnetwork.state_dict(), \"./agents/Q-Learning-MountainCar.pt\")"
   ]
  }
 ],
 "metadata": {
  "kernelspec": {
   "display_name": "Python 3",
   "language": "python",
   "name": "python3"
  },
  "language_info": {
   "codemirror_mode": {
    "name": "ipython",
    "version": 3
   },
   "file_extension": ".py",
   "mimetype": "text/x-python",
   "name": "python",
   "nbconvert_exporter": "python",
   "pygments_lexer": "ipython3",
   "version": "3.7.4"
  }
 },
 "nbformat": 4,
 "nbformat_minor": 4
}
