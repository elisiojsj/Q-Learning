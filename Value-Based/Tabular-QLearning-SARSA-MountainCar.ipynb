{
 "cells": [
  {
   "cell_type": "markdown",
   "metadata": {},
   "source": [
    "## Tabular Q-Learning/SARSA\n",
    "This is a implementation of the continuous observation environment [MountainCar](https://gym.openai.com/envs/MountainCar-v0) in tabular form.\n",
    "It was possible to make a tabular version by digitizing the observation space values using the functions [numpy.digitize](https://numpy.org/doc/1.18/reference/generated/numpy.digitize.html) and [numpy.linspace](https://numpy.org/doc/1.18/reference/generated/numpy.linspace.html).<br>\n",
    "It's a TD algorithm with two options of control (optimization), Q-Learning and SARSA."
   ]
  },
  {
   "cell_type": "code",
   "execution_count": 1,
   "metadata": {},
   "outputs": [],
   "source": [
    "import numpy as np\n",
    "import matplotlib.pyplot as plt\n",
    "import gym\n",
    "\n",
    "from torch.utils.tensorboard import SummaryWriter"
   ]
  },
  {
   "cell_type": "code",
   "execution_count": 2,
   "metadata": {},
   "outputs": [
    {
     "name": "stdout",
     "output_type": "stream",
     "text": [
      "Action space: 3\n"
     ]
    }
   ],
   "source": [
    "env = gym.make(\"MountainCar-v0\").env\n",
    "\n",
    "action_space = env.action_space.n\n",
    "print(\"Action space:\", action_space)"
   ]
  },
  {
   "cell_type": "markdown",
   "metadata": {},
   "source": [
    "Both Q-learning and Sarsa are methods of TD control. The main difference is that Q-learning is off-policy while Sarsa is on-policy. <br> \n",
    "From David Silver's slide on [Model-Free Control](https://www.davidsilver.uk/wp-content/uploads/2020/03/control.pdf):\n",
    "On-policy learning:\n",
    "* \"Learn on the job\"\n",
    "* Learn about policy $\\pi$ from experience sampled from $\\pi$\n",
    "\n",
    "Off-policy learning:\n",
    "* \"Look over someone's sholder\"\n",
    "* Learn about policy $\\pi$ from experience sampled from b"
   ]
  },
  {
   "cell_type": "markdown",
   "metadata": {},
   "source": [
    "The difference is in the update of the new action value. Pgs 130 and 131 of the [Reinforcement Learning 2nd ed. book](http://incompleteideas.net/book/the-book-2nd.html):\n",
    "#### Sarsa\n",
    "$Q(S,A) \\leftarrow Q(S,A) + \\alpha[R+\\lambda Q(S',A')-Q(S,A)]$\n",
    "\n",
    "#### Q-learning\n",
    "$Q(S,A) \\leftarrow Q(S,A) + \\alpha[R+\\lambda max_aQ(S',a)-Q(S,A)]$"
   ]
  },
  {
   "cell_type": "code",
   "execution_count": 3,
   "metadata": {},
   "outputs": [],
   "source": [
    "class Agent():\n",
    "    def __init__(self, epsilon, position_min, position_max, speed_min, speed_max, alpha, gamma):\n",
    "        \n",
    "        self.q_table = {}\n",
    "        self.epsilon = epsilon\n",
    "        \n",
    "        self.discount_factor = gamma\n",
    "        self.alpha = alpha\n",
    "\n",
    "        self.position_bins = np.linspace(position_min, position_max, 30)\n",
    "        self.speed_bins = np.linspace(speed_min, speed_max, 30)\n",
    "\n",
    "        # populate the q_table\n",
    "        for pos in self.position_bins:\n",
    "            for spd in self.speed_bins:\n",
    "                self.q_table[(pos, spd)] = [0 for _ in range(action_space)]\n",
    "\n",
    "    def get_state_digitized(self, state):\n",
    "        ''' digitize state value, which is continuous '''\n",
    "        pos_dig_i = np.digitize(state[0], self.position_bins)\n",
    "        pos_dig = self.position_bins[pos_dig_i]\n",
    "\n",
    "        speed_dig_i = np.digitize(state[1], self.speed_bins)\n",
    "        speed_dig = self.speed_bins[speed_dig_i]\n",
    "        return pos_dig, speed_dig\n",
    "\n",
    "    def get_greedy_action(self, state):\n",
    "        ''' get the table action with highest value given the state'''\n",
    "        pos, spd = self.get_state_digitized(state)\n",
    "        greedy_action = np.argmax(self.q_table[(pos, spd)])\n",
    "        return greedy_action \n",
    "\n",
    "    def get_max_qvalue(self, state):\n",
    "        pos, spd = self.get_state_digitized(state)\n",
    "        max_qvalue = np.max(self.q_table[(pos, spd)])\n",
    "        return max_qvalue \n",
    "    \n",
    "    def get_qvalue(self, state, action):\n",
    "        pos, spd = self.get_state_digitized(state)\n",
    "        qvalue = self.q_table[(pos, spd)][action]\n",
    "        return qvalue \n",
    "\n",
    "    def e_greedy_policy(self, state):\n",
    "        ''' get the action based on the e-greedy-policy'''\n",
    "        if np.random.rand() < self.epsilon:\n",
    "            action = np.random.randint(action_space)\n",
    "        else:\n",
    "            action = self.get_greedy_action(state) \n",
    "        return action\n",
    "    \n",
    "    def td_control(self, state, action, new_state, reward, done, sarsa=False):\n",
    "        ''' update the table with the new action-value that can be calculated using Q-Learning or SARSA''' \n",
    "        not_done = 1 - done\n",
    "        \n",
    "        if sarsa:\n",
    "            target = reward + self.discount_factor*self.get_qvalue(new_state, action)\n",
    "            q_value = self.get_qvalue(state, action)\n",
    "            new_q_value = q_value + self.alpha*(target - q_value)*not_done\n",
    "        else:\n",
    "            q_target = reward + self.discount_factor*self.get_max_qvalue(new_state)\n",
    "            q_value = self.get_qvalue(state, action)\n",
    "            new_q_value = q_value + self.alpha*(q_target - q_value)*not_done\n",
    "\n",
    "        # update table\n",
    "        self.set_qvalue(state, action, new_q_value)\n",
    "\n",
    "            \n",
    "    def set_qvalue(self, state, action, value):\n",
    "        ''' set action-value in the table'''\n",
    "        pos, spd = self.get_state_digitized(state)\n",
    "        self.q_table[(pos, spd)][action] = value"
   ]
  },
  {
   "cell_type": "code",
   "execution_count": 4,
   "metadata": {},
   "outputs": [],
   "source": [
    "# epsilon for the epsilon-greedy policy\n",
    "epsilon_init = 0.8\n",
    "epsilon_end = 0.1\n",
    "\n",
    "alpha = 0.5 # learning rate\n",
    "discount_factor = 0.99\n",
    "\n",
    "# two agents were created for the sake of testing control with Q-learning and SARSA\n",
    "agent1 = Agent(epsilon_init, env.min_position, env.max_position, -env.max_speed, env.max_speed, alpha=alpha, gamma=discount_factor)\n",
    "agent2 = Agent(epsilon_init, env.min_position, env.max_position, -env.max_speed, env.max_speed, alpha=alpha, gamma=discount_factor)"
   ]
  },
  {
   "cell_type": "code",
   "execution_count": 5,
   "metadata": {},
   "outputs": [],
   "source": [
    "# writter for tensorboard\n",
    "writer = SummaryWriter()\n",
    "# to see the board run on terminal the following command:\n",
    "# tensorboard --logdir=runs"
   ]
  },
  {
   "cell_type": "code",
   "execution_count": 6,
   "metadata": {},
   "outputs": [],
   "source": [
    "def train(agent, n_epochs=200, sarsa=False):\n",
    "    if sarsa:\n",
    "        agent_tag = 'SARSA'\n",
    "    else:\n",
    "        agent_tag = 'Q-Learning'\n",
    "    epsilon_discount = (epsilon_init - epsilon_end)/n_epochs\n",
    "    \n",
    "    rewards_history = []\n",
    "    for epoch in range(1, n_epochs+1):\n",
    "\n",
    "        state = env.reset()\n",
    "        done = False\n",
    "        reward_sum = 0\n",
    "\n",
    "        while not done:\n",
    "            action = agent.e_greedy_policy(state)\n",
    "            new_state, reward, done, info = env.step(action)\n",
    "\n",
    "            reward_sum += reward\n",
    "            \n",
    "            agent.td_control(state, action, new_state, reward, done, sarsa=sarsa)\n",
    "           \n",
    "            state = new_state\n",
    "        rewards_history.append(reward_sum)\n",
    "        writer.add_scalar(f'{agent_tag}/Reward/Train', reward_sum, epoch)\n",
    "        if epoch % 50 == 0:\n",
    "            print(\"Epoch={} \\t reward={}\\t epsilon={:.4f}\".format(epoch, reward_sum, agent.epsilon))\n",
    "        \n",
    "        agent.epsilon -= epsilon_discount\n",
    "    return rewards_history"
   ]
  },
  {
   "cell_type": "code",
   "execution_count": 7,
   "metadata": {
    "scrolled": true
   },
   "outputs": [
    {
     "name": "stdout",
     "output_type": "stream",
     "text": [
      "Epoch=50 \t reward=-736.0\t epsilon=0.7829\n",
      "Epoch=100 \t reward=-1053.0\t epsilon=0.7654\n",
      "Epoch=150 \t reward=-928.0\t epsilon=0.7479\n",
      "Epoch=200 \t reward=-1528.0\t epsilon=0.7304\n",
      "Epoch=250 \t reward=-828.0\t epsilon=0.7129\n",
      "Epoch=300 \t reward=-1316.0\t epsilon=0.6954\n",
      "Epoch=350 \t reward=-3004.0\t epsilon=0.6779\n",
      "Epoch=400 \t reward=-630.0\t epsilon=0.6604\n",
      "Epoch=450 \t reward=-924.0\t epsilon=0.6429\n",
      "Epoch=500 \t reward=-904.0\t epsilon=0.6254\n",
      "Epoch=550 \t reward=-635.0\t epsilon=0.6079\n",
      "Epoch=600 \t reward=-905.0\t epsilon=0.5904\n",
      "Epoch=650 \t reward=-552.0\t epsilon=0.5729\n",
      "Epoch=700 \t reward=-731.0\t epsilon=0.5554\n",
      "Epoch=750 \t reward=-430.0\t epsilon=0.5379\n",
      "Epoch=800 \t reward=-478.0\t epsilon=0.5204\n",
      "Epoch=850 \t reward=-601.0\t epsilon=0.5029\n",
      "Epoch=900 \t reward=-598.0\t epsilon=0.4854\n",
      "Epoch=950 \t reward=-667.0\t epsilon=0.4679\n",
      "Epoch=1000 \t reward=-371.0\t epsilon=0.4504\n",
      "Epoch=1050 \t reward=-545.0\t epsilon=0.4329\n",
      "Epoch=1100 \t reward=-312.0\t epsilon=0.4154\n",
      "Epoch=1150 \t reward=-393.0\t epsilon=0.3979\n",
      "Epoch=1200 \t reward=-654.0\t epsilon=0.3804\n",
      "Epoch=1250 \t reward=-400.0\t epsilon=0.3629\n",
      "Epoch=1300 \t reward=-309.0\t epsilon=0.3454\n",
      "Epoch=1350 \t reward=-285.0\t epsilon=0.3279\n",
      "Epoch=1400 \t reward=-404.0\t epsilon=0.3104\n",
      "Epoch=1450 \t reward=-382.0\t epsilon=0.2929\n",
      "Epoch=1500 \t reward=-249.0\t epsilon=0.2754\n",
      "Epoch=1550 \t reward=-554.0\t epsilon=0.2579\n",
      "Epoch=1600 \t reward=-362.0\t epsilon=0.2404\n",
      "Epoch=1650 \t reward=-258.0\t epsilon=0.2229\n",
      "Epoch=1700 \t reward=-351.0\t epsilon=0.2054\n",
      "Epoch=1750 \t reward=-421.0\t epsilon=0.1879\n",
      "Epoch=1800 \t reward=-333.0\t epsilon=0.1704\n",
      "Epoch=1850 \t reward=-325.0\t epsilon=0.1529\n",
      "Epoch=1900 \t reward=-193.0\t epsilon=0.1354\n",
      "Epoch=1950 \t reward=-240.0\t epsilon=0.1179\n",
      "Epoch=2000 \t reward=-242.0\t epsilon=0.1004\n"
     ]
    }
   ],
   "source": [
    "rewards = train(agent1, n_epochs=2000, sarsa=False)"
   ]
  },
  {
   "cell_type": "code",
   "execution_count": 8,
   "metadata": {},
   "outputs": [
    {
     "data": {
      "image/png": "[encoded data removed]",
      "text/plain": [
       "<Figure size 432x288 with 1 Axes>"
      ]
     },
     "metadata": {
      "needs_background": "light"
     },
     "output_type": "display_data"
    }
   ],
   "source": [
    "plt.plot(rewards)\n",
    "plt.ylabel('Reward')\n",
    "plt.xlabel('Episode')\n",
    "plt.show()"
   ]
  },
  {
   "cell_type": "code",
   "execution_count": 9,
   "metadata": {},
   "outputs": [
    {
     "name": "stdout",
     "output_type": "stream",
     "text": [
      "Epoch=50 \t reward=-932.0\t epsilon=0.7829\n",
      "Epoch=100 \t reward=-921.0\t epsilon=0.7654\n",
      "Epoch=150 \t reward=-752.0\t epsilon=0.7479\n",
      "Epoch=200 \t reward=-666.0\t epsilon=0.7304\n",
      "Epoch=250 \t reward=-546.0\t epsilon=0.7129\n",
      "Epoch=300 \t reward=-626.0\t epsilon=0.6954\n",
      "Epoch=350 \t reward=-616.0\t epsilon=0.6779\n",
      "Epoch=400 \t reward=-379.0\t epsilon=0.6604\n",
      "Epoch=450 \t reward=-609.0\t epsilon=0.6429\n",
      "Epoch=500 \t reward=-443.0\t epsilon=0.6254\n",
      "Epoch=550 \t reward=-532.0\t epsilon=0.6079\n",
      "Epoch=600 \t reward=-295.0\t epsilon=0.5904\n",
      "Epoch=650 \t reward=-541.0\t epsilon=0.5729\n",
      "Epoch=700 \t reward=-526.0\t epsilon=0.5554\n",
      "Epoch=750 \t reward=-680.0\t epsilon=0.5379\n",
      "Epoch=800 \t reward=-457.0\t epsilon=0.5204\n",
      "Epoch=850 \t reward=-773.0\t epsilon=0.5029\n",
      "Epoch=900 \t reward=-353.0\t epsilon=0.4854\n",
      "Epoch=950 \t reward=-581.0\t epsilon=0.4679\n",
      "Epoch=1000 \t reward=-558.0\t epsilon=0.4504\n",
      "Epoch=1050 \t reward=-596.0\t epsilon=0.4329\n",
      "Epoch=1100 \t reward=-281.0\t epsilon=0.4154\n",
      "Epoch=1150 \t reward=-497.0\t epsilon=0.3979\n",
      "Epoch=1200 \t reward=-509.0\t epsilon=0.3804\n",
      "Epoch=1250 \t reward=-289.0\t epsilon=0.3629\n",
      "Epoch=1300 \t reward=-313.0\t epsilon=0.3454\n",
      "Epoch=1350 \t reward=-304.0\t epsilon=0.3279\n",
      "Epoch=1400 \t reward=-422.0\t epsilon=0.3104\n",
      "Epoch=1450 \t reward=-242.0\t epsilon=0.2929\n",
      "Epoch=1500 \t reward=-439.0\t epsilon=0.2754\n",
      "Epoch=1550 \t reward=-621.0\t epsilon=0.2579\n",
      "Epoch=1600 \t reward=-289.0\t epsilon=0.2404\n",
      "Epoch=1650 \t reward=-254.0\t epsilon=0.2229\n",
      "Epoch=1700 \t reward=-275.0\t epsilon=0.2054\n",
      "Epoch=1750 \t reward=-232.0\t epsilon=0.1879\n",
      "Epoch=1800 \t reward=-240.0\t epsilon=0.1704\n",
      "Epoch=1850 \t reward=-328.0\t epsilon=0.1529\n",
      "Epoch=1900 \t reward=-311.0\t epsilon=0.1354\n",
      "Epoch=1950 \t reward=-229.0\t epsilon=0.1179\n",
      "Epoch=2000 \t reward=-218.0\t epsilon=0.1004\n"
     ]
    }
   ],
   "source": [
    "rewards = train(agent2, n_epochs=2000, sarsa=True)"
   ]
  },
  {
   "cell_type": "code",
   "execution_count": 10,
   "metadata": {},
   "outputs": [
    {
     "data": {
      "image/png": "[encoded data removed]",
      "text/plain": [
       "<Figure size 432x288 with 1 Axes>"
      ]
     },
     "metadata": {
      "needs_background": "light"
     },
     "output_type": "display_data"
    }
   ],
   "source": [
    "plt.plot(rewards)\n",
    "plt.ylabel('Reward')\n",
    "plt.xlabel('Episode')\n",
    "plt.show()"
   ]
  },
  {
   "cell_type": "code",
   "execution_count": 11,
   "metadata": {},
   "outputs": [],
   "source": [
    "from time import sleep\n",
    "\n",
    "def play_game(env, agent):\n",
    "    for i in range(3):\n",
    "        state = env.reset()\n",
    "        done = False\n",
    "        reward_sum = 0\n",
    "        while not done:\n",
    "            env.render()\n",
    "            action = agent.get_greedy_action(state)\n",
    "\n",
    "            state, reward, done, _ = env.step(action)\n",
    "            reward_sum += reward\n",
    "\n",
    "            sleep(0.01)\n",
    "        print(\"Episode finished. Reward={:.4f}\".format(reward_sum))"
   ]
  },
  {
   "cell_type": "code",
   "execution_count": 12,
   "metadata": {},
   "outputs": [
    {
     "name": "stdout",
     "output_type": "stream",
     "text": [
      "Episode finished. Reward=-331.0000\n",
      "Episode finished. Reward=-332.0000\n",
      "Episode finished. Reward=-328.0000\n"
     ]
    }
   ],
   "source": [
    "play_game(env, agent=agent1)"
   ]
  },
  {
   "cell_type": "code",
   "execution_count": 13,
   "metadata": {},
   "outputs": [
    {
     "name": "stdout",
     "output_type": "stream",
     "text": [
      "Episode finished. Reward=-300.0000\n",
      "Episode finished. Reward=-257.0000\n",
      "Episode finished. Reward=-221.0000\n",
      "Episode finished. Reward=-269.0000\n",
      "Episode finished. Reward=-232.0000\n",
      "Episode finished. Reward=-305.0000\n",
      "Episode finished. Reward=-306.0000\n",
      "Episode finished. Reward=-255.0000\n",
      "Episode finished. Reward=-305.0000\n"
     ]
    }
   ],
   "source": [
    "# play some games with the trained agent\n",
    "from gym import wrappers\n",
    "dir_videos = \"./tabqlearningsarsa-results-cartpole\"\n",
    "\n",
    "env_monitor = wrappers.Monitor(env, directory=dir_videos, force=True)\n",
    "\n",
    "for _ in range(3):\n",
    "    play_game(env_monitor, agent1) \n",
    "env_monitor.close()"
   ]
  },
  {
   "cell_type": "code",
   "execution_count": null,
   "metadata": {},
   "outputs": [],
   "source": []
  }
 ],
 "metadata": {
  "kernelspec": {
   "display_name": "Python 3",
   "language": "python",
   "name": "python3"
  },
  "language_info": {
   "codemirror_mode": {
    "name": "ipython",
    "version": 3
   },
   "file_extension": ".py",
   "mimetype": "text/x-python",
   "name": "python",
   "nbconvert_exporter": "python",
   "pygments_lexer": "ipython3",
   "version": "3.7.7"
  }
 },
 "nbformat": 4,
 "nbformat_minor": 4
}
