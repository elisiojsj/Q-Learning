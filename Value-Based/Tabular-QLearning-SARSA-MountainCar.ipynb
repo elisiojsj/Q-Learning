{
 "cells": [
  {
   "cell_type": "markdown",
   "metadata": {},
   "source": [
    "## Tabular QLearning/SARSA\n",
    "This is a implementation of the continuous observation environment [MountainCar](https://gym.openai.com/envs/MountainCar-v0) in tabular form.\n",
    "It was possible to make a tabular version by digitizing the observation space values using the functions [numpy.digitize](https://numpy.org/doc/1.18/reference/generated/numpy.digitize.html) and [numpy.linspace](https://numpy.org/doc/1.18/reference/generated/numpy.linspace.html).<br>\n",
    "It's a TD algorithm with two options of control (optimization), Q-Learning and SARSA."
   ]
  },
  {
   "cell_type": "code",
   "execution_count": 1,
   "metadata": {},
   "outputs": [],
   "source": [
    "import numpy as np\n",
    "import matplotlib.pyplot as plt\n",
    "import gym\n",
    "\n",
    "from torch.utils.tensorboard import SummaryWriter"
   ]
  },
  {
   "cell_type": "code",
   "execution_count": 2,
   "metadata": {},
   "outputs": [
    {
     "name": "stdout",
     "output_type": "stream",
     "text": [
      "Action space: 3\n"
     ]
    }
   ],
   "source": [
    "env = gym.make(\"MountainCar-v0\").env\n",
    "\n",
    "action_space = env.action_space.n\n",
    "print(\"Action space:\", action_space)"
   ]
  },
  {
   "cell_type": "code",
   "execution_count": 3,
   "metadata": {},
   "outputs": [],
   "source": [
    "class Agent():\n",
    "    def __init__(self, epsilon, position_min, position_max, speed_min, speed_max, alpha, gamma):\n",
    "        \n",
    "        self.q_table = {}\n",
    "        self.epsilon = epsilon\n",
    "        \n",
    "        self.discount_factor = gamma\n",
    "        self.alpha = alpha\n",
    "\n",
    "        self.position_bins = np.linspace(position_min, position_max, 30)\n",
    "        self.speed_bins = np.linspace(speed_min, speed_max, 30)\n",
    "\n",
    "        # populate the q_table\n",
    "        for pos in self.position_bins:\n",
    "            for spd in self.speed_bins:\n",
    "                self.q_table[(pos, spd)] = [0 for _ in range(action_space)]\n",
    "\n",
    "    def get_state_digitized(self, state):\n",
    "        pos_dig_i = np.digitize(state[0], self.position_bins)\n",
    "        pos_dig = self.position_bins[pos_dig_i]\n",
    "\n",
    "        speed_dig_i = np.digitize(state[1], self.speed_bins)\n",
    "        speed_dig = self.speed_bins[speed_dig_i]\n",
    "        return pos_dig, speed_dig\n",
    "\n",
    "    def get_greedy_action(self, state):\n",
    "        pos, spd = self.get_state_digitized(state)\n",
    "        greedy_action = np.argmax(self.q_table[(pos, spd)])\n",
    "        return greedy_action \n",
    "\n",
    "    def get_max_qvalue(self, state):\n",
    "        pos, spd = self.get_state_digitized(state)\n",
    "        max_qvalue = np.max(self.q_table[(pos, spd)])\n",
    "        return max_qvalue \n",
    "    \n",
    "    def get_qvalue(self, state, action):\n",
    "        pos, spd = self.get_state_digitized(state)\n",
    "        qvalue = self.q_table[(pos, spd)][action]\n",
    "        return qvalue \n",
    "\n",
    "    def e_greedy_policy(self, state):\n",
    "        if np.random.rand() < self.epsilon:\n",
    "            action = np.random.randint(action_space)\n",
    "        else:\n",
    "            action = self.get_greedy_action(state) \n",
    "        return action\n",
    "    \n",
    "    def td_control(self, state, action, new_state, reward, done, sarsa=False):\n",
    "        not_done = 1 - done\n",
    "        \n",
    "        if sarsa:\n",
    "            target = reward + self.discount_factor*self.get_qvalue(new_state, action)\n",
    "            q_value = self.get_qvalue(state, action)\n",
    "            new_q_value = q_value + self.alpha*(target - q_value)*not_done\n",
    "        else:\n",
    "            q_target = reward + self.discount_factor*self.get_max_qvalue(new_state)\n",
    "            q_value = self.get_qvalue(state, action)\n",
    "            new_q_value = q_value + self.alpha*(q_target - q_value)*not_done\n",
    "\n",
    "        # update table\n",
    "        self.set_qvalue(state, action, new_q_value)\n",
    "\n",
    "            \n",
    "    def set_qvalue(self, state, action, value):\n",
    "        pos, spd = self.get_state_digitized(state)\n",
    "        self.q_table[(pos, spd)][action] = value"
   ]
  },
  {
   "cell_type": "code",
   "execution_count": 4,
   "metadata": {},
   "outputs": [],
   "source": [
    "epsilon_init = 0.8\n",
    "epsilon_end = 0.1\n",
    "alpha = 0.5 #step-size\n",
    "discount_factor = 0.99\n",
    "\n",
    "agent1 = Agent(epsilon_init, env.min_position, env.max_position, -env.max_speed, env.max_speed, alpha=alpha, gamma=discount_factor)\n",
    "agent2 = Agent(epsilon_init, env.min_position, env.max_position, -env.max_speed, env.max_speed, alpha=alpha, gamma=discount_factor)"
   ]
  },
  {
   "cell_type": "code",
   "execution_count": 5,
   "metadata": {},
   "outputs": [],
   "source": [
    "# writter for tensorboard\n",
    "writer = SummaryWriter()\n",
    "# to see the board run on terminal the following command:\n",
    "# tensorboard --logdir=runs"
   ]
  },
  {
   "cell_type": "code",
   "execution_count": 6,
   "metadata": {},
   "outputs": [],
   "source": [
    "def train(agent, n_epochs=200, sarsa=False):\n",
    "    if sarsa:\n",
    "        agent_tag = 'SARSA'\n",
    "    else:\n",
    "        agent_tag = 'Q-Learning'\n",
    "    epsilon_discount = (epsilon_init - epsilon_end)/n_epochs\n",
    "    \n",
    "    rewards_history = []\n",
    "    for epoch in range(1, n_epochs+1):\n",
    "\n",
    "        state = env.reset()\n",
    "        done = False\n",
    "        reward_sum = 0\n",
    "\n",
    "        while not done:\n",
    "            action = agent.e_greedy_policy(state)\n",
    "            new_state, reward, done, info = env.step(action)\n",
    "\n",
    "            reward_sum += reward\n",
    "            \n",
    "            agent.td_control(state, action, new_state, reward, done, sarsa=sarsa)\n",
    "           \n",
    "            state = new_state\n",
    "        rewards_history.append(reward_sum)\n",
    "        writer.add_scalar(f'{agent_tag}/Reward/Train', reward_sum, epoch)\n",
    "        if epoch % 50 == 0:\n",
    "            print(\"Epoch={} \\t reward={}\\t epsilon={:.4f}\".format(epoch, reward_sum, agent.epsilon))\n",
    "        \n",
    "        agent.epsilon -= epsilon_discount\n",
    "    return rewards_history"
   ]
  },
  {
   "cell_type": "code",
   "execution_count": 7,
   "metadata": {
    "scrolled": true
   },
   "outputs": [
    {
     "name": "stdout",
     "output_type": "stream",
     "text": [
      "Epoch=50 \t reward=-3422.0\t epsilon=0.7829\n",
      "Epoch=100 \t reward=-1300.0\t epsilon=0.7654\n",
      "Epoch=150 \t reward=-1832.0\t epsilon=0.7479\n",
      "Epoch=200 \t reward=-490.0\t epsilon=0.7304\n",
      "Epoch=250 \t reward=-829.0\t epsilon=0.7129\n",
      "Epoch=300 \t reward=-1270.0\t epsilon=0.6954\n",
      "Epoch=350 \t reward=-1702.0\t epsilon=0.6779\n",
      "Epoch=400 \t reward=-1104.0\t epsilon=0.6604\n",
      "Epoch=450 \t reward=-1781.0\t epsilon=0.6429\n",
      "Epoch=500 \t reward=-1985.0\t epsilon=0.6254\n",
      "Epoch=550 \t reward=-693.0\t epsilon=0.6079\n",
      "Epoch=600 \t reward=-561.0\t epsilon=0.5904\n",
      "Epoch=650 \t reward=-803.0\t epsilon=0.5729\n",
      "Epoch=700 \t reward=-408.0\t epsilon=0.5554\n",
      "Epoch=750 \t reward=-595.0\t epsilon=0.5379\n",
      "Epoch=800 \t reward=-814.0\t epsilon=0.5204\n",
      "Epoch=850 \t reward=-751.0\t epsilon=0.5029\n",
      "Epoch=900 \t reward=-402.0\t epsilon=0.4854\n",
      "Epoch=950 \t reward=-397.0\t epsilon=0.4679\n",
      "Epoch=1000 \t reward=-276.0\t epsilon=0.4504\n",
      "Epoch=1050 \t reward=-450.0\t epsilon=0.4329\n",
      "Epoch=1100 \t reward=-416.0\t epsilon=0.4154\n",
      "Epoch=1150 \t reward=-220.0\t epsilon=0.3979\n",
      "Epoch=1200 \t reward=-524.0\t epsilon=0.3804\n",
      "Epoch=1250 \t reward=-235.0\t epsilon=0.3629\n",
      "Epoch=1300 \t reward=-765.0\t epsilon=0.3454\n",
      "Epoch=1350 \t reward=-516.0\t epsilon=0.3279\n",
      "Epoch=1400 \t reward=-471.0\t epsilon=0.3104\n",
      "Epoch=1450 \t reward=-314.0\t epsilon=0.2929\n",
      "Epoch=1500 \t reward=-479.0\t epsilon=0.2754\n",
      "Epoch=1550 \t reward=-394.0\t epsilon=0.2579\n",
      "Epoch=1600 \t reward=-228.0\t epsilon=0.2404\n",
      "Epoch=1650 \t reward=-307.0\t epsilon=0.2229\n",
      "Epoch=1700 \t reward=-340.0\t epsilon=0.2054\n",
      "Epoch=1750 \t reward=-291.0\t epsilon=0.1879\n",
      "Epoch=1800 \t reward=-247.0\t epsilon=0.1704\n",
      "Epoch=1850 \t reward=-320.0\t epsilon=0.1529\n",
      "Epoch=1900 \t reward=-224.0\t epsilon=0.1354\n",
      "Epoch=1950 \t reward=-241.0\t epsilon=0.1179\n",
      "Epoch=2000 \t reward=-250.0\t epsilon=0.1004\n"
     ]
    }
   ],
   "source": [
    "rewards = train(agent1, n_epochs=2000, sarsa=False)"
   ]
  },
  {
   "cell_type": "code",
   "execution_count": 8,
   "metadata": {},
   "outputs": [
    {
     "data": {
      "image/png": "[encoded data removed]",
      "text/plain": [
       "<Figure size 432x288 with 1 Axes>"
      ]
     },
     "metadata": {
      "needs_background": "light"
     },
     "output_type": "display_data"
    }
   ],
   "source": [
    "plt.plot(rewards)\n",
    "plt.ylabel('Reward')\n",
    "plt.xlabel('Episode')\n",
    "plt.show()"
   ]
  },
  {
   "cell_type": "code",
   "execution_count": 9,
   "metadata": {
    "scrolled": true
   },
   "outputs": [
    {
     "name": "stdout",
     "output_type": "stream",
     "text": [
      "Epoch=50 \t reward=-1062.0\t epsilon=0.7829\n",
      "Epoch=100 \t reward=-1027.0\t epsilon=0.7654\n",
      "Epoch=150 \t reward=-310.0\t epsilon=0.7479\n",
      "Epoch=200 \t reward=-378.0\t epsilon=0.7304\n",
      "Epoch=250 \t reward=-513.0\t epsilon=0.7129\n",
      "Epoch=300 \t reward=-620.0\t epsilon=0.6954\n",
      "Epoch=350 \t reward=-721.0\t epsilon=0.6779\n",
      "Epoch=400 \t reward=-666.0\t epsilon=0.6604\n",
      "Epoch=450 \t reward=-448.0\t epsilon=0.6429\n",
      "Epoch=500 \t reward=-446.0\t epsilon=0.6254\n",
      "Epoch=550 \t reward=-540.0\t epsilon=0.6079\n",
      "Epoch=600 \t reward=-466.0\t epsilon=0.5904\n",
      "Epoch=650 \t reward=-452.0\t epsilon=0.5729\n",
      "Epoch=700 \t reward=-544.0\t epsilon=0.5554\n",
      "Epoch=750 \t reward=-370.0\t epsilon=0.5379\n",
      "Epoch=800 \t reward=-502.0\t epsilon=0.5204\n",
      "Epoch=850 \t reward=-567.0\t epsilon=0.5029\n",
      "Epoch=900 \t reward=-445.0\t epsilon=0.4854\n",
      "Epoch=950 \t reward=-724.0\t epsilon=0.4679\n",
      "Epoch=1000 \t reward=-337.0\t epsilon=0.4504\n",
      "Epoch=1050 \t reward=-517.0\t epsilon=0.4329\n",
      "Epoch=1100 \t reward=-412.0\t epsilon=0.4154\n",
      "Epoch=1150 \t reward=-502.0\t epsilon=0.3979\n",
      "Epoch=1200 \t reward=-396.0\t epsilon=0.3804\n",
      "Epoch=1250 \t reward=-358.0\t epsilon=0.3629\n",
      "Epoch=1300 \t reward=-295.0\t epsilon=0.3454\n",
      "Epoch=1350 \t reward=-272.0\t epsilon=0.3279\n",
      "Epoch=1400 \t reward=-263.0\t epsilon=0.3104\n",
      "Epoch=1450 \t reward=-280.0\t epsilon=0.2929\n",
      "Epoch=1500 \t reward=-299.0\t epsilon=0.2754\n",
      "Epoch=1550 \t reward=-415.0\t epsilon=0.2579\n",
      "Epoch=1600 \t reward=-334.0\t epsilon=0.2404\n",
      "Epoch=1650 \t reward=-266.0\t epsilon=0.2229\n",
      "Epoch=1700 \t reward=-296.0\t epsilon=0.2054\n",
      "Epoch=1750 \t reward=-403.0\t epsilon=0.1879\n",
      "Epoch=1800 \t reward=-293.0\t epsilon=0.1704\n",
      "Epoch=1850 \t reward=-273.0\t epsilon=0.1529\n",
      "Epoch=1900 \t reward=-229.0\t epsilon=0.1354\n",
      "Epoch=1950 \t reward=-234.0\t epsilon=0.1179\n",
      "Epoch=2000 \t reward=-194.0\t epsilon=0.1004\n"
     ]
    }
   ],
   "source": [
    "rewards = train(agent2, n_epochs=2000, sarsa=True)"
   ]
  },
  {
   "cell_type": "code",
   "execution_count": 10,
   "metadata": {},
   "outputs": [
    {
     "data": {
      "image/png": "[encoded data removed]",
      "text/plain": [
       "<Figure size 432x288 with 1 Axes>"
      ]
     },
     "metadata": {
      "needs_background": "light"
     },
     "output_type": "display_data"
    }
   ],
   "source": [
    "plt.plot(rewards)\n",
    "plt.ylabel('Reward')\n",
    "plt.xlabel('Episode')\n",
    "plt.show()"
   ]
  },
  {
   "cell_type": "code",
   "execution_count": 11,
   "metadata": {},
   "outputs": [],
   "source": [
    "from time import sleep\n",
    "\n",
    "def play_game(agent):\n",
    "    for i in range(3):\n",
    "        state = env.reset()\n",
    "        done = False\n",
    "        reward_sum = 0\n",
    "        while not done:\n",
    "            env.render()\n",
    "            action = agent.get_greedy_action(state)\n",
    "\n",
    "            state, reward, done, _ = env.step(action)\n",
    "            reward_sum += reward\n",
    "\n",
    "            sleep(0.01)\n",
    "        print(\"Episode finished. Reward={:.4f}\".format(reward_sum))"
   ]
  },
  {
   "cell_type": "code",
   "execution_count": 12,
   "metadata": {},
   "outputs": [
    {
     "name": "stdout",
     "output_type": "stream",
     "text": [
      "Episode finished. Reward=-251.0000\n",
      "Episode finished. Reward=-233.0000\n",
      "Episode finished. Reward=-250.0000\n"
     ]
    }
   ],
   "source": [
    "play_game(agent=agent1)"
   ]
  },
  {
   "cell_type": "code",
   "execution_count": null,
   "metadata": {},
   "outputs": [],
   "source": []
  }
 ],
 "metadata": {
  "kernelspec": {
   "display_name": "Python 3",
   "language": "python",
   "name": "python3"
  },
  "language_info": {
   "codemirror_mode": {
    "name": "ipython",
    "version": 3
   },
   "file_extension": ".py",
   "mimetype": "text/x-python",
   "name": "python",
   "nbconvert_exporter": "python",
   "pygments_lexer": "ipython3",
   "version": "3.7.4"
  }
 },
 "nbformat": 4,
 "nbformat_minor": 4
}
