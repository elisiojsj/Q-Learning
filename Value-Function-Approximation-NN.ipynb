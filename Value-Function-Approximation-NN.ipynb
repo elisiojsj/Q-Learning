{
 "cells": [
  {
   "cell_type": "markdown",
   "metadata": {},
   "source": [
    "## Value Function Approximation (using a Neural Network)\n",
    "This code is based on the Lecture 6 from the excelent [course on Reinforcement Learning](http://www0.cs.ucl.ac.uk/staff/d.silver/web/Teaching.html) by David Silver"
   ]
  },
  {
   "cell_type": "code",
   "execution_count": 261,
   "metadata": {},
   "outputs": [],
   "source": [
    "import numpy as np\n",
    "import torch\n",
    "import torch.nn as nn\n",
    "\n",
    "import gym\n",
    "import matplotlib.pyplot as plt\n",
    "%matplotlib inline"
   ]
  },
  {
   "cell_type": "code",
   "execution_count": 262,
   "metadata": {},
   "outputs": [
    {
     "name": "stdout",
     "output_type": "stream",
     "text": [
      "Number of possible actions: 2\n",
      "Number of possible states: Box(4,)\n"
     ]
    },
    {
     "data": {
      "text/plain": [
       "<matplotlib.image.AxesImage at 0x7f8b10353390>"
      ]
     },
     "execution_count": 262,
     "metadata": {},
     "output_type": "execute_result"
    },
    {
     "data": {
      "image/png": "[encoded data removed]",
      "text/plain": [
       "<Figure size 432x288 with 1 Axes>"
      ]
     },
     "metadata": {
      "needs_background": "light"
     },
     "output_type": "display_data"
    }
   ],
   "source": [
    "\"\"\"\n",
    "Cart-pole environment.\n",
    "https://github.com/openai/gym/blob/master/gym/envs/classic_control/cartpole.py\n",
    "\n",
    "A pole is attached by an un-actuated joint to a cart, which moves along a frictionless track. \n",
    "The pendulum starts upright, and the goal is to prevent it from falling over by increasing and \n",
    "reducing the cart's velocity.\n",
    "\n",
    "Observation: \n",
    "    Type: Box(4)\n",
    "    Num\tObservation                 Min         Max\n",
    "    0\tCart Position             -4.8            4.8\n",
    "    1\tCart Velocity             -Inf            Inf\n",
    "    2\tPole Angle                 -24 deg        24 deg\n",
    "    3\tPole Velocity At Tip      -Inf            Inf\n",
    "\n",
    "Actions:\n",
    "    Type: Discrete(2)\n",
    "    Num\tAction\n",
    "    0\tPush cart to the left\n",
    "    1\tPush cart to the right\n",
    "\"\"\" \n",
    "\n",
    "\n",
    "env = gym.make(\"CartPole-v0\").env\n",
    "\n",
    "print(\"Number of possible actions:\", env.action_space.n)\n",
    "print(\"Number of possible states:\", env.observation_space)\n",
    "\n",
    "env.reset()\n",
    "plt.imshow(env.render(\"rgb_array\"))"
   ]
  },
  {
   "cell_type": "code",
   "execution_count": 263,
   "metadata": {},
   "outputs": [
    {
     "name": "stdout",
     "output_type": "stream",
     "text": [
      "Using device: cpu\n"
     ]
    }
   ],
   "source": [
    "#device = torch.device(\"cuda\" if torch.cuda.is_available() else \"cpu\")\n",
    "device = \"cpu\"\n",
    "print(\"Using device:\", device)"
   ]
  },
  {
   "cell_type": "code",
   "execution_count": 264,
   "metadata": {},
   "outputs": [],
   "source": [
    "class qAgent:\n",
    "    def __init__(self, n_action_space, n_observation_space, epsilon, alpha, discount_factor):\n",
    "        self.n_action_space = n_action_space\n",
    "        self.n_observation_space = n_observation_space\n",
    "        \n",
    "        self.epsilon = epsilon\n",
    "        self.alpha = alpha\n",
    "        self.discount_factor = discount_factor\n",
    "        \n",
    "        self.qnetwork = nn.Sequential(\n",
    "                    nn.Linear(n_observation_space[0], 128),\n",
    "                    nn.ReLU(),\n",
    "                    nn.Linear(128, 64),\n",
    "                    nn.ReLU(),\n",
    "                    nn.Linear(64, n_action_space)\n",
    "        )\n",
    "        \n",
    "    def get_action_epsilon_greedy(self, state):    \n",
    "        # the action returned either will be random or the greedy\n",
    "        if np.random.rand() < self.epsilon:\n",
    "            action = np.random.choice(self.n_action_space) # return a random action\n",
    "        else: # else, be greedy\n",
    "            state = torch.tensor(state, dtype=torch.float32, device=device)\n",
    "            qvalues = self.qnetwork(state).detach().numpy() # returns a new Tensor, detached from the current graph.\n",
    "            action = np.argmax(qvalues) \n",
    "        return action\n",
    "    \n",
    "    def get_qvalues(self, state):\n",
    "        return self.qnetwork(state)\n",
    "   \n",
    "    def calculate_loss(self, state, action, new_state, reward, done):\n",
    "        # convert variables to tensor\n",
    "        state = torch.tensor(state, dtype=torch.float32, device=device)\n",
    "        reward = torch.tensor(reward, dtype=torch.float32, device=device)\n",
    "        new_state = torch.tensor(new_state, dtype=torch.float32, device=device)\n",
    "\n",
    "        # predict all q-values for current state\n",
    "        all_qvalues_state = self.get_qvalues(state)\n",
    "       \n",
    "        # select the q_value for the agent action\n",
    "        qvalue_state = all_qvalues_state[action]\n",
    "        \n",
    "        # predict all q-values for the new state \n",
    "        all_qvalues_new_state = self.get_qvalues(new_state)\n",
    "       \n",
    "        # index of action that maximizes the new state q(s,a)\n",
    "        argmax_new_action = torch.argmax(all_qvalues_new_state)\n",
    "        # select the q-value for the new state for the action that maximises it, q'(s',amax)\n",
    "        qvalue_new_state =  all_qvalues_new_state[argmax_new_action]\n",
    "        \n",
    " \n",
    "        # if it's a terminal state (done) the target it receives only the value of the reward\n",
    "        if done:\n",
    "            max_qvalue_new_state = reward\n",
    "        else:\n",
    "            max_qvalue_new_state = reward + self.discount_factor*qvalue_new_state\n",
    "\n",
    "        # loss = mean squared error \n",
    "        loss = torch.mean(torch.pow(qvalue_state - max_qvalue_new_state.detach(), 2))\n",
    "        \n",
    "        return loss"
   ]
  },
  {
   "cell_type": "code",
   "execution_count": 265,
   "metadata": {},
   "outputs": [],
   "source": [
    "# hyperparameters\n",
    "epsilon = 0.5\n",
    "alpha = 0.5\n",
    "discount_factor = 0.99\n",
    "\n",
    "agent = qAgent(n_action_space=env.action_space.n,\n",
    "               n_observation_space=env.observation_space.shape,\n",
    "               epsilon=epsilon,\n",
    "               alpha=alpha,\n",
    "               discount_factor=discount_factor)\n"
   ]
  },
  {
   "cell_type": "code",
   "execution_count": 266,
   "metadata": {},
   "outputs": [],
   "source": [
    "learning_rate = 0.0001\n",
    "optimiser = torch.optim.Adam(agent.qnetwork.parameters(), lr=learning_rate)"
   ]
  },
  {
   "cell_type": "code",
   "execution_count": 267,
   "metadata": {},
   "outputs": [],
   "source": [
    "def train(trials_episode=100, solved_reward=200, n_epochs=1000):\n",
    "    total_reward = []\n",
    "    \n",
    "    for epoch in range(n_epochs):\n",
    "        \n",
    "        rewards_epoch = []\n",
    "        for trial in range(trials_episode):\n",
    "            state = env.reset()\n",
    "            done = False\n",
    "            ep_rewards = 0.0\n",
    "            while not done:\n",
    "                action = agent.get_action_epsilon_greedy(state)\n",
    "\n",
    "                new_state, reward, done, info = env.step(action)\n",
    "\n",
    "                optimiser.zero_grad()\n",
    "                loss = agent.calculate_loss(state, action, new_state, reward, done)\n",
    "                loss.backward()\n",
    "                optimiser.step()\n",
    "\n",
    "                state = new_state\n",
    "                ep_rewards += reward\n",
    "\n",
    "            rewards_epoch.append(ep_rewards)\n",
    "            total_reward.append(ep_rewards)\n",
    "        \n",
    "        print(\"Epoch={} \\t epsilon={:.2f}\\t reward(mean)={:.2f}\".format(epoch+1, agent.epsilon, np.mean(rewards_epoch)))    \n",
    "        agent.epsilon *= 0.95\n",
    "        if np.mean(rewards_epoch) > solved_reward:\n",
    "            break\n",
    "            \n",
    "    return total_reward"
   ]
  },
  {
   "cell_type": "code",
   "execution_count": 268,
   "metadata": {},
   "outputs": [
    {
     "name": "stdout",
     "output_type": "stream",
     "text": [
      "Epoch=1 \t epsilon=0.50\t reward(mean)=13.04\n",
      "Epoch=2 \t epsilon=0.47\t reward(mean)=13.63\n",
      "Epoch=3 \t epsilon=0.45\t reward(mean)=13.43\n",
      "Epoch=4 \t epsilon=0.43\t reward(mean)=13.24\n",
      "Epoch=5 \t epsilon=0.41\t reward(mean)=13.86\n",
      "Epoch=6 \t epsilon=0.39\t reward(mean)=15.76\n",
      "Epoch=7 \t epsilon=0.37\t reward(mean)=30.35\n",
      "Epoch=8 \t epsilon=0.35\t reward(mean)=37.86\n",
      "Epoch=9 \t epsilon=0.33\t reward(mean)=45.50\n",
      "Epoch=10 \t epsilon=0.32\t reward(mean)=54.64\n",
      "Epoch=11 \t epsilon=0.30\t reward(mean)=57.32\n",
      "Epoch=12 \t epsilon=0.28\t reward(mean)=89.59\n",
      "Epoch=13 \t epsilon=0.27\t reward(mean)=88.74\n",
      "Epoch=14 \t epsilon=0.26\t reward(mean)=142.56\n",
      "Epoch=15 \t epsilon=0.24\t reward(mean)=175.87\n",
      "Epoch=16 \t epsilon=0.23\t reward(mean)=153.99\n",
      "Epoch=17 \t epsilon=0.22\t reward(mean)=128.88\n",
      "Epoch=18 \t epsilon=0.21\t reward(mean)=141.16\n",
      "Epoch=19 \t epsilon=0.20\t reward(mean)=127.62\n",
      "Epoch=20 \t epsilon=0.19\t reward(mean)=168.68\n",
      "Epoch=21 \t epsilon=0.18\t reward(mean)=178.04\n",
      "Epoch=22 \t epsilon=0.17\t reward(mean)=123.17\n",
      "Epoch=23 \t epsilon=0.16\t reward(mean)=152.07\n",
      "Epoch=24 \t epsilon=0.15\t reward(mean)=144.33\n",
      "Epoch=25 \t epsilon=0.15\t reward(mean)=248.68\n"
     ]
    },
    {
     "data": {
      "image/png": "[encoded data removed]",
      "text/plain": [
       "<Figure size 432x288 with 1 Axes>"
      ]
     },
     "metadata": {
      "needs_background": "light"
     },
     "output_type": "display_data"
    }
   ],
   "source": [
    "# CartPole-v0 defines \"solving\" as getting average reward of 195.0 over 100 consecutive trials.\n",
    "# https://github.com/openai/gym/wiki/Leaderboard\n",
    "\n",
    "rewards = train(trials_episode=100, solved_reward=200, n_epochs=1000)\n",
    "\n",
    "plt.plot(rewards)\n",
    "plt.ylabel('Reward')\n",
    "plt.xlabel('Episode')\n",
    "plt.show()\n"
   ]
  }
 ],
 "metadata": {
  "kernelspec": {
   "display_name": "Python 3",
   "language": "python",
   "name": "python3"
  },
  "language_info": {
   "codemirror_mode": {
    "name": "ipython",
    "version": 3
   },
   "file_extension": ".py",
   "mimetype": "text/x-python",
   "name": "python",
   "nbconvert_exporter": "python",
   "pygments_lexer": "ipython3",
   "version": "3.7.4"
  }
 },
 "nbformat": 4,
 "nbformat_minor": 4
}
